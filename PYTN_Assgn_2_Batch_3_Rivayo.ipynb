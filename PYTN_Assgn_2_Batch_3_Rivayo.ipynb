{
 "cells": [
  {
   "cell_type": "code",
   "execution_count": 1,
   "id": "1513c8b0",
   "metadata": {},
   "outputs": [
    {
     "name": "stdout",
     "output_type": "stream",
     "text": [
      "Defaulting to user installation because normal site-packages is not writeable\n",
      "Requirement already satisfied: wordcloud in c:\\users\\hp\\appdata\\roaming\\python\\python39\\site-packages (1.8.2.2)\n",
      "Requirement already satisfied: numpy>=1.6.1 in c:\\programdata\\anaconda3\\lib\\site-packages (from wordcloud) (1.21.5)\n",
      "Requirement already satisfied: matplotlib in c:\\programdata\\anaconda3\\lib\\site-packages (from wordcloud) (3.5.1)\n",
      "Requirement already satisfied: pillow in c:\\programdata\\anaconda3\\lib\\site-packages (from wordcloud) (9.0.1)\n",
      "Requirement already satisfied: cycler>=0.10 in c:\\programdata\\anaconda3\\lib\\site-packages (from matplotlib->wordcloud) (0.11.0)\n",
      "Requirement already satisfied: packaging>=20.0 in c:\\programdata\\anaconda3\\lib\\site-packages (from matplotlib->wordcloud) (21.3)\n",
      "Requirement already satisfied: pyparsing>=2.2.1 in c:\\programdata\\anaconda3\\lib\\site-packages (from matplotlib->wordcloud) (3.0.4)\n",
      "Requirement already satisfied: kiwisolver>=1.0.1 in c:\\programdata\\anaconda3\\lib\\site-packages (from matplotlib->wordcloud) (1.3.2)\n",
      "Requirement already satisfied: fonttools>=4.22.0 in c:\\programdata\\anaconda3\\lib\\site-packages (from matplotlib->wordcloud) (4.25.0)\n",
      "Requirement already satisfied: python-dateutil>=2.7 in c:\\programdata\\anaconda3\\lib\\site-packages (from matplotlib->wordcloud) (2.8.2)\n",
      "Requirement already satisfied: six>=1.5 in c:\\programdata\\anaconda3\\lib\\site-packages (from python-dateutil>=2.7->matplotlib->wordcloud) (1.16.0)\n",
      "Defaulting to user installation because normal site-packages is not writeable\n"
     ]
    },
    {
     "name": "stderr",
     "output_type": "stream",
     "text": [
      "ERROR: Could not find a version that satisfies the requirement PyQt5==5.9.2 (from versions: 5.12.3, 5.14.0, 5.14.1, 5.14.2, 5.15.0, 5.15.1, 5.15.2, 5.15.3, 5.15.4, 5.15.5, 5.15.6, 5.15.7)\n",
      "ERROR: No matching distribution found for PyQt5==5.9.2\n"
     ]
    },
    {
     "name": "stdout",
     "output_type": "stream",
     "text": [
      "Defaulting to user installation because normal site-packages is not writeable\n",
      "Requirement already satisfied: tk in c:\\users\\hp\\appdata\\roaming\\python\\python39\\site-packages (0.1.0)\n"
     ]
    }
   ],
   "source": [
    "# mengimport library yang dibutuhkan\n",
    "import numpy as np\n",
    "import matplotlib as mpl\n",
    "import matplotlib.pyplot as plt\n",
    "import pandas as pd\n",
    "!pip install wordcloud\n",
    "!pip3 install PyQt5==5.9.2\n",
    "!pip install tk\n",
    "from tkinter import *\n",
    "from wordcloud import WordCloud, STOPWORDS\n",
    "import sys\n",
    "import seaborn as sns\n",
    "import string\n",
    "import datetime\n",
    "import statsmodels.api as sm\n",
    "import warnings\n",
    "warnings.filterwarnings(\"ignore\")\n",
    "%matplotlib inline "
   ]
  },
  {
   "cell_type": "code",
   "execution_count": 2,
   "id": "c27f3c18",
   "metadata": {},
   "outputs": [
    {
     "data": {
      "text/html": [
       "<div>\n",
       "<style scoped>\n",
       "    .dataframe tbody tr th:only-of-type {\n",
       "        vertical-align: middle;\n",
       "    }\n",
       "\n",
       "    .dataframe tbody tr th {\n",
       "        vertical-align: top;\n",
       "    }\n",
       "\n",
       "    .dataframe thead th {\n",
       "        text-align: right;\n",
       "    }\n",
       "</style>\n",
       "<table border=\"1\" class=\"dataframe\">\n",
       "  <thead>\n",
       "    <tr style=\"text-align: right;\">\n",
       "      <th></th>\n",
       "      <th>Unnamed: 0</th>\n",
       "      <th>BOROUGH</th>\n",
       "      <th>NEIGHBORHOOD</th>\n",
       "      <th>BUILDING CLASS CATEGORY</th>\n",
       "      <th>TAX CLASS AT PRESENT</th>\n",
       "      <th>BLOCK</th>\n",
       "      <th>LOT</th>\n",
       "      <th>EASE-MENT</th>\n",
       "      <th>BUILDING CLASS AT PRESENT</th>\n",
       "      <th>ADDRESS</th>\n",
       "      <th>...</th>\n",
       "      <th>RESIDENTIAL UNITS</th>\n",
       "      <th>COMMERCIAL UNITS</th>\n",
       "      <th>TOTAL UNITS</th>\n",
       "      <th>LAND SQUARE FEET</th>\n",
       "      <th>GROSS SQUARE FEET</th>\n",
       "      <th>YEAR BUILT</th>\n",
       "      <th>TAX CLASS AT TIME OF SALE</th>\n",
       "      <th>BUILDING CLASS AT TIME OF SALE</th>\n",
       "      <th>SALE PRICE</th>\n",
       "      <th>SALE DATE</th>\n",
       "    </tr>\n",
       "  </thead>\n",
       "  <tbody>\n",
       "    <tr>\n",
       "      <th>0</th>\n",
       "      <td>4</td>\n",
       "      <td>1</td>\n",
       "      <td>ALPHABET CITY</td>\n",
       "      <td>07 RENTALS - WALKUP APARTMENTS</td>\n",
       "      <td>2A</td>\n",
       "      <td>392</td>\n",
       "      <td>6</td>\n",
       "      <td>NaN</td>\n",
       "      <td>C2</td>\n",
       "      <td>153 AVENUE B</td>\n",
       "      <td>...</td>\n",
       "      <td>5</td>\n",
       "      <td>0</td>\n",
       "      <td>5</td>\n",
       "      <td>1633</td>\n",
       "      <td>6440</td>\n",
       "      <td>1900</td>\n",
       "      <td>2</td>\n",
       "      <td>C2</td>\n",
       "      <td>6625000</td>\n",
       "      <td>2017-07-19 00:00:00</td>\n",
       "    </tr>\n",
       "    <tr>\n",
       "      <th>1</th>\n",
       "      <td>5</td>\n",
       "      <td>1</td>\n",
       "      <td>ALPHABET CITY</td>\n",
       "      <td>07 RENTALS - WALKUP APARTMENTS</td>\n",
       "      <td>2</td>\n",
       "      <td>399</td>\n",
       "      <td>26</td>\n",
       "      <td>NaN</td>\n",
       "      <td>C7</td>\n",
       "      <td>234 EAST 4TH   STREET</td>\n",
       "      <td>...</td>\n",
       "      <td>28</td>\n",
       "      <td>3</td>\n",
       "      <td>31</td>\n",
       "      <td>4616</td>\n",
       "      <td>18690</td>\n",
       "      <td>1900</td>\n",
       "      <td>2</td>\n",
       "      <td>C7</td>\n",
       "      <td>-</td>\n",
       "      <td>2016-12-14 00:00:00</td>\n",
       "    </tr>\n",
       "    <tr>\n",
       "      <th>2</th>\n",
       "      <td>6</td>\n",
       "      <td>1</td>\n",
       "      <td>ALPHABET CITY</td>\n",
       "      <td>07 RENTALS - WALKUP APARTMENTS</td>\n",
       "      <td>2</td>\n",
       "      <td>399</td>\n",
       "      <td>39</td>\n",
       "      <td>NaN</td>\n",
       "      <td>C7</td>\n",
       "      <td>197 EAST 3RD   STREET</td>\n",
       "      <td>...</td>\n",
       "      <td>16</td>\n",
       "      <td>1</td>\n",
       "      <td>17</td>\n",
       "      <td>2212</td>\n",
       "      <td>7803</td>\n",
       "      <td>1900</td>\n",
       "      <td>2</td>\n",
       "      <td>C7</td>\n",
       "      <td>-</td>\n",
       "      <td>2016-12-09 00:00:00</td>\n",
       "    </tr>\n",
       "    <tr>\n",
       "      <th>3</th>\n",
       "      <td>7</td>\n",
       "      <td>1</td>\n",
       "      <td>ALPHABET CITY</td>\n",
       "      <td>07 RENTALS - WALKUP APARTMENTS</td>\n",
       "      <td>2B</td>\n",
       "      <td>402</td>\n",
       "      <td>21</td>\n",
       "      <td>NaN</td>\n",
       "      <td>C4</td>\n",
       "      <td>154 EAST 7TH STREET</td>\n",
       "      <td>...</td>\n",
       "      <td>10</td>\n",
       "      <td>0</td>\n",
       "      <td>10</td>\n",
       "      <td>2272</td>\n",
       "      <td>6794</td>\n",
       "      <td>1913</td>\n",
       "      <td>2</td>\n",
       "      <td>C4</td>\n",
       "      <td>3936272</td>\n",
       "      <td>2016-09-23 00:00:00</td>\n",
       "    </tr>\n",
       "    <tr>\n",
       "      <th>4</th>\n",
       "      <td>8</td>\n",
       "      <td>1</td>\n",
       "      <td>ALPHABET CITY</td>\n",
       "      <td>07 RENTALS - WALKUP APARTMENTS</td>\n",
       "      <td>2A</td>\n",
       "      <td>404</td>\n",
       "      <td>55</td>\n",
       "      <td>NaN</td>\n",
       "      <td>C2</td>\n",
       "      <td>301 EAST 10TH   STREET</td>\n",
       "      <td>...</td>\n",
       "      <td>6</td>\n",
       "      <td>0</td>\n",
       "      <td>6</td>\n",
       "      <td>2369</td>\n",
       "      <td>4615</td>\n",
       "      <td>1900</td>\n",
       "      <td>2</td>\n",
       "      <td>C2</td>\n",
       "      <td>8000000</td>\n",
       "      <td>2016-11-17 00:00:00</td>\n",
       "    </tr>\n",
       "    <tr>\n",
       "      <th>...</th>\n",
       "      <td>...</td>\n",
       "      <td>...</td>\n",
       "      <td>...</td>\n",
       "      <td>...</td>\n",
       "      <td>...</td>\n",
       "      <td>...</td>\n",
       "      <td>...</td>\n",
       "      <td>...</td>\n",
       "      <td>...</td>\n",
       "      <td>...</td>\n",
       "      <td>...</td>\n",
       "      <td>...</td>\n",
       "      <td>...</td>\n",
       "      <td>...</td>\n",
       "      <td>...</td>\n",
       "      <td>...</td>\n",
       "      <td>...</td>\n",
       "      <td>...</td>\n",
       "      <td>...</td>\n",
       "      <td>...</td>\n",
       "      <td>...</td>\n",
       "    </tr>\n",
       "    <tr>\n",
       "      <th>84543</th>\n",
       "      <td>8409</td>\n",
       "      <td>5</td>\n",
       "      <td>WOODROW</td>\n",
       "      <td>02 TWO FAMILY DWELLINGS</td>\n",
       "      <td>1</td>\n",
       "      <td>7349</td>\n",
       "      <td>34</td>\n",
       "      <td>NaN</td>\n",
       "      <td>B9</td>\n",
       "      <td>37 QUAIL LANE</td>\n",
       "      <td>...</td>\n",
       "      <td>2</td>\n",
       "      <td>0</td>\n",
       "      <td>2</td>\n",
       "      <td>2400</td>\n",
       "      <td>2575</td>\n",
       "      <td>1998</td>\n",
       "      <td>1</td>\n",
       "      <td>B9</td>\n",
       "      <td>450000</td>\n",
       "      <td>2016-11-28 00:00:00</td>\n",
       "    </tr>\n",
       "    <tr>\n",
       "      <th>84544</th>\n",
       "      <td>8410</td>\n",
       "      <td>5</td>\n",
       "      <td>WOODROW</td>\n",
       "      <td>02 TWO FAMILY DWELLINGS</td>\n",
       "      <td>1</td>\n",
       "      <td>7349</td>\n",
       "      <td>78</td>\n",
       "      <td>NaN</td>\n",
       "      <td>B9</td>\n",
       "      <td>32 PHEASANT LANE</td>\n",
       "      <td>...</td>\n",
       "      <td>2</td>\n",
       "      <td>0</td>\n",
       "      <td>2</td>\n",
       "      <td>2498</td>\n",
       "      <td>2377</td>\n",
       "      <td>1998</td>\n",
       "      <td>1</td>\n",
       "      <td>B9</td>\n",
       "      <td>550000</td>\n",
       "      <td>2017-04-21 00:00:00</td>\n",
       "    </tr>\n",
       "    <tr>\n",
       "      <th>84545</th>\n",
       "      <td>8411</td>\n",
       "      <td>5</td>\n",
       "      <td>WOODROW</td>\n",
       "      <td>02 TWO FAMILY DWELLINGS</td>\n",
       "      <td>1</td>\n",
       "      <td>7351</td>\n",
       "      <td>60</td>\n",
       "      <td>NaN</td>\n",
       "      <td>B2</td>\n",
       "      <td>49 PITNEY AVENUE</td>\n",
       "      <td>...</td>\n",
       "      <td>2</td>\n",
       "      <td>0</td>\n",
       "      <td>2</td>\n",
       "      <td>4000</td>\n",
       "      <td>1496</td>\n",
       "      <td>1925</td>\n",
       "      <td>1</td>\n",
       "      <td>B2</td>\n",
       "      <td>460000</td>\n",
       "      <td>2017-07-05 00:00:00</td>\n",
       "    </tr>\n",
       "    <tr>\n",
       "      <th>84546</th>\n",
       "      <td>8412</td>\n",
       "      <td>5</td>\n",
       "      <td>WOODROW</td>\n",
       "      <td>22 STORE BUILDINGS</td>\n",
       "      <td>4</td>\n",
       "      <td>7100</td>\n",
       "      <td>28</td>\n",
       "      <td>NaN</td>\n",
       "      <td>K6</td>\n",
       "      <td>2730 ARTHUR KILL ROAD</td>\n",
       "      <td>...</td>\n",
       "      <td>0</td>\n",
       "      <td>7</td>\n",
       "      <td>7</td>\n",
       "      <td>208033</td>\n",
       "      <td>64117</td>\n",
       "      <td>2001</td>\n",
       "      <td>4</td>\n",
       "      <td>K6</td>\n",
       "      <td>11693337</td>\n",
       "      <td>2016-12-21 00:00:00</td>\n",
       "    </tr>\n",
       "    <tr>\n",
       "      <th>84547</th>\n",
       "      <td>8413</td>\n",
       "      <td>5</td>\n",
       "      <td>WOODROW</td>\n",
       "      <td>35 INDOOR PUBLIC AND CULTURAL FACILITIES</td>\n",
       "      <td>4</td>\n",
       "      <td>7105</td>\n",
       "      <td>679</td>\n",
       "      <td>NaN</td>\n",
       "      <td>P9</td>\n",
       "      <td>155 CLAY PIT ROAD</td>\n",
       "      <td>...</td>\n",
       "      <td>0</td>\n",
       "      <td>1</td>\n",
       "      <td>1</td>\n",
       "      <td>10796</td>\n",
       "      <td>2400</td>\n",
       "      <td>2006</td>\n",
       "      <td>4</td>\n",
       "      <td>P9</td>\n",
       "      <td>69300</td>\n",
       "      <td>2016-10-27 00:00:00</td>\n",
       "    </tr>\n",
       "  </tbody>\n",
       "</table>\n",
       "<p>84548 rows × 22 columns</p>\n",
       "</div>"
      ],
      "text/plain": [
       "       Unnamed: 0  BOROUGH   NEIGHBORHOOD  \\\n",
       "0               4        1  ALPHABET CITY   \n",
       "1               5        1  ALPHABET CITY   \n",
       "2               6        1  ALPHABET CITY   \n",
       "3               7        1  ALPHABET CITY   \n",
       "4               8        1  ALPHABET CITY   \n",
       "...           ...      ...            ...   \n",
       "84543        8409        5        WOODROW   \n",
       "84544        8410        5        WOODROW   \n",
       "84545        8411        5        WOODROW   \n",
       "84546        8412        5        WOODROW   \n",
       "84547        8413        5        WOODROW   \n",
       "\n",
       "                           BUILDING CLASS CATEGORY TAX CLASS AT PRESENT  \\\n",
       "0      07 RENTALS - WALKUP APARTMENTS                                2A   \n",
       "1      07 RENTALS - WALKUP APARTMENTS                                 2   \n",
       "2      07 RENTALS - WALKUP APARTMENTS                                 2   \n",
       "3      07 RENTALS - WALKUP APARTMENTS                                2B   \n",
       "4      07 RENTALS - WALKUP APARTMENTS                                2A   \n",
       "...                                            ...                  ...   \n",
       "84543  02 TWO FAMILY DWELLINGS                                        1   \n",
       "84544  02 TWO FAMILY DWELLINGS                                        1   \n",
       "84545  02 TWO FAMILY DWELLINGS                                        1   \n",
       "84546  22 STORE BUILDINGS                                             4   \n",
       "84547  35 INDOOR PUBLIC AND CULTURAL FACILITIES                       4   \n",
       "\n",
       "       BLOCK  LOT  EASE-MENT BUILDING CLASS AT PRESENT  \\\n",
       "0        392    6        NaN                        C2   \n",
       "1        399   26        NaN                        C7   \n",
       "2        399   39        NaN                        C7   \n",
       "3        402   21        NaN                        C4   \n",
       "4        404   55        NaN                        C2   \n",
       "...      ...  ...        ...                       ...   \n",
       "84543   7349   34        NaN                        B9   \n",
       "84544   7349   78        NaN                        B9   \n",
       "84545   7351   60        NaN                        B2   \n",
       "84546   7100   28        NaN                        K6   \n",
       "84547   7105  679        NaN                        P9   \n",
       "\n",
       "                      ADDRESS  ... RESIDENTIAL UNITS  COMMERCIAL UNITS  \\\n",
       "0                153 AVENUE B  ...                 5                 0   \n",
       "1       234 EAST 4TH   STREET  ...                28                 3   \n",
       "2       197 EAST 3RD   STREET  ...                16                 1   \n",
       "3         154 EAST 7TH STREET  ...                10                 0   \n",
       "4      301 EAST 10TH   STREET  ...                 6                 0   \n",
       "...                       ...  ...               ...               ...   \n",
       "84543           37 QUAIL LANE  ...                 2                 0   \n",
       "84544        32 PHEASANT LANE  ...                 2                 0   \n",
       "84545        49 PITNEY AVENUE  ...                 2                 0   \n",
       "84546   2730 ARTHUR KILL ROAD  ...                 0                 7   \n",
       "84547       155 CLAY PIT ROAD  ...                 0                 1   \n",
       "\n",
       "       TOTAL UNITS  LAND SQUARE FEET  GROSS SQUARE FEET YEAR BUILT  \\\n",
       "0                5              1633               6440       1900   \n",
       "1               31              4616              18690       1900   \n",
       "2               17              2212               7803       1900   \n",
       "3               10              2272               6794       1913   \n",
       "4                6              2369               4615       1900   \n",
       "...            ...               ...                ...        ...   \n",
       "84543            2              2400               2575       1998   \n",
       "84544            2              2498               2377       1998   \n",
       "84545            2              4000               1496       1925   \n",
       "84546            7            208033              64117       2001   \n",
       "84547            1             10796               2400       2006   \n",
       "\n",
       "      TAX CLASS AT TIME OF SALE  BUILDING CLASS AT TIME OF SALE  SALE PRICE  \\\n",
       "0                             2                              C2     6625000   \n",
       "1                             2                              C7         -     \n",
       "2                             2                              C7         -     \n",
       "3                             2                              C4     3936272   \n",
       "4                             2                              C2     8000000   \n",
       "...                         ...                             ...         ...   \n",
       "84543                         1                              B9      450000   \n",
       "84544                         1                              B9      550000   \n",
       "84545                         1                              B2      460000   \n",
       "84546                         4                              K6    11693337   \n",
       "84547                         4                              P9       69300   \n",
       "\n",
       "                 SALE DATE  \n",
       "0      2017-07-19 00:00:00  \n",
       "1      2016-12-14 00:00:00  \n",
       "2      2016-12-09 00:00:00  \n",
       "3      2016-09-23 00:00:00  \n",
       "4      2016-11-17 00:00:00  \n",
       "...                    ...  \n",
       "84543  2016-11-28 00:00:00  \n",
       "84544  2017-04-21 00:00:00  \n",
       "84545  2017-07-05 00:00:00  \n",
       "84546  2016-12-21 00:00:00  \n",
       "84547  2016-10-27 00:00:00  \n",
       "\n",
       "[84548 rows x 22 columns]"
      ]
     },
     "execution_count": 2,
     "metadata": {},
     "output_type": "execute_result"
    }
   ],
   "source": [
    "df = pd.read_csv('nyc-rolling-sales.csv.zip', skipinitialspace=True)\n",
    "df"
   ]
  },
  {
   "cell_type": "code",
   "execution_count": 3,
   "id": "fa830d17",
   "metadata": {},
   "outputs": [
    {
     "data": {
      "text/plain": [
       "(84548, 22)"
      ]
     },
     "execution_count": 3,
     "metadata": {},
     "output_type": "execute_result"
    }
   ],
   "source": [
    "df.shape"
   ]
  },
  {
   "cell_type": "code",
   "execution_count": 4,
   "id": "57439f74",
   "metadata": {},
   "outputs": [
    {
     "name": "stdout",
     "output_type": "stream",
     "text": [
      "<class 'pandas.core.frame.DataFrame'>\n",
      "RangeIndex: 84548 entries, 0 to 84547\n",
      "Data columns (total 22 columns):\n",
      " #   Column                          Non-Null Count  Dtype  \n",
      "---  ------                          --------------  -----  \n",
      " 0   Unnamed: 0                      84548 non-null  int64  \n",
      " 1   BOROUGH                         84548 non-null  int64  \n",
      " 2   NEIGHBORHOOD                    84548 non-null  object \n",
      " 3   BUILDING CLASS CATEGORY         84548 non-null  object \n",
      " 4   TAX CLASS AT PRESENT            83810 non-null  object \n",
      " 5   BLOCK                           84548 non-null  int64  \n",
      " 6   LOT                             84548 non-null  int64  \n",
      " 7   EASE-MENT                       0 non-null      float64\n",
      " 8   BUILDING CLASS AT PRESENT       83810 non-null  object \n",
      " 9   ADDRESS                         84548 non-null  object \n",
      " 10  APARTMENT NUMBER                19052 non-null  object \n",
      " 11  ZIP CODE                        84548 non-null  int64  \n",
      " 12  RESIDENTIAL UNITS               84548 non-null  int64  \n",
      " 13  COMMERCIAL UNITS                84548 non-null  int64  \n",
      " 14  TOTAL UNITS                     84548 non-null  int64  \n",
      " 15  LAND SQUARE FEET                84548 non-null  object \n",
      " 16  GROSS SQUARE FEET               84548 non-null  object \n",
      " 17  YEAR BUILT                      84548 non-null  int64  \n",
      " 18  TAX CLASS AT TIME OF SALE       84548 non-null  int64  \n",
      " 19  BUILDING CLASS AT TIME OF SALE  84548 non-null  object \n",
      " 20  SALE PRICE                      84548 non-null  object \n",
      " 21  SALE DATE                       84548 non-null  object \n",
      "dtypes: float64(1), int64(10), object(11)\n",
      "memory usage: 14.2+ MB\n"
     ]
    }
   ],
   "source": [
    "df.info()"
   ]
  },
  {
   "cell_type": "code",
   "execution_count": 5,
   "id": "fc994f51",
   "metadata": {},
   "outputs": [
    {
     "data": {
      "text/plain": [
       "EASE-MENT                         84548\n",
       "APARTMENT NUMBER                  65496\n",
       "TAX CLASS AT PRESENT                738\n",
       "BUILDING CLASS AT PRESENT           738\n",
       "Unnamed: 0                            0\n",
       "COMMERCIAL UNITS                      0\n",
       "SALE PRICE                            0\n",
       "BUILDING CLASS AT TIME OF SALE        0\n",
       "TAX CLASS AT TIME OF SALE             0\n",
       "YEAR BUILT                            0\n",
       "GROSS SQUARE FEET                     0\n",
       "LAND SQUARE FEET                      0\n",
       "TOTAL UNITS                           0\n",
       "ZIP CODE                              0\n",
       "RESIDENTIAL UNITS                     0\n",
       "BOROUGH                               0\n",
       "ADDRESS                               0\n",
       "LOT                                   0\n",
       "BLOCK                                 0\n",
       "BUILDING CLASS CATEGORY               0\n",
       "NEIGHBORHOOD                          0\n",
       "SALE DATE                             0\n",
       "dtype: int64"
      ]
     },
     "execution_count": 5,
     "metadata": {},
     "output_type": "execute_result"
    }
   ],
   "source": [
    "df.isnull().sum().sort_values(ascending=False)"
   ]
  },
  {
   "cell_type": "code",
   "execution_count": 6,
   "id": "be49c329",
   "metadata": {},
   "outputs": [],
   "source": [
    "#menghapus kolom yang tidak diperlukan dalam proses analisis statitiska\n",
    "df.drop('Unnamed: 0', axis=1, inplace=True)"
   ]
  },
  {
   "cell_type": "code",
   "execution_count": 7,
   "id": "6b4015e9",
   "metadata": {},
   "outputs": [],
   "source": [
    "df.drop('EASE-MENT', axis=1, inplace=True)"
   ]
  },
  {
   "cell_type": "code",
   "execution_count": 8,
   "id": "92cc75c4",
   "metadata": {},
   "outputs": [],
   "source": [
    "df.drop(labels=['ADDRESS','APARTMENT NUMBER', 'ZIP CODE'], axis=1, inplace=True)"
   ]
  },
  {
   "cell_type": "code",
   "execution_count": 9,
   "id": "9917c657",
   "metadata": {},
   "outputs": [],
   "source": [
    "#'SALE PRICE' diubah ke tipe numerik, missing value akan diubah menjadi NaN\n",
    "df['SALE PRICE'] = pd.to_numeric(df['SALE PRICE'], errors='coerce')\n",
    "\n",
    "# 'LAND SQUARE FEET' dan 'GROSS SQUARE FEET' diubah ke tipe numerik\n",
    "df['LAND SQUARE FEET'] = pd.to_numeric(df['LAND SQUARE FEET'], errors='coerce')\n",
    "df['GROSS SQUARE FEET'] = pd.to_numeric(df['GROSS SQUARE FEET'], errors='coerce')\n",
    "\n",
    "# 'SALE DATE' harus bertipe datetime\n",
    "df['SALE DATE'] = pd.to_datetime(df['SALE DATE'], errors='coerce')\n",
    "\n",
    "# Kolom-kolom di bawah ini harus categorical\n",
    "categorical = ['NEIGHBORHOOD', 'BUILDING CLASS CATEGORY', 'TAX CLASS AT PRESENT', 'BUILDING CLASS AT PRESENT',\n",
    "         'BUILDING CLASS AT TIME OF SALE', 'TAX CLASS AT TIME OF SALE']\n",
    "for col in categorical:\n",
    "    df[col] = df[col].astype('category')"
   ]
  },
  {
   "cell_type": "code",
   "execution_count": 10,
   "id": "17e24e26",
   "metadata": {},
   "outputs": [
    {
     "name": "stdout",
     "output_type": "stream",
     "text": [
      "<class 'pandas.core.frame.DataFrame'>\n",
      "RangeIndex: 84548 entries, 0 to 84547\n",
      "Data columns (total 17 columns):\n",
      " #   Column                          Non-Null Count  Dtype         \n",
      "---  ------                          --------------  -----         \n",
      " 0   BOROUGH                         84548 non-null  int64         \n",
      " 1   NEIGHBORHOOD                    84548 non-null  category      \n",
      " 2   BUILDING CLASS CATEGORY         84548 non-null  category      \n",
      " 3   TAX CLASS AT PRESENT            83810 non-null  category      \n",
      " 4   BLOCK                           84548 non-null  int64         \n",
      " 5   LOT                             84548 non-null  int64         \n",
      " 6   BUILDING CLASS AT PRESENT       83810 non-null  category      \n",
      " 7   RESIDENTIAL UNITS               84548 non-null  int64         \n",
      " 8   COMMERCIAL UNITS                84548 non-null  int64         \n",
      " 9   TOTAL UNITS                     84548 non-null  int64         \n",
      " 10  LAND SQUARE FEET                58296 non-null  float64       \n",
      " 11  GROSS SQUARE FEET               56936 non-null  float64       \n",
      " 12  YEAR BUILT                      84548 non-null  int64         \n",
      " 13  TAX CLASS AT TIME OF SALE       84548 non-null  category      \n",
      " 14  BUILDING CLASS AT TIME OF SALE  84548 non-null  category      \n",
      " 15  SALE PRICE                      69987 non-null  float64       \n",
      " 16  SALE DATE                       84548 non-null  datetime64[ns]\n",
      "dtypes: category(6), datetime64[ns](1), float64(3), int64(7)\n",
      "memory usage: 7.8 MB\n"
     ]
    }
   ],
   "source": [
    "df.info()"
   ]
  },
  {
   "cell_type": "code",
   "execution_count": 11,
   "id": "9eedd8d3",
   "metadata": {},
   "outputs": [
    {
     "data": {
      "text/html": [
       "<div>\n",
       "<style scoped>\n",
       "    .dataframe tbody tr th:only-of-type {\n",
       "        vertical-align: middle;\n",
       "    }\n",
       "\n",
       "    .dataframe tbody tr th {\n",
       "        vertical-align: top;\n",
       "    }\n",
       "\n",
       "    .dataframe thead th {\n",
       "        text-align: right;\n",
       "    }\n",
       "</style>\n",
       "<table border=\"1\" class=\"dataframe\">\n",
       "  <thead>\n",
       "    <tr style=\"text-align: right;\">\n",
       "      <th></th>\n",
       "      <th>BOROUGH</th>\n",
       "      <th>NEIGHBORHOOD</th>\n",
       "      <th>BUILDING CLASS CATEGORY</th>\n",
       "      <th>TAX CLASS AT PRESENT</th>\n",
       "      <th>BLOCK</th>\n",
       "      <th>LOT</th>\n",
       "      <th>BUILDING CLASS AT PRESENT</th>\n",
       "      <th>RESIDENTIAL UNITS</th>\n",
       "      <th>COMMERCIAL UNITS</th>\n",
       "      <th>TOTAL UNITS</th>\n",
       "      <th>LAND SQUARE FEET</th>\n",
       "      <th>GROSS SQUARE FEET</th>\n",
       "      <th>YEAR BUILT</th>\n",
       "      <th>TAX CLASS AT TIME OF SALE</th>\n",
       "      <th>BUILDING CLASS AT TIME OF SALE</th>\n",
       "      <th>SALE PRICE</th>\n",
       "      <th>SALE DATE</th>\n",
       "    </tr>\n",
       "  </thead>\n",
       "  <tbody>\n",
       "    <tr>\n",
       "      <th>0</th>\n",
       "      <td>1</td>\n",
       "      <td>ALPHABET CITY</td>\n",
       "      <td>07 RENTALS - WALKUP APARTMENTS</td>\n",
       "      <td>2A</td>\n",
       "      <td>392</td>\n",
       "      <td>6</td>\n",
       "      <td>C2</td>\n",
       "      <td>5</td>\n",
       "      <td>0</td>\n",
       "      <td>5</td>\n",
       "      <td>1633.0</td>\n",
       "      <td>6440.0</td>\n",
       "      <td>1900</td>\n",
       "      <td>2</td>\n",
       "      <td>C2</td>\n",
       "      <td>6625000.0</td>\n",
       "      <td>2017-07-19</td>\n",
       "    </tr>\n",
       "    <tr>\n",
       "      <th>1</th>\n",
       "      <td>1</td>\n",
       "      <td>ALPHABET CITY</td>\n",
       "      <td>07 RENTALS - WALKUP APARTMENTS</td>\n",
       "      <td>2</td>\n",
       "      <td>399</td>\n",
       "      <td>26</td>\n",
       "      <td>C7</td>\n",
       "      <td>28</td>\n",
       "      <td>3</td>\n",
       "      <td>31</td>\n",
       "      <td>4616.0</td>\n",
       "      <td>18690.0</td>\n",
       "      <td>1900</td>\n",
       "      <td>2</td>\n",
       "      <td>C7</td>\n",
       "      <td>NaN</td>\n",
       "      <td>2016-12-14</td>\n",
       "    </tr>\n",
       "    <tr>\n",
       "      <th>2</th>\n",
       "      <td>1</td>\n",
       "      <td>ALPHABET CITY</td>\n",
       "      <td>07 RENTALS - WALKUP APARTMENTS</td>\n",
       "      <td>2</td>\n",
       "      <td>399</td>\n",
       "      <td>39</td>\n",
       "      <td>C7</td>\n",
       "      <td>16</td>\n",
       "      <td>1</td>\n",
       "      <td>17</td>\n",
       "      <td>2212.0</td>\n",
       "      <td>7803.0</td>\n",
       "      <td>1900</td>\n",
       "      <td>2</td>\n",
       "      <td>C7</td>\n",
       "      <td>NaN</td>\n",
       "      <td>2016-12-09</td>\n",
       "    </tr>\n",
       "    <tr>\n",
       "      <th>3</th>\n",
       "      <td>1</td>\n",
       "      <td>ALPHABET CITY</td>\n",
       "      <td>07 RENTALS - WALKUP APARTMENTS</td>\n",
       "      <td>2B</td>\n",
       "      <td>402</td>\n",
       "      <td>21</td>\n",
       "      <td>C4</td>\n",
       "      <td>10</td>\n",
       "      <td>0</td>\n",
       "      <td>10</td>\n",
       "      <td>2272.0</td>\n",
       "      <td>6794.0</td>\n",
       "      <td>1913</td>\n",
       "      <td>2</td>\n",
       "      <td>C4</td>\n",
       "      <td>3936272.0</td>\n",
       "      <td>2016-09-23</td>\n",
       "    </tr>\n",
       "    <tr>\n",
       "      <th>4</th>\n",
       "      <td>1</td>\n",
       "      <td>ALPHABET CITY</td>\n",
       "      <td>07 RENTALS - WALKUP APARTMENTS</td>\n",
       "      <td>2A</td>\n",
       "      <td>404</td>\n",
       "      <td>55</td>\n",
       "      <td>C2</td>\n",
       "      <td>6</td>\n",
       "      <td>0</td>\n",
       "      <td>6</td>\n",
       "      <td>2369.0</td>\n",
       "      <td>4615.0</td>\n",
       "      <td>1900</td>\n",
       "      <td>2</td>\n",
       "      <td>C2</td>\n",
       "      <td>8000000.0</td>\n",
       "      <td>2016-11-17</td>\n",
       "    </tr>\n",
       "    <tr>\n",
       "      <th>...</th>\n",
       "      <td>...</td>\n",
       "      <td>...</td>\n",
       "      <td>...</td>\n",
       "      <td>...</td>\n",
       "      <td>...</td>\n",
       "      <td>...</td>\n",
       "      <td>...</td>\n",
       "      <td>...</td>\n",
       "      <td>...</td>\n",
       "      <td>...</td>\n",
       "      <td>...</td>\n",
       "      <td>...</td>\n",
       "      <td>...</td>\n",
       "      <td>...</td>\n",
       "      <td>...</td>\n",
       "      <td>...</td>\n",
       "      <td>...</td>\n",
       "    </tr>\n",
       "    <tr>\n",
       "      <th>84543</th>\n",
       "      <td>5</td>\n",
       "      <td>WOODROW</td>\n",
       "      <td>02 TWO FAMILY DWELLINGS</td>\n",
       "      <td>1</td>\n",
       "      <td>7349</td>\n",
       "      <td>34</td>\n",
       "      <td>B9</td>\n",
       "      <td>2</td>\n",
       "      <td>0</td>\n",
       "      <td>2</td>\n",
       "      <td>2400.0</td>\n",
       "      <td>2575.0</td>\n",
       "      <td>1998</td>\n",
       "      <td>1</td>\n",
       "      <td>B9</td>\n",
       "      <td>450000.0</td>\n",
       "      <td>2016-11-28</td>\n",
       "    </tr>\n",
       "    <tr>\n",
       "      <th>84544</th>\n",
       "      <td>5</td>\n",
       "      <td>WOODROW</td>\n",
       "      <td>02 TWO FAMILY DWELLINGS</td>\n",
       "      <td>1</td>\n",
       "      <td>7349</td>\n",
       "      <td>78</td>\n",
       "      <td>B9</td>\n",
       "      <td>2</td>\n",
       "      <td>0</td>\n",
       "      <td>2</td>\n",
       "      <td>2498.0</td>\n",
       "      <td>2377.0</td>\n",
       "      <td>1998</td>\n",
       "      <td>1</td>\n",
       "      <td>B9</td>\n",
       "      <td>550000.0</td>\n",
       "      <td>2017-04-21</td>\n",
       "    </tr>\n",
       "    <tr>\n",
       "      <th>84545</th>\n",
       "      <td>5</td>\n",
       "      <td>WOODROW</td>\n",
       "      <td>02 TWO FAMILY DWELLINGS</td>\n",
       "      <td>1</td>\n",
       "      <td>7351</td>\n",
       "      <td>60</td>\n",
       "      <td>B2</td>\n",
       "      <td>2</td>\n",
       "      <td>0</td>\n",
       "      <td>2</td>\n",
       "      <td>4000.0</td>\n",
       "      <td>1496.0</td>\n",
       "      <td>1925</td>\n",
       "      <td>1</td>\n",
       "      <td>B2</td>\n",
       "      <td>460000.0</td>\n",
       "      <td>2017-07-05</td>\n",
       "    </tr>\n",
       "    <tr>\n",
       "      <th>84546</th>\n",
       "      <td>5</td>\n",
       "      <td>WOODROW</td>\n",
       "      <td>22 STORE BUILDINGS</td>\n",
       "      <td>4</td>\n",
       "      <td>7100</td>\n",
       "      <td>28</td>\n",
       "      <td>K6</td>\n",
       "      <td>0</td>\n",
       "      <td>7</td>\n",
       "      <td>7</td>\n",
       "      <td>208033.0</td>\n",
       "      <td>64117.0</td>\n",
       "      <td>2001</td>\n",
       "      <td>4</td>\n",
       "      <td>K6</td>\n",
       "      <td>11693337.0</td>\n",
       "      <td>2016-12-21</td>\n",
       "    </tr>\n",
       "    <tr>\n",
       "      <th>84547</th>\n",
       "      <td>5</td>\n",
       "      <td>WOODROW</td>\n",
       "      <td>35 INDOOR PUBLIC AND CULTURAL FACILITIES</td>\n",
       "      <td>4</td>\n",
       "      <td>7105</td>\n",
       "      <td>679</td>\n",
       "      <td>P9</td>\n",
       "      <td>0</td>\n",
       "      <td>1</td>\n",
       "      <td>1</td>\n",
       "      <td>10796.0</td>\n",
       "      <td>2400.0</td>\n",
       "      <td>2006</td>\n",
       "      <td>4</td>\n",
       "      <td>P9</td>\n",
       "      <td>69300.0</td>\n",
       "      <td>2016-10-27</td>\n",
       "    </tr>\n",
       "  </tbody>\n",
       "</table>\n",
       "<p>84548 rows × 17 columns</p>\n",
       "</div>"
      ],
      "text/plain": [
       "       BOROUGH   NEIGHBORHOOD                      BUILDING CLASS CATEGORY  \\\n",
       "0            1  ALPHABET CITY  07 RENTALS - WALKUP APARTMENTS                \n",
       "1            1  ALPHABET CITY  07 RENTALS - WALKUP APARTMENTS                \n",
       "2            1  ALPHABET CITY  07 RENTALS - WALKUP APARTMENTS                \n",
       "3            1  ALPHABET CITY  07 RENTALS - WALKUP APARTMENTS                \n",
       "4            1  ALPHABET CITY  07 RENTALS - WALKUP APARTMENTS                \n",
       "...        ...            ...                                          ...   \n",
       "84543        5        WOODROW  02 TWO FAMILY DWELLINGS                       \n",
       "84544        5        WOODROW  02 TWO FAMILY DWELLINGS                       \n",
       "84545        5        WOODROW  02 TWO FAMILY DWELLINGS                       \n",
       "84546        5        WOODROW  22 STORE BUILDINGS                            \n",
       "84547        5        WOODROW  35 INDOOR PUBLIC AND CULTURAL FACILITIES      \n",
       "\n",
       "      TAX CLASS AT PRESENT  BLOCK  LOT BUILDING CLASS AT PRESENT  \\\n",
       "0                       2A    392    6                        C2   \n",
       "1                        2    399   26                        C7   \n",
       "2                        2    399   39                        C7   \n",
       "3                       2B    402   21                        C4   \n",
       "4                       2A    404   55                        C2   \n",
       "...                    ...    ...  ...                       ...   \n",
       "84543                    1   7349   34                        B9   \n",
       "84544                    1   7349   78                        B9   \n",
       "84545                    1   7351   60                        B2   \n",
       "84546                    4   7100   28                        K6   \n",
       "84547                    4   7105  679                        P9   \n",
       "\n",
       "       RESIDENTIAL UNITS  COMMERCIAL UNITS  TOTAL UNITS  LAND SQUARE FEET  \\\n",
       "0                      5                 0            5            1633.0   \n",
       "1                     28                 3           31            4616.0   \n",
       "2                     16                 1           17            2212.0   \n",
       "3                     10                 0           10            2272.0   \n",
       "4                      6                 0            6            2369.0   \n",
       "...                  ...               ...          ...               ...   \n",
       "84543                  2                 0            2            2400.0   \n",
       "84544                  2                 0            2            2498.0   \n",
       "84545                  2                 0            2            4000.0   \n",
       "84546                  0                 7            7          208033.0   \n",
       "84547                  0                 1            1           10796.0   \n",
       "\n",
       "       GROSS SQUARE FEET  YEAR BUILT TAX CLASS AT TIME OF SALE  \\\n",
       "0                 6440.0        1900                         2   \n",
       "1                18690.0        1900                         2   \n",
       "2                 7803.0        1900                         2   \n",
       "3                 6794.0        1913                         2   \n",
       "4                 4615.0        1900                         2   \n",
       "...                  ...         ...                       ...   \n",
       "84543             2575.0        1998                         1   \n",
       "84544             2377.0        1998                         1   \n",
       "84545             1496.0        1925                         1   \n",
       "84546            64117.0        2001                         4   \n",
       "84547             2400.0        2006                         4   \n",
       "\n",
       "      BUILDING CLASS AT TIME OF SALE  SALE PRICE  SALE DATE  \n",
       "0                                 C2   6625000.0 2017-07-19  \n",
       "1                                 C7         NaN 2016-12-14  \n",
       "2                                 C7         NaN 2016-12-09  \n",
       "3                                 C4   3936272.0 2016-09-23  \n",
       "4                                 C2   8000000.0 2016-11-17  \n",
       "...                              ...         ...        ...  \n",
       "84543                             B9    450000.0 2016-11-28  \n",
       "84544                             B9    550000.0 2017-04-21  \n",
       "84545                             B2    460000.0 2017-07-05  \n",
       "84546                             K6  11693337.0 2016-12-21  \n",
       "84547                             P9     69300.0 2016-10-27  \n",
       "\n",
       "[84548 rows x 17 columns]"
      ]
     },
     "execution_count": 11,
     "metadata": {},
     "output_type": "execute_result"
    }
   ],
   "source": [
    "df"
   ]
  },
  {
   "cell_type": "code",
   "execution_count": 12,
   "id": "14cbd139",
   "metadata": {},
   "outputs": [
    {
     "data": {
      "text/plain": [
       "959"
      ]
     },
     "execution_count": 12,
     "metadata": {},
     "output_type": "execute_result"
    }
   ],
   "source": [
    "sum(df.duplicated())"
   ]
  },
  {
   "cell_type": "code",
   "execution_count": 13,
   "id": "ffb46e04",
   "metadata": {},
   "outputs": [],
   "source": [
    "df = df.drop_duplicates(df.columns, keep='last')"
   ]
  },
  {
   "cell_type": "code",
   "execution_count": 14,
   "id": "f2b0edb1",
   "metadata": {},
   "outputs": [
    {
     "data": {
      "text/plain": [
       "0"
      ]
     },
     "execution_count": 14,
     "metadata": {},
     "output_type": "execute_result"
    }
   ],
   "source": [
    "sum(df.duplicated())"
   ]
  },
  {
   "cell_type": "code",
   "execution_count": 15,
   "id": "249decef",
   "metadata": {},
   "outputs": [
    {
     "name": "stdout",
     "output_type": "stream",
     "text": [
      "                           TAX CLASS AT PRESENT  BUILDING CLASS AT PRESENT  \\\n",
      "Persentase missing value               0.882891                   0.882891   \n",
      "Jumlah dari missing value                   NaN                        NaN   \n",
      "\n",
      "                           LAND SQUARE FEET  GROSS SQUARE FEET    SALE PRICE  \n",
      "Persentase missing value           31.04954          32.638266     16.837144  \n",
      "Jumlah dari missing value       25954.00000       27282.000000  14074.000000  \n"
     ]
    }
   ],
   "source": [
    "msg_val = df.isnull().sum()/len(df)*100\n",
    "print(pd.DataFrame([msg_val[msg_val>0], pd.Series(df.isnull().sum()[df.isnull().sum()>1000])],\n",
    "                  index=['Persentase missing value', 'Jumlah dari missing value']))"
   ]
  },
  {
   "cell_type": "code",
   "execution_count": 16,
   "id": "5174a5dd",
   "metadata": {},
   "outputs": [
    {
     "data": {
      "text/plain": [
       "count    6.951500e+04\n",
       "mean     1.282005e+06\n",
       "std      1.143784e+07\n",
       "min      0.000000e+00\n",
       "25%      2.300000e+05\n",
       "50%      5.345810e+05\n",
       "75%      9.500000e+05\n",
       "max      2.210000e+09\n",
       "Name: SALE PRICE, dtype: float64"
      ]
     },
     "execution_count": 16,
     "metadata": {},
     "output_type": "execute_result"
    }
   ],
   "source": [
    "df['SALE PRICE'].describe()"
   ]
  },
  {
   "cell_type": "code",
   "execution_count": 17,
   "id": "380d41b0",
   "metadata": {},
   "outputs": [],
   "source": [
    "# Menghilangkan semua value yang mengandung null\n",
    "df = df[df['SALE PRICE'].notnull()]\n",
    "df = df[df['LAND SQUARE FEET'].notnull()]\n",
    "df = df[df['GROSS SQUARE FEET'].notnull()]"
   ]
  },
  {
   "cell_type": "code",
   "execution_count": 18,
   "id": "dc5e92a5",
   "metadata": {},
   "outputs": [
    {
     "data": {
      "image/png": "[encoded data removed]",
      "text/plain": [
       "<Figure size 720x432 with 1 Axes>"
      ]
     },
     "metadata": {
      "needs_background": "light"
     },
     "output_type": "display_data"
    }
   ],
   "source": [
    "# Mendapatkan proporsi properti data\n",
    "x= df[['SALE PRICE']].sort_values(by='SALE PRICE').reset_index()\n",
    "x['PROPERTY PROPORTION']= 1\n",
    "x['PROPERTY PROPORTION']= x['PROPERTY PROPORTION'].cumsum()\n",
    "x['PROPERTY PROPORTION'] = 100 * x['PROPERTY PROPORTION']/len(x['PROPERTY PROPORTION'])\n",
    "\n",
    "plt.figure(figsize=(10,6))\n",
    "\n",
    "#plot data\n",
    "plt.plot(x['PROPERTY PROPORTION'], x['SALE PRICE'], linestyle=None, marker='*', color = 'blue')\n",
    "plt.title(\"Distribusi Kumulatif dari Properti berdasarkan Harga\", color = 'green')\n",
    "plt.xlabel(\"Persentase Properti berdasarkan Harga \")\n",
    "plt.ylabel(\"Harga Jual\")\n",
    "plt.ticklabel_format(style='plain',axis='y')\n",
    "plt.show()"
   ]
  },
  {
   "cell_type": "markdown",
   "id": "40dc0101",
   "metadata": {},
   "source": [
    "Berdasarkan plot di atas terlihat bahwa terdapat banyak outliers. Untuk menghilangkan outliersnya kita bisa mengambil data antara 100.000 USD sampai 5.000.000 USD"
   ]
  },
  {
   "cell_type": "code",
   "execution_count": 20,
   "id": "d7560e40",
   "metadata": {},
   "outputs": [],
   "source": [
    "df = df[(df['SALE PRICE']>100000) & (df['SALE PRICE']<5000000)]"
   ]
  },
  {
   "cell_type": "code",
   "execution_count": 21,
   "id": "5f3d2736",
   "metadata": {},
   "outputs": [
    {
     "data": {
      "image/png": "[encoded data removed]",
      "text/plain": [
       "<Figure size 720x432 with 1 Axes>"
      ]
     },
     "metadata": {
      "needs_background": "light"
     },
     "output_type": "display_data"
    }
   ],
   "source": [
    "# Lakukan hal yang sama seperti di atas dan lihat perbedaannya\n",
    "x = df[['SALE PRICE']].sort_values(by='SALE PRICE').reset_index()\n",
    "x['PROPERTY PROPORTION']= 1\n",
    "x['PROPERTY PROPORTION']= x['PROPERTY PROPORTION'].cumsum()\n",
    "x['PROPERTY PROPORTION'] = 100 * x['PROPERTY PROPORTION']/len(x['PROPERTY PROPORTION'])\n",
    "\n",
    "plt.figure(figsize=(10,6))\n",
    "plt.plot(x['PROPERTY PROPORTION'], x['SALE PRICE'], linestyle=None, marker='*', color = 'blue')\n",
    "plt.title(\"Distribusi Kumulatif dari Properti berdasarkan Harga\", color = 'green')\n",
    "plt.xlabel(\"Persentase Properti berdasarkan Harga\")\n",
    "plt.ylabel(\"Harga Jual\")\n",
    "plt.ticklabel_format(style='plain',axis='y')\n",
    "plt.show()\n"
   ]
  },
  {
   "cell_type": "markdown",
   "id": "f1f8d748",
   "metadata": {},
   "source": [
    "Berdasarkan plot di atas terlihat bahwa data distribusi sudah tidak ada outliers"
   ]
  },
  {
   "cell_type": "code",
   "execution_count": 22,
   "id": "d83ebced",
   "metadata": {},
   "outputs": [
    {
     "data": {
      "image/png": "[encoded data removed]",
      "text/plain": [
       "<Figure size 720x432 with 1 Axes>"
      ]
     },
     "metadata": {
      "needs_background": "light"
     },
     "output_type": "display_data"
    }
   ],
   "source": [
    "# plot data dengan box plot untuk melihat perbedaan\n",
    "plt.figure(figsize=(10,6))\n",
    "sns.boxplot(x='SALE PRICE', data = df, color = 'blue')\n",
    "plt.ticklabel_format(style='plain', axis='x')\n",
    "plt.title(\"Boxplot dari Harga Jual (USD)\", color = 'green')\n",
    "plt.show()"
   ]
  },
  {
   "cell_type": "markdown",
   "id": "938715e7",
   "metadata": {},
   "source": [
    "Berdasarkan ploting menggunakan kurva boxplot dapat kita lihat bahwa sudah tidak ada outliers, data sudah lebih baik"
   ]
  },
  {
   "cell_type": "markdown",
   "id": "83898e6f",
   "metadata": {},
   "source": [
    "## 1. Measure of Central Tendency : Mean"
   ]
  },
  {
   "cell_type": "markdown",
   "id": "eb7e97c9",
   "metadata": {},
   "source": [
    "Mean atau Average adalah central tendency dari data, angka diantara seluruh data tersebar atau bisa disebut angka tunggal yang dapat memperkirakan nilai seluruh kumpulan data. Rata-rata dihitung dengan jumlah semua nilai dibagi dengan jumlah nilai."
   ]
  },
  {
   "cell_type": "code",
   "execution_count": 24,
   "id": "164fcdf6",
   "metadata": {},
   "outputs": [
    {
     "name": "stdout",
     "output_type": "stream",
     "text": [
      "795972.4573388677\n"
     ]
    }
   ],
   "source": [
    "average = df['SALE PRICE'].mean()\n",
    "\n",
    "print(average)"
   ]
  },
  {
   "cell_type": "markdown",
   "id": "dc9d1b67",
   "metadata": {},
   "source": [
    "## 2. Measure of Central Tendency : Median"
   ]
  },
  {
   "cell_type": "markdown",
   "id": "d2c75679",
   "metadata": {},
   "source": [
    "Median adalah nilai yang membagi data dalam 2 bagian yang sama yaitu jumlah suku di sisi kanannya sama dengan jumlah suku di sisi kirinya saat data disusun dalam urutan naik atau turun. Median merupakan nilai tengah atau titik tengah dalam data dan juga disebut persentil ke-50."
   ]
  },
  {
   "cell_type": "code",
   "execution_count": 25,
   "id": "0ed8f43e",
   "metadata": {},
   "outputs": [
    {
     "name": "stdout",
     "output_type": "stream",
     "text": [
      "615000.0\n"
     ]
    }
   ],
   "source": [
    "median = df['SALE PRICE'].median()\n",
    "\n",
    "print(median)"
   ]
  },
  {
   "cell_type": "code",
   "execution_count": 26,
   "id": "b7c9dd8e",
   "metadata": {},
   "outputs": [
    {
     "data": {
      "image/png": "[encoded data removed]",
      "text/plain": [
       "<Figure size 720x432 with 1 Axes>"
      ]
     },
     "metadata": {
      "needs_background": "light"
     },
     "output_type": "display_data"
    }
   ],
   "source": [
    "#let's take a look distribution of the data, the data is skewness or normal distribution\n",
    "plt.figure(figsize=(10,6))\n",
    "sns.distplot(df['SALE PRICE'], color = 'grey')\n",
    "plt.title('Histogram dari Harga Jual (USD)')\n",
    "plt.ylabel(\"Frekuensi\")\n",
    "plt.axvline(df[(df['SALE PRICE']>100000) & (df['SALE PRICE'] < 5000000)]['SALE PRICE'].mean(), c='green')\n",
    "plt.text(200000,0.0000013, \"median\")\n",
    "plt.axvline(df[(df['SALE PRICE']>100000) & (df['SALE PRICE'] < 5000000)]['SALE PRICE'].median(), c='yellow')\n",
    "plt.text(850000,0.0000011, \"mean\")\n",
    "plt.show()"
   ]
  },
  {
   "cell_type": "markdown",
   "id": "4ea6bf27",
   "metadata": {},
   "source": [
    "Dari plot di atas terlihat bahwa sebaran datanya positive skewness karena nilai Mean lebih besar daripada Median"
   ]
  },
  {
   "cell_type": "markdown",
   "id": "32eb4234",
   "metadata": {},
   "source": [
    "## 3. Measure of Central Tendency : Modus"
   ]
  },
  {
   "cell_type": "markdown",
   "id": "51e4b072",
   "metadata": {},
   "source": [
    "Modus adalah nilai atau kategori yang paling sering muncul dalam data."
   ]
  },
  {
   "cell_type": "code",
   "execution_count": 27,
   "id": "36ccd7e0",
   "metadata": {},
   "outputs": [
    {
     "data": {
      "text/plain": [
       "01 ONE FAMILY DWELLINGS                         12354\n",
       "02 TWO FAMILY DWELLINGS                          9526\n",
       "10 COOPS - ELEVATOR APARTMENTS                   2649\n",
       "13 CONDOS - ELEVATOR APARTMENTS                  2634\n",
       "03 THREE FAMILY DWELLINGS                        2243\n",
       "07 RENTALS - WALKUP APARTMENTS                   1352\n",
       "15 CONDOS - 2-10 UNIT RESIDENTIAL                 775\n",
       "04 TAX CLASS 1 CONDOS                             534\n",
       "09 COOPS - WALKUP APARTMENTS                      493\n",
       "12 CONDOS - WALKUP APARTMENTS                     365\n",
       "22 STORE BUILDINGS                                355\n",
       "14 RENTALS - 4-10 UNIT                            284\n",
       "05 TAX CLASS 1 VACANT LAND                        198\n",
       "29 COMMERCIAL GARAGES                             196\n",
       "21 OFFICE BUILDINGS                               128\n",
       "30 WAREHOUSES                                     122\n",
       "27 FACTORIES                                       69\n",
       "44 CONDO PARKING                                   63\n",
       "31 COMMERCIAL VACANT LAND                          63\n",
       "37 RELIGIOUS FACILITIES                            48\n",
       "41 TAX CLASS 4 - OTHER                             33\n",
       "43 CONDO OFFICE BUILDINGS                          30\n",
       "17 CONDO COOPS                                     29\n",
       "06 TAX CLASS 1 - OTHER                             24\n",
       "08 RENTALS - ELEVATOR APARTMENTS                   21\n",
       "16 CONDOS - 2-10 UNIT WITH COMMERCIAL UNIT         14\n",
       "35 INDOOR PUBLIC AND CULTURAL FACILITIES           13\n",
       "33 EDUCATIONAL FACILITIES                          13\n",
       "32 HOSPITAL AND HEALTH FACILITIES                  13\n",
       "46 CONDO STORE BUILDINGS                           12\n",
       "26 OTHER HOTELS                                     9\n",
       "11A CONDO-RENTALS                                   8\n",
       "38 ASYLUMS AND HOMES                                7\n",
       "23 LOFT BUILDINGS                                   6\n",
       "48 CONDO TERRACES/GARDENS/CABANAS                   4\n",
       "28 COMMERCIAL CONDOS                                1\n",
       "36 OUTDOOR RECREATIONAL FACILITIES                  1\n",
       "39 TRANSPORTATION FACILITIES                        1\n",
       "42 CONDO CULTURAL/MEDICAL/EDUCATIONAL/ETC           1\n",
       "11 SPECIAL CONDO BILLING LOTS                       1\n",
       "34 THEATRES                                         0\n",
       "25 LUXURY HOTELS                                    0\n",
       "40 SELECTED GOVERNMENTAL FACILITIES                 0\n",
       "18 TAX CLASS 3 - UNTILITY PROPERTIES                0\n",
       "45 CONDO HOTELS                                     0\n",
       "47 CONDO NON-BUSINESS STORAGE                       0\n",
       "49 CONDO WAREHOUSES/FACTORY/INDUS                   0\n",
       "Name: BUILDING CLASS CATEGORY, dtype: int64"
      ]
     },
     "execution_count": 27,
     "metadata": {},
     "output_type": "execute_result"
    }
   ],
   "source": [
    "jumlah_bangunan = df['BUILDING CLASS CATEGORY'].value_counts()\n",
    "\n",
    "jumlah_bangunan"
   ]
  },
  {
   "cell_type": "markdown",
   "id": "a440b838",
   "metadata": {},
   "source": [
    "Terlihat bahwa BUILDING CLASS CATEGORY yang paling banyak muncul pada dataset ini adalah ONE FAMILY DWELLINGS dengan jumlah total 12354"
   ]
  },
  {
   "cell_type": "markdown",
   "id": "3f726928",
   "metadata": {},
   "source": [
    "## 4. Measure of Spread : Range"
   ]
  },
  {
   "cell_type": "markdown",
   "id": "a132b65c",
   "metadata": {},
   "source": [
    "Range atau Rentang adalah salah satu teknik statistik deskriptif yang paling sederhana. Range adalah perbedaan antara nilai terendah dan tertinggi."
   ]
  },
  {
   "cell_type": "code",
   "execution_count": 28,
   "id": "fd9062d5",
   "metadata": {},
   "outputs": [
    {
     "name": "stdout",
     "output_type": "stream",
     "text": [
      "0\n"
     ]
    }
   ],
   "source": [
    "min = jumlah_bangunan.min()\n",
    "\n",
    "print(min)"
   ]
  },
  {
   "cell_type": "code",
   "execution_count": 29,
   "id": "ef729386",
   "metadata": {},
   "outputs": [
    {
     "ename": "NameError",
     "evalue": "name 'total_bangunan' is not defined",
     "output_type": "error",
     "traceback": [
      "\u001b[1;31m---------------------------------------------------------------------------\u001b[0m",
      "\u001b[1;31mNameError\u001b[0m                                 Traceback (most recent call last)",
      "Input \u001b[1;32mIn [29]\u001b[0m, in \u001b[0;36m<cell line: 1>\u001b[1;34m()\u001b[0m\n\u001b[1;32m----> 1\u001b[0m \u001b[38;5;28mmax\u001b[39m \u001b[38;5;241m=\u001b[39m \u001b[43mtotal_bangunan\u001b[49m\u001b[38;5;241m.\u001b[39mmax()\n\u001b[0;32m      3\u001b[0m \u001b[38;5;28mprint\u001b[39m(\u001b[38;5;28mmax\u001b[39m)\n",
      "\u001b[1;31mNameError\u001b[0m: name 'total_bangunan' is not defined"
     ]
    }
   ],
   "source": [
    "max = total_bangunan.max()\n",
    "\n",
    "print(max)"
   ]
  },
  {
   "cell_type": "code",
   "execution_count": 30,
   "id": "dfdf8068",
   "metadata": {},
   "outputs": [
    {
     "ename": "TypeError",
     "evalue": "unsupported operand type(s) for -: 'builtin_function_or_method' and 'int'",
     "output_type": "error",
     "traceback": [
      "\u001b[1;31m---------------------------------------------------------------------------\u001b[0m",
      "\u001b[1;31mTypeError\u001b[0m                                 Traceback (most recent call last)",
      "Input \u001b[1;32mIn [30]\u001b[0m, in \u001b[0;36m<cell line: 2>\u001b[1;34m()\u001b[0m\n\u001b[0;32m      1\u001b[0m \u001b[38;5;66;03m# Menghitung Range\u001b[39;00m\n\u001b[1;32m----> 2\u001b[0m \u001b[38;5;28mrange\u001b[39m \u001b[38;5;241m=\u001b[39m \u001b[38;5;28;43mmax\u001b[39;49m\u001b[43m \u001b[49m\u001b[38;5;241;43m-\u001b[39;49m\u001b[43m \u001b[49m\u001b[38;5;28;43mmin\u001b[39;49m\n\u001b[0;32m      4\u001b[0m \u001b[38;5;28mprint\u001b[39m(\u001b[38;5;28mrange\u001b[39m)\n",
      "\u001b[1;31mTypeError\u001b[0m: unsupported operand type(s) for -: 'builtin_function_or_method' and 'int'"
     ]
    }
   ],
   "source": [
    "# Menghitung Range\n",
    "range = max - min\n",
    "\n",
    "print(range)"
   ]
  },
  {
   "cell_type": "markdown",
   "id": "268222ca",
   "metadata": {},
   "source": [
    "## 5. Measure of Spread : Variance"
   ]
  },
  {
   "cell_type": "markdown",
   "id": "4b94cd85",
   "metadata": {},
   "source": [
    "Variance atau Varians adalah kuadrat jarak rata-rata antara setiap kuantitas dan mean. Variance adalah kuadrat dari Standar Deviasi"
   ]
  },
  {
   "cell_type": "code",
   "execution_count": 31,
   "id": "a2b5eb15",
   "metadata": {},
   "outputs": [
    {
     "data": {
      "text/plain": [
       "426769738804.34357"
      ]
     },
     "execution_count": 31,
     "metadata": {},
     "output_type": "execute_result"
    }
   ],
   "source": [
    "variansi = df['SALE PRICE'].var()\n",
    "variansi"
   ]
  },
  {
   "cell_type": "markdown",
   "id": "ec6b31bf",
   "metadata": {},
   "source": [
    "## 6. Measure of Spread : Standard Deviation"
   ]
  },
  {
   "cell_type": "markdown",
   "id": "ac2bb563",
   "metadata": {},
   "source": [
    "Standard Deviation atau Simpangan Baku adalah pengukuran jarak rata-rata antara setiap besaran dan mean.\n",
    "\n",
    "Standar Deviasi yang rendah menunjukkan bahwa titik data cenderung mendekati rata-rata kumpulan data.\n",
    "\n",
    "Standar Deviasi yang tinggi menunjukkan bahwa titik data tersebar di nilai yang lebih luas."
   ]
  },
  {
   "cell_type": "code",
   "execution_count": 32,
   "id": "82e5b585",
   "metadata": {},
   "outputs": [
    {
     "ename": "NameError",
     "evalue": "name 'var_' is not defined",
     "output_type": "error",
     "traceback": [
      "\u001b[1;31m---------------------------------------------------------------------------\u001b[0m",
      "\u001b[1;31mNameError\u001b[0m                                 Traceback (most recent call last)",
      "Input \u001b[1;32mIn [32]\u001b[0m, in \u001b[0;36m<cell line: 1>\u001b[1;34m()\u001b[0m\n\u001b[1;32m----> 1\u001b[0m standar_devisiasi \u001b[38;5;241m=\u001b[39m \u001b[43mvar_\u001b[49m \u001b[38;5;241m*\u001b[39m\u001b[38;5;241m*\u001b[39m \u001b[38;5;241m0.5\u001b[39m\n\u001b[0;32m      2\u001b[0m standar_devisiasi\n",
      "\u001b[1;31mNameError\u001b[0m: name 'var_' is not defined"
     ]
    }
   ],
   "source": [
    "standar_devisiasi = var_ ** 0.5\n",
    "standar_devisiasi"
   ]
  },
  {
   "cell_type": "code",
   "execution_count": 33,
   "id": "12755024",
   "metadata": {},
   "outputs": [
    {
     "name": "stdout",
     "output_type": "stream",
     "text": [
      "653276.1581477956\n"
     ]
    }
   ],
   "source": [
    "standar_devisiasi = df['SALE PRICE'].std()\n",
    "\n",
    "print(standar_devisiasi)"
   ]
  },
  {
   "cell_type": "markdown",
   "id": "d6652a7c",
   "metadata": {},
   "source": [
    "## 7. Probability Distribution"
   ]
  },
  {
   "cell_type": "markdown",
   "id": "39c40dd7",
   "metadata": {},
   "source": [
    "Probability Distribution adalah fungsi di bawah teori dan statistik probabilitas yang memberi seberapa besar kemungkinan hasil yang berbeda dalam sebuah eksperimen. Menggambarkan peristiwa dalam hal probabilitasnya dari semua kemungkinan hasil."
   ]
  },
  {
   "cell_type": "code",
   "execution_count": 34,
   "id": "8e7d9325",
   "metadata": {},
   "outputs": [
    {
     "data": {
      "text/plain": [
       "0.003689611437795457"
      ]
     },
     "execution_count": 34,
     "metadata": {},
     "output_type": "execute_result"
    }
   ],
   "source": [
    "# Menghitung Probability Distribution dari Office Buildings dari Building Class Category\n",
    "# prob_of = jumlah office building / jumlah seluruh building dari Class Category\n",
    "prob_of = 128/34692\n",
    "prob_of"
   ]
  },
  {
   "cell_type": "code",
   "execution_count": 35,
   "id": "c983dccf",
   "metadata": {},
   "outputs": [
    {
     "name": "stdout",
     "output_type": "stream",
     "text": [
      "0.14759631798190956\n"
     ]
    },
    {
     "data": {
      "image/png": "[encoded data removed]",
      "text/plain": [
       "<Figure size 432x288 with 1 Axes>"
      ]
     },
     "metadata": {
      "needs_background": "light"
     },
     "output_type": "display_data"
    }
   ],
   "source": [
    "# Distribusi Normal\n",
    "df['SALE PRICE']=np.log(df['SALE PRICE'])\n",
    "print(df['SALE PRICE'].skew())\n",
    "sns.distplot(df['SALE PRICE']);"
   ]
  },
  {
   "cell_type": "markdown",
   "id": "1380c74b",
   "metadata": {},
   "source": [
    "Dari plot di atas terlihat bahwa data distribusi sudah tidak terdapat skewness yang berarti sebaran data sudah normal"
   ]
  },
  {
   "cell_type": "markdown",
   "id": "55504cf3",
   "metadata": {},
   "source": [
    "## 8. Convidence Intervals"
   ]
  },
  {
   "cell_type": "markdown",
   "id": "961cafef",
   "metadata": {},
   "source": [
    "Confidence Interval (CI) adalah jenis estimasi yang dihitung dari data statistik yang diamati. CI digunakan unuk mengukur seberapa akurat Mean sebuah sample mewakili (mencakup) nilai Mean Populasi sesungguhnya. Jadi, Confidence Interval adalah rentang antara dua nilai dimana nilai suatu Sample Mean tepat berada di tengah-tengahnya."
   ]
  },
  {
   "cell_type": "code",
   "execution_count": 36,
   "id": "a2fcdd76",
   "metadata": {},
   "outputs": [],
   "source": [
    "# Menghitung CI dari Office Buildings dari Building Class Category\n",
    "Office = df[df['BUILDING CLASS CATEGORY'] =='OFFICE BUILDINGS']"
   ]
  },
  {
   "cell_type": "code",
   "execution_count": 37,
   "id": "8f73a77d",
   "metadata": {},
   "outputs": [],
   "source": [
    "n = 34692"
   ]
  },
  {
   "cell_type": "code",
   "execution_count": 38,
   "id": "6083781a",
   "metadata": {},
   "outputs": [
    {
     "data": {
      "text/plain": [
       "0.003689611437795457"
      ]
     },
     "execution_count": 38,
     "metadata": {},
     "output_type": "execute_result"
    }
   ],
   "source": [
    "prob_of = 128/n\n",
    "prob_of"
   ]
  },
  {
   "cell_type": "code",
   "execution_count": 39,
   "id": "662daf44",
   "metadata": {},
   "outputs": [
    {
     "data": {
      "text/plain": [
       "0.0003255164769176591"
      ]
     },
     "execution_count": 39,
     "metadata": {},
     "output_type": "execute_result"
    }
   ],
   "source": [
    "se_of = np.sqrt(prob_of * (1-prob_of) / n)\n",
    "se_of"
   ]
  },
  {
   "cell_type": "code",
   "execution_count": 40,
   "id": "496c6c87",
   "metadata": {},
   "outputs": [
    {
     "data": {
      "text/plain": [
       "(0.0030515991430368453, 0.004327623732554069)"
      ]
     },
     "execution_count": 40,
     "metadata": {},
     "output_type": "execute_result"
    }
   ],
   "source": [
    "z_score = 1.96\n",
    "\n",
    "lcb = prob_of - z_score * se_of #lower limit dari CI\n",
    "ucb = prob_of + z_score * se_of #upper limit dari CI\n",
    "\n",
    "lcb,ucb"
   ]
  },
  {
   "cell_type": "markdown",
   "id": "26ff4e47",
   "metadata": {},
   "source": [
    "atau"
   ]
  },
  {
   "cell_type": "code",
   "execution_count": 41,
   "id": "fa9fc6e4",
   "metadata": {},
   "outputs": [
    {
     "data": {
      "text/plain": [
       "(0.0030516108666624815, 0.004327612008928433)"
      ]
     },
     "execution_count": 41,
     "metadata": {},
     "output_type": "execute_result"
    }
   ],
   "source": [
    "sm.stats.proportion_confint(n * prob_of, n)"
   ]
  },
  {
   "cell_type": "markdown",
   "id": "506ef142",
   "metadata": {},
   "source": [
    "Jadi, Convidence Interval adalah 0.0030516108666624815 dan 0.004327612008928433"
   ]
  },
  {
   "cell_type": "markdown",
   "id": "a7af449c",
   "metadata": {},
   "source": [
    "## 9. Hypothesis Testing"
   ]
  },
  {
   "cell_type": "markdown",
   "id": "90372474",
   "metadata": {},
   "source": [
    "Hipotesis adalah anggapan dasar atau jawaban sementara terhadap masalah yang masih bersifat praduga karena masih harus dibuktikan kebenarannya. Hipotesis harus dapat diuji, baik dengan eksperimen atau observasi.\n",
    "\n",
    "Hypothesis Testing dalam statistik adalah cara menguji hasil survey atau eksperimen untuk melihat apakah memiliki hasil yang bermakna. Pada dasarnya menguji apakah hasil valid dengan mencari tahu kemungkinan bahwa hasil terjadi secara kebetulan."
   ]
  },
  {
   "cell_type": "code",
   "execution_count": 42,
   "id": "5f7d754b",
   "metadata": {},
   "outputs": [],
   "source": [
    "df['BOROUGH'] = df['BOROUGH'].astype(str)\n",
    "df['BOROUGH'] = df['BOROUGH'].str.replace(\"1\", \"Manhattan\")\n",
    "df['BOROUGH'] = df['BOROUGH'].str.replace(\"2\", \"Bronx\")\n",
    "df['BOROUGH'] = df['BOROUGH'].str.replace(\"3\", \"Brooklyn\")\n",
    "df['BOROUGH'] = df['BOROUGH'].str.replace(\"4\", \"Queens\")\n",
    "df['BOROUGH'] = df['BOROUGH'].str.replace(\"5\", \"Staten Island\")"
   ]
  },
  {
   "cell_type": "code",
   "execution_count": 43,
   "id": "acc5cd48",
   "metadata": {},
   "outputs": [
    {
     "data": {
      "text/html": [
       "<div>\n",
       "<style scoped>\n",
       "    .dataframe tbody tr th:only-of-type {\n",
       "        vertical-align: middle;\n",
       "    }\n",
       "\n",
       "    .dataframe tbody tr th {\n",
       "        vertical-align: top;\n",
       "    }\n",
       "\n",
       "    .dataframe thead th {\n",
       "        text-align: right;\n",
       "    }\n",
       "</style>\n",
       "<table border=\"1\" class=\"dataframe\">\n",
       "  <thead>\n",
       "    <tr style=\"text-align: right;\">\n",
       "      <th></th>\n",
       "      <th>BOROUGH</th>\n",
       "      <th>NEIGHBORHOOD</th>\n",
       "      <th>BUILDING CLASS CATEGORY</th>\n",
       "      <th>TAX CLASS AT PRESENT</th>\n",
       "      <th>BLOCK</th>\n",
       "      <th>LOT</th>\n",
       "      <th>BUILDING CLASS AT PRESENT</th>\n",
       "      <th>RESIDENTIAL UNITS</th>\n",
       "      <th>COMMERCIAL UNITS</th>\n",
       "      <th>TOTAL UNITS</th>\n",
       "      <th>LAND SQUARE FEET</th>\n",
       "      <th>GROSS SQUARE FEET</th>\n",
       "      <th>YEAR BUILT</th>\n",
       "      <th>TAX CLASS AT TIME OF SALE</th>\n",
       "      <th>BUILDING CLASS AT TIME OF SALE</th>\n",
       "      <th>SALE PRICE</th>\n",
       "      <th>SALE DATE</th>\n",
       "    </tr>\n",
       "  </thead>\n",
       "  <tbody>\n",
       "    <tr>\n",
       "      <th>3</th>\n",
       "      <td>Manhattan</td>\n",
       "      <td>ALPHABET CITY</td>\n",
       "      <td>07 RENTALS - WALKUP APARTMENTS</td>\n",
       "      <td>2B</td>\n",
       "      <td>402</td>\n",
       "      <td>21</td>\n",
       "      <td>C4</td>\n",
       "      <td>10</td>\n",
       "      <td>0</td>\n",
       "      <td>10</td>\n",
       "      <td>2272.0</td>\n",
       "      <td>6794.0</td>\n",
       "      <td>1913</td>\n",
       "      <td>2</td>\n",
       "      <td>C4</td>\n",
       "      <td>15.185745</td>\n",
       "      <td>2016-09-23</td>\n",
       "    </tr>\n",
       "    <tr>\n",
       "      <th>6</th>\n",
       "      <td>Manhattan</td>\n",
       "      <td>ALPHABET CITY</td>\n",
       "      <td>07 RENTALS - WALKUP APARTMENTS</td>\n",
       "      <td>2B</td>\n",
       "      <td>406</td>\n",
       "      <td>32</td>\n",
       "      <td>C4</td>\n",
       "      <td>8</td>\n",
       "      <td>0</td>\n",
       "      <td>8</td>\n",
       "      <td>1750.0</td>\n",
       "      <td>4226.0</td>\n",
       "      <td>1920</td>\n",
       "      <td>2</td>\n",
       "      <td>C4</td>\n",
       "      <td>14.976421</td>\n",
       "      <td>2016-09-23</td>\n",
       "    </tr>\n",
       "    <tr>\n",
       "      <th>172</th>\n",
       "      <td>Manhattan</td>\n",
       "      <td>ALPHABET CITY</td>\n",
       "      <td>14 RENTALS - 4-10 UNIT</td>\n",
       "      <td>2A</td>\n",
       "      <td>391</td>\n",
       "      <td>19</td>\n",
       "      <td>S3</td>\n",
       "      <td>3</td>\n",
       "      <td>1</td>\n",
       "      <td>4</td>\n",
       "      <td>1520.0</td>\n",
       "      <td>3360.0</td>\n",
       "      <td>1910</td>\n",
       "      <td>2</td>\n",
       "      <td>S3</td>\n",
       "      <td>15.009433</td>\n",
       "      <td>2016-11-15</td>\n",
       "    </tr>\n",
       "    <tr>\n",
       "      <th>174</th>\n",
       "      <td>Manhattan</td>\n",
       "      <td>ALPHABET CITY</td>\n",
       "      <td>14 RENTALS - 4-10 UNIT</td>\n",
       "      <td>2A</td>\n",
       "      <td>394</td>\n",
       "      <td>5</td>\n",
       "      <td>S5</td>\n",
       "      <td>5</td>\n",
       "      <td>1</td>\n",
       "      <td>6</td>\n",
       "      <td>1779.0</td>\n",
       "      <td>3713.0</td>\n",
       "      <td>1910</td>\n",
       "      <td>2</td>\n",
       "      <td>S5</td>\n",
       "      <td>15.373655</td>\n",
       "      <td>2017-04-03</td>\n",
       "    </tr>\n",
       "    <tr>\n",
       "      <th>195</th>\n",
       "      <td>Manhattan</td>\n",
       "      <td>ALPHABET CITY</td>\n",
       "      <td>22 STORE BUILDINGS</td>\n",
       "      <td>4</td>\n",
       "      <td>390</td>\n",
       "      <td>34</td>\n",
       "      <td>K4</td>\n",
       "      <td>0</td>\n",
       "      <td>1</td>\n",
       "      <td>1</td>\n",
       "      <td>1218.0</td>\n",
       "      <td>3586.0</td>\n",
       "      <td>1899</td>\n",
       "      <td>4</td>\n",
       "      <td>K4</td>\n",
       "      <td>15.123843</td>\n",
       "      <td>2016-09-28</td>\n",
       "    </tr>\n",
       "    <tr>\n",
       "      <th>...</th>\n",
       "      <td>...</td>\n",
       "      <td>...</td>\n",
       "      <td>...</td>\n",
       "      <td>...</td>\n",
       "      <td>...</td>\n",
       "      <td>...</td>\n",
       "      <td>...</td>\n",
       "      <td>...</td>\n",
       "      <td>...</td>\n",
       "      <td>...</td>\n",
       "      <td>...</td>\n",
       "      <td>...</td>\n",
       "      <td>...</td>\n",
       "      <td>...</td>\n",
       "      <td>...</td>\n",
       "      <td>...</td>\n",
       "      <td>...</td>\n",
       "    </tr>\n",
       "    <tr>\n",
       "      <th>84540</th>\n",
       "      <td>Staten Island</td>\n",
       "      <td>WOODROW</td>\n",
       "      <td>02 TWO FAMILY DWELLINGS</td>\n",
       "      <td>1</td>\n",
       "      <td>7316</td>\n",
       "      <td>93</td>\n",
       "      <td>B2</td>\n",
       "      <td>2</td>\n",
       "      <td>0</td>\n",
       "      <td>2</td>\n",
       "      <td>3325.0</td>\n",
       "      <td>1300.0</td>\n",
       "      <td>1995</td>\n",
       "      <td>1</td>\n",
       "      <td>B2</td>\n",
       "      <td>13.140203</td>\n",
       "      <td>2016-10-31</td>\n",
       "    </tr>\n",
       "    <tr>\n",
       "      <th>84541</th>\n",
       "      <td>Staten Island</td>\n",
       "      <td>WOODROW</td>\n",
       "      <td>02 TWO FAMILY DWELLINGS</td>\n",
       "      <td>1</td>\n",
       "      <td>7317</td>\n",
       "      <td>126</td>\n",
       "      <td>B2</td>\n",
       "      <td>2</td>\n",
       "      <td>0</td>\n",
       "      <td>2</td>\n",
       "      <td>11088.0</td>\n",
       "      <td>2160.0</td>\n",
       "      <td>1994</td>\n",
       "      <td>1</td>\n",
       "      <td>B2</td>\n",
       "      <td>13.381646</td>\n",
       "      <td>2016-12-07</td>\n",
       "    </tr>\n",
       "    <tr>\n",
       "      <th>84543</th>\n",
       "      <td>Staten Island</td>\n",
       "      <td>WOODROW</td>\n",
       "      <td>02 TWO FAMILY DWELLINGS</td>\n",
       "      <td>1</td>\n",
       "      <td>7349</td>\n",
       "      <td>34</td>\n",
       "      <td>B9</td>\n",
       "      <td>2</td>\n",
       "      <td>0</td>\n",
       "      <td>2</td>\n",
       "      <td>2400.0</td>\n",
       "      <td>2575.0</td>\n",
       "      <td>1998</td>\n",
       "      <td>1</td>\n",
       "      <td>B9</td>\n",
       "      <td>13.017003</td>\n",
       "      <td>2016-11-28</td>\n",
       "    </tr>\n",
       "    <tr>\n",
       "      <th>84544</th>\n",
       "      <td>Staten Island</td>\n",
       "      <td>WOODROW</td>\n",
       "      <td>02 TWO FAMILY DWELLINGS</td>\n",
       "      <td>1</td>\n",
       "      <td>7349</td>\n",
       "      <td>78</td>\n",
       "      <td>B9</td>\n",
       "      <td>2</td>\n",
       "      <td>0</td>\n",
       "      <td>2</td>\n",
       "      <td>2498.0</td>\n",
       "      <td>2377.0</td>\n",
       "      <td>1998</td>\n",
       "      <td>1</td>\n",
       "      <td>B9</td>\n",
       "      <td>13.217674</td>\n",
       "      <td>2017-04-21</td>\n",
       "    </tr>\n",
       "    <tr>\n",
       "      <th>84545</th>\n",
       "      <td>Staten Island</td>\n",
       "      <td>WOODROW</td>\n",
       "      <td>02 TWO FAMILY DWELLINGS</td>\n",
       "      <td>1</td>\n",
       "      <td>7351</td>\n",
       "      <td>60</td>\n",
       "      <td>B2</td>\n",
       "      <td>2</td>\n",
       "      <td>0</td>\n",
       "      <td>2</td>\n",
       "      <td>4000.0</td>\n",
       "      <td>1496.0</td>\n",
       "      <td>1925</td>\n",
       "      <td>1</td>\n",
       "      <td>B2</td>\n",
       "      <td>13.038982</td>\n",
       "      <td>2017-07-05</td>\n",
       "    </tr>\n",
       "  </tbody>\n",
       "</table>\n",
       "<p>34692 rows × 17 columns</p>\n",
       "</div>"
      ],
      "text/plain": [
       "             BOROUGH   NEIGHBORHOOD  \\\n",
       "3          Manhattan  ALPHABET CITY   \n",
       "6          Manhattan  ALPHABET CITY   \n",
       "172        Manhattan  ALPHABET CITY   \n",
       "174        Manhattan  ALPHABET CITY   \n",
       "195        Manhattan  ALPHABET CITY   \n",
       "...              ...            ...   \n",
       "84540  Staten Island        WOODROW   \n",
       "84541  Staten Island        WOODROW   \n",
       "84543  Staten Island        WOODROW   \n",
       "84544  Staten Island        WOODROW   \n",
       "84545  Staten Island        WOODROW   \n",
       "\n",
       "                           BUILDING CLASS CATEGORY TAX CLASS AT PRESENT  \\\n",
       "3      07 RENTALS - WALKUP APARTMENTS                                2B   \n",
       "6      07 RENTALS - WALKUP APARTMENTS                                2B   \n",
       "172    14 RENTALS - 4-10 UNIT                                        2A   \n",
       "174    14 RENTALS - 4-10 UNIT                                        2A   \n",
       "195    22 STORE BUILDINGS                                             4   \n",
       "...                                            ...                  ...   \n",
       "84540  02 TWO FAMILY DWELLINGS                                        1   \n",
       "84541  02 TWO FAMILY DWELLINGS                                        1   \n",
       "84543  02 TWO FAMILY DWELLINGS                                        1   \n",
       "84544  02 TWO FAMILY DWELLINGS                                        1   \n",
       "84545  02 TWO FAMILY DWELLINGS                                        1   \n",
       "\n",
       "       BLOCK  LOT BUILDING CLASS AT PRESENT  RESIDENTIAL UNITS  \\\n",
       "3        402   21                        C4                 10   \n",
       "6        406   32                        C4                  8   \n",
       "172      391   19                        S3                  3   \n",
       "174      394    5                        S5                  5   \n",
       "195      390   34                        K4                  0   \n",
       "...      ...  ...                       ...                ...   \n",
       "84540   7316   93                        B2                  2   \n",
       "84541   7317  126                        B2                  2   \n",
       "84543   7349   34                        B9                  2   \n",
       "84544   7349   78                        B9                  2   \n",
       "84545   7351   60                        B2                  2   \n",
       "\n",
       "       COMMERCIAL UNITS  TOTAL UNITS  LAND SQUARE FEET  GROSS SQUARE FEET  \\\n",
       "3                     0           10            2272.0             6794.0   \n",
       "6                     0            8            1750.0             4226.0   \n",
       "172                   1            4            1520.0             3360.0   \n",
       "174                   1            6            1779.0             3713.0   \n",
       "195                   1            1            1218.0             3586.0   \n",
       "...                 ...          ...               ...                ...   \n",
       "84540                 0            2            3325.0             1300.0   \n",
       "84541                 0            2           11088.0             2160.0   \n",
       "84543                 0            2            2400.0             2575.0   \n",
       "84544                 0            2            2498.0             2377.0   \n",
       "84545                 0            2            4000.0             1496.0   \n",
       "\n",
       "       YEAR BUILT TAX CLASS AT TIME OF SALE BUILDING CLASS AT TIME OF SALE  \\\n",
       "3            1913                         2                             C4   \n",
       "6            1920                         2                             C4   \n",
       "172          1910                         2                             S3   \n",
       "174          1910                         2                             S5   \n",
       "195          1899                         4                             K4   \n",
       "...           ...                       ...                            ...   \n",
       "84540        1995                         1                             B2   \n",
       "84541        1994                         1                             B2   \n",
       "84543        1998                         1                             B9   \n",
       "84544        1998                         1                             B9   \n",
       "84545        1925                         1                             B2   \n",
       "\n",
       "       SALE PRICE  SALE DATE  \n",
       "3       15.185745 2016-09-23  \n",
       "6       14.976421 2016-09-23  \n",
       "172     15.009433 2016-11-15  \n",
       "174     15.373655 2017-04-03  \n",
       "195     15.123843 2016-09-28  \n",
       "...           ...        ...  \n",
       "84540   13.140203 2016-10-31  \n",
       "84541   13.381646 2016-12-07  \n",
       "84543   13.017003 2016-11-28  \n",
       "84544   13.217674 2017-04-21  \n",
       "84545   13.038982 2017-07-05  \n",
       "\n",
       "[34692 rows x 17 columns]"
      ]
     },
     "execution_count": 43,
     "metadata": {},
     "output_type": "execute_result"
    }
   ],
   "source": [
    "df"
   ]
  },
  {
   "cell_type": "code",
   "execution_count": 44,
   "id": "dcb597e3",
   "metadata": {},
   "outputs": [
    {
     "data": {
      "text/html": [
       "<div>\n",
       "<style scoped>\n",
       "    .dataframe tbody tr th:only-of-type {\n",
       "        vertical-align: middle;\n",
       "    }\n",
       "\n",
       "    .dataframe tbody tr th {\n",
       "        vertical-align: top;\n",
       "    }\n",
       "\n",
       "    .dataframe thead th {\n",
       "        text-align: right;\n",
       "    }\n",
       "</style>\n",
       "<table border=\"1\" class=\"dataframe\">\n",
       "  <thead>\n",
       "    <tr style=\"text-align: right;\">\n",
       "      <th></th>\n",
       "      <th>BLOCK</th>\n",
       "      <th>LOT</th>\n",
       "      <th>RESIDENTIAL UNITS</th>\n",
       "      <th>COMMERCIAL UNITS</th>\n",
       "      <th>TOTAL UNITS</th>\n",
       "      <th>LAND SQUARE FEET</th>\n",
       "      <th>GROSS SQUARE FEET</th>\n",
       "      <th>YEAR BUILT</th>\n",
       "      <th>SALE PRICE</th>\n",
       "    </tr>\n",
       "    <tr>\n",
       "      <th>BOROUGH</th>\n",
       "      <th></th>\n",
       "      <th></th>\n",
       "      <th></th>\n",
       "      <th></th>\n",
       "      <th></th>\n",
       "      <th></th>\n",
       "      <th></th>\n",
       "      <th></th>\n",
       "      <th></th>\n",
       "    </tr>\n",
       "  </thead>\n",
       "  <tbody>\n",
       "    <tr>\n",
       "      <th>Bronx</th>\n",
       "      <td>19585559</td>\n",
       "      <td>1370003</td>\n",
       "      <td>8550</td>\n",
       "      <td>398</td>\n",
       "      <td>8947</td>\n",
       "      <td>10882624.0</td>\n",
       "      <td>9701223.0</td>\n",
       "      <td>8216376</td>\n",
       "      <td>58809.674241</td>\n",
       "    </tr>\n",
       "    <tr>\n",
       "      <th>Brooklyn</th>\n",
       "      <td>61616042</td>\n",
       "      <td>5466898</td>\n",
       "      <td>22069</td>\n",
       "      <td>1182</td>\n",
       "      <td>23341</td>\n",
       "      <td>22044154.0</td>\n",
       "      <td>21859405.0</td>\n",
       "      <td>25773358</td>\n",
       "      <td>196625.898233</td>\n",
       "    </tr>\n",
       "    <tr>\n",
       "      <th>Manhattan</th>\n",
       "      <td>506732</td>\n",
       "      <td>17482</td>\n",
       "      <td>2384</td>\n",
       "      <td>242</td>\n",
       "      <td>2625</td>\n",
       "      <td>861416.0</td>\n",
       "      <td>4033676.0</td>\n",
       "      <td>589305</td>\n",
       "      <td>4456.865101</td>\n",
       "    </tr>\n",
       "    <tr>\n",
       "      <th>Queens</th>\n",
       "      <td>84318984</td>\n",
       "      <td>568145</td>\n",
       "      <td>20304</td>\n",
       "      <td>3141</td>\n",
       "      <td>23437</td>\n",
       "      <td>39427791.0</td>\n",
       "      <td>25687267.0</td>\n",
       "      <td>20311476</td>\n",
       "      <td>139840.960343</td>\n",
       "    </tr>\n",
       "    <tr>\n",
       "      <th>Staten Island</th>\n",
       "      <td>16335608</td>\n",
       "      <td>397679</td>\n",
       "      <td>6442</td>\n",
       "      <td>464</td>\n",
       "      <td>6900</td>\n",
       "      <td>24941536.0</td>\n",
       "      <td>10624523.0</td>\n",
       "      <td>9509788</td>\n",
       "      <td>63271.693318</td>\n",
       "    </tr>\n",
       "  </tbody>\n",
       "</table>\n",
       "</div>"
      ],
      "text/plain": [
       "                  BLOCK      LOT  RESIDENTIAL UNITS  COMMERCIAL UNITS  \\\n",
       "BOROUGH                                                                 \n",
       "Bronx          19585559  1370003               8550               398   \n",
       "Brooklyn       61616042  5466898              22069              1182   \n",
       "Manhattan        506732    17482               2384               242   \n",
       "Queens         84318984   568145              20304              3141   \n",
       "Staten Island  16335608   397679               6442               464   \n",
       "\n",
       "               TOTAL UNITS  LAND SQUARE FEET  GROSS SQUARE FEET  YEAR BUILT  \\\n",
       "BOROUGH                                                                       \n",
       "Bronx                 8947        10882624.0          9701223.0     8216376   \n",
       "Brooklyn             23341        22044154.0         21859405.0    25773358   \n",
       "Manhattan             2625          861416.0          4033676.0      589305   \n",
       "Queens               23437        39427791.0         25687267.0    20311476   \n",
       "Staten Island         6900        24941536.0         10624523.0     9509788   \n",
       "\n",
       "                  SALE PRICE  \n",
       "BOROUGH                       \n",
       "Bronx           58809.674241  \n",
       "Brooklyn       196625.898233  \n",
       "Manhattan        4456.865101  \n",
       "Queens         139840.960343  \n",
       "Staten Island   63271.693318  "
      ]
     },
     "execution_count": 44,
     "metadata": {},
     "output_type": "execute_result"
    }
   ],
   "source": [
    "df_borough = df.groupby('BOROUGH', axis=0).sum()\n",
    "\n",
    "df_borough"
   ]
  },
  {
   "cell_type": "markdown",
   "id": "f947c000",
   "metadata": {},
   "source": [
    "Dengan melihat data diatas, apakah harga rata rata per unit pada borough Brooklyn lebih besar secara signifikan daripada Manhattan?\n",
    "\n",
    "h0 = Tidak ada perbedaan secara signifikan pada harga rata rata perunit antara borough Brooklyn dan Manhattan\n",
    "\n",
    "h1 = Terdapat perbedaan secara signifikan pada harga rata rata per unit antara borugh Brooklyn dan Manhattan"
   ]
  },
  {
   "cell_type": "code",
   "execution_count": 45,
   "id": "6647cd41",
   "metadata": {},
   "outputs": [],
   "source": [
    "Brooklyn = df[df['BOROUGH']=='Brooklyn']\n",
    "Manhattan = df[df['BOROUGH']=='Manhattan']"
   ]
  },
  {
   "cell_type": "code",
   "execution_count": 46,
   "id": "d7eb7342",
   "metadata": {},
   "outputs": [
    {
     "data": {
      "text/plain": [
       "(23437, 13.548260058807184, 0.7236732882735784)"
      ]
     },
     "execution_count": 46,
     "metadata": {},
     "output_type": "execute_result"
    }
   ],
   "source": [
    "total_unit_Brooklyn = df_borough.iloc[-2, 4]\n",
    "mu_Brooklyn = Brooklyn['SALE PRICE'].mean()\n",
    "std_Brooklyn = Brooklyn['SALE PRICE'].std()\n",
    "total_unit_Brooklyn, mu_Brooklyn, std_Brooklyn"
   ]
  },
  {
   "cell_type": "code",
   "execution_count": 47,
   "id": "fca522cb",
   "metadata": {},
   "outputs": [
    {
     "data": {
      "text/plain": [
       "(6900, 14.470341238136486, 0.743477551576598)"
      ]
     },
     "execution_count": 47,
     "metadata": {},
     "output_type": "execute_result"
    }
   ],
   "source": [
    "total_unit_Manhattan = df_borough.iloc[-1, 4]\n",
    "mu_Manhattan = Manhattan['SALE PRICE'].mean()\n",
    "std_Manhattan = Manhattan['SALE PRICE'].std()\n",
    "total_unit_Manhattan, mu_Manhattan, std_Manhattan"
   ]
  },
  {
   "cell_type": "code",
   "execution_count": 48,
   "id": "a6fc148b",
   "metadata": {},
   "outputs": [
    {
     "name": "stdout",
     "output_type": "stream",
     "text": [
      "pval:  2.253238313681692e-108\n",
      "reject null hypothesis\n"
     ]
    }
   ],
   "source": [
    "from statsmodels.stats.weightstats import ztest\n",
    "ztest, pval= ztest(Brooklyn['SALE PRICE'],Manhattan['SALE PRICE'])\n",
    "print(\"pval: \",float(pval))\n",
    "if pval<0.05:\n",
    "    print(\"reject null hypothesis\")\n",
    "else:\n",
    "    print(\"accept null hypothesis\")"
   ]
  },
  {
   "cell_type": "markdown",
   "id": "647b5094",
   "metadata": {},
   "source": [
    "Kesimpulan\n",
    "\n",
    "Dengan hasil ini dapat ditarik kesimpulan bahwa terdapat perbedaan yang cukup signifikan pada harga rata-rata per unit antara Borough Brooklyn dengan Manhattan"
   ]
  },
  {
   "cell_type": "markdown",
   "id": "286ac008",
   "metadata": {},
   "source": [
    "## Overall Analysis"
   ]
  },
  {
   "cell_type": "markdown",
   "id": "62ac8787",
   "metadata": {},
   "source": [
    "Berdasarkan analisis di atas dapat diambil beberapa kesimpulan antara lain :\n",
    "\n",
    "Dataset NYC Rolling Sale masih terdapat banyak missing value sehingga perlu dilakukan pre-processing data dengan data cleaning. Dilihat dari boxplot SALE PRICE di masing-masing wilayah NYC masih terdapat banyak outliers sehingga harus difilter terlebih dahulu. Berdasarkan probability distribution dari SALE PRICE pada masing-masing wilayah di NYC, semua wilayah memiliki distribusi yang besar namun hanya wilayah Bronx yang berdistribusi normal. Berdasarkan hypothesis testing didapat perbedaan yang cukup signifikan pada harga rata-rata per unit antara Borough Brooklyn dengan Manhattan"
   ]
  },
  {
   "cell_type": "code",
   "execution_count": null,
   "id": "c5eae9d6",
   "metadata": {},
   "outputs": [],
   "source": []
  }
 ],
 "metadata": {
  "kernelspec": {
   "display_name": "Python 3 (ipykernel)",
   "language": "python",
   "name": "python3"
  },
  "language_info": {
   "codemirror_mode": {
    "name": "ipython",
    "version": 3
   },
   "file_extension": ".py",
   "mimetype": "text/x-python",
   "name": "python",
   "nbconvert_exporter": "python",
   "pygments_lexer": "ipython3",
   "version": "3.9.12"
  }
 },
 "nbformat": 4,
 "nbformat_minor": 5
}
