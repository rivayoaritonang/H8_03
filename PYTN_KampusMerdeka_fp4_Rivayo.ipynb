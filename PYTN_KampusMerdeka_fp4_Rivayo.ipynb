{
 "cells": [
  {
   "cell_type": "markdown",
   "id": "5ec5644b",
   "metadata": {},
   "source": [
    "Final Project 4 - Clustering\n",
    "\n",
    "Anggota Kelompok:\n",
    "* Rivayo Aldoni A - PYTN-KS09-007\n",
    "* Audi Mayori - PYTN-KS09-011\n",
    "* Naufal Afif S - PYTN-KS09-015\n"
   ]
  },
  {
   "cell_type": "markdown",
   "id": "2ac66888",
   "metadata": {},
   "source": [
    "## Latar Belakang"
   ]
  },
  {
   "cell_type": "markdown",
   "id": "d22efc14",
   "metadata": {},
   "source": [
    "**Dataset**\n",
    "\n",
    "Dataset yang digunakan dalam pembuatan model ini bersumber dari https://www.kaggle.com/datasets/arjunbhasin2013/ccdata\n",
    "\n",
    "Dataset ini berisi transaksi pelanggan/pengguna kartu kredit sebanyak 8950 orang selama 6 bulan"
   ]
  },
  {
   "cell_type": "markdown",
   "id": "d82629e4",
   "metadata": {},
   "source": [
    "**Objective yang ingin dicapai**\n",
    "\n",
    "* Melakukan clustering pelanggan/pengguna kartu kredit\n",
    "* Mengetahui jumlah kluster yang optimal untuk segmentasi pelanggan/pengguna kartu kredit"
   ]
  },
  {
   "cell_type": "markdown",
   "id": "4f15415b",
   "metadata": {},
   "source": [
    "## Import Libraries"
   ]
  },
  {
   "cell_type": "code",
   "execution_count": 1,
   "id": "43106b61",
   "metadata": {
    "ExecuteTime": {
     "end_time": "2022-12-16T07:42:40.043533Z",
     "start_time": "2022-12-16T07:42:37.582573Z"
    }
   },
   "outputs": [],
   "source": [
    "import pandas as pd\n",
    "import numpy as np\n",
    "import seaborn as sns\n",
    "import matplotlib.pyplot as plt\n",
    "%matplotlib inline\n",
    "\n",
    "from sklearn.impute import SimpleImputer\n",
    "from sklearn.preprocessing import StandardScaler, normalize\n",
    "from sklearn.cluster import KMeans\n",
    "from sklearn.cluster import AgglomerativeClustering\n",
    "from sklearn.metrics import silhouette_score, davies_bouldin_score, calinski_harabasz_score\n",
    "\n",
    "import pickle"
   ]
  },
  {
   "cell_type": "markdown",
   "id": "48d0d44e",
   "metadata": {},
   "source": [
    "## Data Loading"
   ]
  },
  {
   "cell_type": "code",
   "execution_count": 2,
   "id": "49b1d44b",
   "metadata": {
    "ExecuteTime": {
     "end_time": "2022-12-16T07:42:41.651462Z",
     "start_time": "2022-12-16T07:42:41.580170Z"
    }
   },
   "outputs": [
    {
     "data": {
      "text/html": [
       "<div>\n",
       "<style scoped>\n",
       "    .dataframe tbody tr th:only-of-type {\n",
       "        vertical-align: middle;\n",
       "    }\n",
       "\n",
       "    .dataframe tbody tr th {\n",
       "        vertical-align: top;\n",
       "    }\n",
       "\n",
       "    .dataframe thead th {\n",
       "        text-align: right;\n",
       "    }\n",
       "</style>\n",
       "<table border=\"1\" class=\"dataframe\">\n",
       "  <thead>\n",
       "    <tr style=\"text-align: right;\">\n",
       "      <th></th>\n",
       "      <th>CUST_ID</th>\n",
       "      <th>BALANCE</th>\n",
       "      <th>BALANCE_FREQUENCY</th>\n",
       "      <th>PURCHASES</th>\n",
       "      <th>ONEOFF_PURCHASES</th>\n",
       "      <th>INSTALLMENTS_PURCHASES</th>\n",
       "      <th>CASH_ADVANCE</th>\n",
       "      <th>PURCHASES_FREQUENCY</th>\n",
       "      <th>ONEOFF_PURCHASES_FREQUENCY</th>\n",
       "      <th>PURCHASES_INSTALLMENTS_FREQUENCY</th>\n",
       "      <th>CASH_ADVANCE_FREQUENCY</th>\n",
       "      <th>CASH_ADVANCE_TRX</th>\n",
       "      <th>PURCHASES_TRX</th>\n",
       "      <th>CREDIT_LIMIT</th>\n",
       "      <th>PAYMENTS</th>\n",
       "      <th>MINIMUM_PAYMENTS</th>\n",
       "      <th>PRC_FULL_PAYMENT</th>\n",
       "      <th>TENURE</th>\n",
       "    </tr>\n",
       "  </thead>\n",
       "  <tbody>\n",
       "    <tr>\n",
       "      <th>0</th>\n",
       "      <td>C10001</td>\n",
       "      <td>40.900749</td>\n",
       "      <td>0.818182</td>\n",
       "      <td>95.40</td>\n",
       "      <td>0.00</td>\n",
       "      <td>95.4</td>\n",
       "      <td>0.000000</td>\n",
       "      <td>0.166667</td>\n",
       "      <td>0.000000</td>\n",
       "      <td>0.083333</td>\n",
       "      <td>0.000000</td>\n",
       "      <td>0</td>\n",
       "      <td>2</td>\n",
       "      <td>1000.0</td>\n",
       "      <td>201.802084</td>\n",
       "      <td>139.509787</td>\n",
       "      <td>0.000000</td>\n",
       "      <td>12</td>\n",
       "    </tr>\n",
       "    <tr>\n",
       "      <th>1</th>\n",
       "      <td>C10002</td>\n",
       "      <td>3202.467416</td>\n",
       "      <td>0.909091</td>\n",
       "      <td>0.00</td>\n",
       "      <td>0.00</td>\n",
       "      <td>0.0</td>\n",
       "      <td>6442.945483</td>\n",
       "      <td>0.000000</td>\n",
       "      <td>0.000000</td>\n",
       "      <td>0.000000</td>\n",
       "      <td>0.250000</td>\n",
       "      <td>4</td>\n",
       "      <td>0</td>\n",
       "      <td>7000.0</td>\n",
       "      <td>4103.032597</td>\n",
       "      <td>1072.340217</td>\n",
       "      <td>0.222222</td>\n",
       "      <td>12</td>\n",
       "    </tr>\n",
       "    <tr>\n",
       "      <th>2</th>\n",
       "      <td>C10003</td>\n",
       "      <td>2495.148862</td>\n",
       "      <td>1.000000</td>\n",
       "      <td>773.17</td>\n",
       "      <td>773.17</td>\n",
       "      <td>0.0</td>\n",
       "      <td>0.000000</td>\n",
       "      <td>1.000000</td>\n",
       "      <td>1.000000</td>\n",
       "      <td>0.000000</td>\n",
       "      <td>0.000000</td>\n",
       "      <td>0</td>\n",
       "      <td>12</td>\n",
       "      <td>7500.0</td>\n",
       "      <td>622.066742</td>\n",
       "      <td>627.284787</td>\n",
       "      <td>0.000000</td>\n",
       "      <td>12</td>\n",
       "    </tr>\n",
       "    <tr>\n",
       "      <th>3</th>\n",
       "      <td>C10004</td>\n",
       "      <td>1666.670542</td>\n",
       "      <td>0.636364</td>\n",
       "      <td>1499.00</td>\n",
       "      <td>1499.00</td>\n",
       "      <td>0.0</td>\n",
       "      <td>205.788017</td>\n",
       "      <td>0.083333</td>\n",
       "      <td>0.083333</td>\n",
       "      <td>0.000000</td>\n",
       "      <td>0.083333</td>\n",
       "      <td>1</td>\n",
       "      <td>1</td>\n",
       "      <td>7500.0</td>\n",
       "      <td>0.000000</td>\n",
       "      <td>NaN</td>\n",
       "      <td>0.000000</td>\n",
       "      <td>12</td>\n",
       "    </tr>\n",
       "    <tr>\n",
       "      <th>4</th>\n",
       "      <td>C10005</td>\n",
       "      <td>817.714335</td>\n",
       "      <td>1.000000</td>\n",
       "      <td>16.00</td>\n",
       "      <td>16.00</td>\n",
       "      <td>0.0</td>\n",
       "      <td>0.000000</td>\n",
       "      <td>0.083333</td>\n",
       "      <td>0.083333</td>\n",
       "      <td>0.000000</td>\n",
       "      <td>0.000000</td>\n",
       "      <td>0</td>\n",
       "      <td>1</td>\n",
       "      <td>1200.0</td>\n",
       "      <td>678.334763</td>\n",
       "      <td>244.791237</td>\n",
       "      <td>0.000000</td>\n",
       "      <td>12</td>\n",
       "    </tr>\n",
       "  </tbody>\n",
       "</table>\n",
       "</div>"
      ],
      "text/plain": [
       "  CUST_ID      BALANCE  BALANCE_FREQUENCY  PURCHASES  ONEOFF_PURCHASES  \\\n",
       "0  C10001    40.900749           0.818182      95.40              0.00   \n",
       "1  C10002  3202.467416           0.909091       0.00              0.00   \n",
       "2  C10003  2495.148862           1.000000     773.17            773.17   \n",
       "3  C10004  1666.670542           0.636364    1499.00           1499.00   \n",
       "4  C10005   817.714335           1.000000      16.00             16.00   \n",
       "\n",
       "   INSTALLMENTS_PURCHASES  CASH_ADVANCE  PURCHASES_FREQUENCY  \\\n",
       "0                    95.4      0.000000             0.166667   \n",
       "1                     0.0   6442.945483             0.000000   \n",
       "2                     0.0      0.000000             1.000000   \n",
       "3                     0.0    205.788017             0.083333   \n",
       "4                     0.0      0.000000             0.083333   \n",
       "\n",
       "   ONEOFF_PURCHASES_FREQUENCY  PURCHASES_INSTALLMENTS_FREQUENCY  \\\n",
       "0                    0.000000                          0.083333   \n",
       "1                    0.000000                          0.000000   \n",
       "2                    1.000000                          0.000000   \n",
       "3                    0.083333                          0.000000   \n",
       "4                    0.083333                          0.000000   \n",
       "\n",
       "   CASH_ADVANCE_FREQUENCY  CASH_ADVANCE_TRX  PURCHASES_TRX  CREDIT_LIMIT  \\\n",
       "0                0.000000                 0              2        1000.0   \n",
       "1                0.250000                 4              0        7000.0   \n",
       "2                0.000000                 0             12        7500.0   \n",
       "3                0.083333                 1              1        7500.0   \n",
       "4                0.000000                 0              1        1200.0   \n",
       "\n",
       "      PAYMENTS  MINIMUM_PAYMENTS  PRC_FULL_PAYMENT  TENURE  \n",
       "0   201.802084        139.509787          0.000000      12  \n",
       "1  4103.032597       1072.340217          0.222222      12  \n",
       "2   622.066742        627.284787          0.000000      12  \n",
       "3     0.000000               NaN          0.000000      12  \n",
       "4   678.334763        244.791237          0.000000      12  "
      ]
     },
     "execution_count": 2,
     "metadata": {},
     "output_type": "execute_result"
    }
   ],
   "source": [
    "df = pd.read_csv('dataset/CC GENERAL.csv')\n",
    "df.head()"
   ]
  },
  {
   "cell_type": "code",
   "execution_count": 3,
   "id": "71c45df5",
   "metadata": {
    "ExecuteTime": {
     "end_time": "2022-12-16T07:42:42.916792Z",
     "start_time": "2022-12-16T07:42:42.887867Z"
    }
   },
   "outputs": [
    {
     "data": {
      "text/html": [
       "<div>\n",
       "<style scoped>\n",
       "    .dataframe tbody tr th:only-of-type {\n",
       "        vertical-align: middle;\n",
       "    }\n",
       "\n",
       "    .dataframe tbody tr th {\n",
       "        vertical-align: top;\n",
       "    }\n",
       "\n",
       "    .dataframe thead th {\n",
       "        text-align: right;\n",
       "    }\n",
       "</style>\n",
       "<table border=\"1\" class=\"dataframe\">\n",
       "  <thead>\n",
       "    <tr style=\"text-align: right;\">\n",
       "      <th></th>\n",
       "      <th>CUST_ID</th>\n",
       "      <th>BALANCE</th>\n",
       "      <th>BALANCE_FREQUENCY</th>\n",
       "      <th>PURCHASES</th>\n",
       "      <th>ONEOFF_PURCHASES</th>\n",
       "      <th>INSTALLMENTS_PURCHASES</th>\n",
       "      <th>CASH_ADVANCE</th>\n",
       "      <th>PURCHASES_FREQUENCY</th>\n",
       "      <th>ONEOFF_PURCHASES_FREQUENCY</th>\n",
       "      <th>PURCHASES_INSTALLMENTS_FREQUENCY</th>\n",
       "      <th>CASH_ADVANCE_FREQUENCY</th>\n",
       "      <th>CASH_ADVANCE_TRX</th>\n",
       "      <th>PURCHASES_TRX</th>\n",
       "      <th>CREDIT_LIMIT</th>\n",
       "      <th>PAYMENTS</th>\n",
       "      <th>MINIMUM_PAYMENTS</th>\n",
       "      <th>PRC_FULL_PAYMENT</th>\n",
       "      <th>TENURE</th>\n",
       "    </tr>\n",
       "  </thead>\n",
       "  <tbody>\n",
       "    <tr>\n",
       "      <th>8945</th>\n",
       "      <td>C19186</td>\n",
       "      <td>28.493517</td>\n",
       "      <td>1.000000</td>\n",
       "      <td>291.12</td>\n",
       "      <td>0.00</td>\n",
       "      <td>291.12</td>\n",
       "      <td>0.000000</td>\n",
       "      <td>1.000000</td>\n",
       "      <td>0.000000</td>\n",
       "      <td>0.833333</td>\n",
       "      <td>0.000000</td>\n",
       "      <td>0</td>\n",
       "      <td>6</td>\n",
       "      <td>1000.0</td>\n",
       "      <td>325.594462</td>\n",
       "      <td>48.886365</td>\n",
       "      <td>0.50</td>\n",
       "      <td>6</td>\n",
       "    </tr>\n",
       "    <tr>\n",
       "      <th>8946</th>\n",
       "      <td>C19187</td>\n",
       "      <td>19.183215</td>\n",
       "      <td>1.000000</td>\n",
       "      <td>300.00</td>\n",
       "      <td>0.00</td>\n",
       "      <td>300.00</td>\n",
       "      <td>0.000000</td>\n",
       "      <td>1.000000</td>\n",
       "      <td>0.000000</td>\n",
       "      <td>0.833333</td>\n",
       "      <td>0.000000</td>\n",
       "      <td>0</td>\n",
       "      <td>6</td>\n",
       "      <td>1000.0</td>\n",
       "      <td>275.861322</td>\n",
       "      <td>NaN</td>\n",
       "      <td>0.00</td>\n",
       "      <td>6</td>\n",
       "    </tr>\n",
       "    <tr>\n",
       "      <th>8947</th>\n",
       "      <td>C19188</td>\n",
       "      <td>23.398673</td>\n",
       "      <td>0.833333</td>\n",
       "      <td>144.40</td>\n",
       "      <td>0.00</td>\n",
       "      <td>144.40</td>\n",
       "      <td>0.000000</td>\n",
       "      <td>0.833333</td>\n",
       "      <td>0.000000</td>\n",
       "      <td>0.666667</td>\n",
       "      <td>0.000000</td>\n",
       "      <td>0</td>\n",
       "      <td>5</td>\n",
       "      <td>1000.0</td>\n",
       "      <td>81.270775</td>\n",
       "      <td>82.418369</td>\n",
       "      <td>0.25</td>\n",
       "      <td>6</td>\n",
       "    </tr>\n",
       "    <tr>\n",
       "      <th>8948</th>\n",
       "      <td>C19189</td>\n",
       "      <td>13.457564</td>\n",
       "      <td>0.833333</td>\n",
       "      <td>0.00</td>\n",
       "      <td>0.00</td>\n",
       "      <td>0.00</td>\n",
       "      <td>36.558778</td>\n",
       "      <td>0.000000</td>\n",
       "      <td>0.000000</td>\n",
       "      <td>0.000000</td>\n",
       "      <td>0.166667</td>\n",
       "      <td>2</td>\n",
       "      <td>0</td>\n",
       "      <td>500.0</td>\n",
       "      <td>52.549959</td>\n",
       "      <td>55.755628</td>\n",
       "      <td>0.25</td>\n",
       "      <td>6</td>\n",
       "    </tr>\n",
       "    <tr>\n",
       "      <th>8949</th>\n",
       "      <td>C19190</td>\n",
       "      <td>372.708075</td>\n",
       "      <td>0.666667</td>\n",
       "      <td>1093.25</td>\n",
       "      <td>1093.25</td>\n",
       "      <td>0.00</td>\n",
       "      <td>127.040008</td>\n",
       "      <td>0.666667</td>\n",
       "      <td>0.666667</td>\n",
       "      <td>0.000000</td>\n",
       "      <td>0.333333</td>\n",
       "      <td>2</td>\n",
       "      <td>23</td>\n",
       "      <td>1200.0</td>\n",
       "      <td>63.165404</td>\n",
       "      <td>88.288956</td>\n",
       "      <td>0.00</td>\n",
       "      <td>6</td>\n",
       "    </tr>\n",
       "  </tbody>\n",
       "</table>\n",
       "</div>"
      ],
      "text/plain": [
       "     CUST_ID     BALANCE  BALANCE_FREQUENCY  PURCHASES  ONEOFF_PURCHASES  \\\n",
       "8945  C19186   28.493517           1.000000     291.12              0.00   \n",
       "8946  C19187   19.183215           1.000000     300.00              0.00   \n",
       "8947  C19188   23.398673           0.833333     144.40              0.00   \n",
       "8948  C19189   13.457564           0.833333       0.00              0.00   \n",
       "8949  C19190  372.708075           0.666667    1093.25           1093.25   \n",
       "\n",
       "      INSTALLMENTS_PURCHASES  CASH_ADVANCE  PURCHASES_FREQUENCY  \\\n",
       "8945                  291.12      0.000000             1.000000   \n",
       "8946                  300.00      0.000000             1.000000   \n",
       "8947                  144.40      0.000000             0.833333   \n",
       "8948                    0.00     36.558778             0.000000   \n",
       "8949                    0.00    127.040008             0.666667   \n",
       "\n",
       "      ONEOFF_PURCHASES_FREQUENCY  PURCHASES_INSTALLMENTS_FREQUENCY  \\\n",
       "8945                    0.000000                          0.833333   \n",
       "8946                    0.000000                          0.833333   \n",
       "8947                    0.000000                          0.666667   \n",
       "8948                    0.000000                          0.000000   \n",
       "8949                    0.666667                          0.000000   \n",
       "\n",
       "      CASH_ADVANCE_FREQUENCY  CASH_ADVANCE_TRX  PURCHASES_TRX  CREDIT_LIMIT  \\\n",
       "8945                0.000000                 0              6        1000.0   \n",
       "8946                0.000000                 0              6        1000.0   \n",
       "8947                0.000000                 0              5        1000.0   \n",
       "8948                0.166667                 2              0         500.0   \n",
       "8949                0.333333                 2             23        1200.0   \n",
       "\n",
       "        PAYMENTS  MINIMUM_PAYMENTS  PRC_FULL_PAYMENT  TENURE  \n",
       "8945  325.594462         48.886365              0.50       6  \n",
       "8946  275.861322               NaN              0.00       6  \n",
       "8947   81.270775         82.418369              0.25       6  \n",
       "8948   52.549959         55.755628              0.25       6  \n",
       "8949   63.165404         88.288956              0.00       6  "
      ]
     },
     "execution_count": 3,
     "metadata": {},
     "output_type": "execute_result"
    }
   ],
   "source": [
    "df.tail()"
   ]
  },
  {
   "cell_type": "code",
   "execution_count": 4,
   "id": "dc42109c",
   "metadata": {
    "ExecuteTime": {
     "end_time": "2022-12-16T07:42:44.321131Z",
     "start_time": "2022-12-16T07:42:44.286226Z"
    }
   },
   "outputs": [
    {
     "name": "stdout",
     "output_type": "stream",
     "text": [
      "<class 'pandas.core.frame.DataFrame'>\n",
      "RangeIndex: 8950 entries, 0 to 8949\n",
      "Data columns (total 18 columns):\n",
      " #   Column                            Non-Null Count  Dtype  \n",
      "---  ------                            --------------  -----  \n",
      " 0   CUST_ID                           8950 non-null   object \n",
      " 1   BALANCE                           8950 non-null   float64\n",
      " 2   BALANCE_FREQUENCY                 8950 non-null   float64\n",
      " 3   PURCHASES                         8950 non-null   float64\n",
      " 4   ONEOFF_PURCHASES                  8950 non-null   float64\n",
      " 5   INSTALLMENTS_PURCHASES            8950 non-null   float64\n",
      " 6   CASH_ADVANCE                      8950 non-null   float64\n",
      " 7   PURCHASES_FREQUENCY               8950 non-null   float64\n",
      " 8   ONEOFF_PURCHASES_FREQUENCY        8950 non-null   float64\n",
      " 9   PURCHASES_INSTALLMENTS_FREQUENCY  8950 non-null   float64\n",
      " 10  CASH_ADVANCE_FREQUENCY            8950 non-null   float64\n",
      " 11  CASH_ADVANCE_TRX                  8950 non-null   int64  \n",
      " 12  PURCHASES_TRX                     8950 non-null   int64  \n",
      " 13  CREDIT_LIMIT                      8949 non-null   float64\n",
      " 14  PAYMENTS                          8950 non-null   float64\n",
      " 15  MINIMUM_PAYMENTS                  8637 non-null   float64\n",
      " 16  PRC_FULL_PAYMENT                  8950 non-null   float64\n",
      " 17  TENURE                            8950 non-null   int64  \n",
      "dtypes: float64(14), int64(3), object(1)\n",
      "memory usage: 1.2+ MB\n"
     ]
    }
   ],
   "source": [
    "df.info()"
   ]
  },
  {
   "cell_type": "code",
   "execution_count": 5,
   "id": "7b667370",
   "metadata": {
    "ExecuteTime": {
     "end_time": "2022-12-16T07:42:47.588477Z",
     "start_time": "2022-12-16T07:42:47.576506Z"
    }
   },
   "outputs": [
    {
     "data": {
      "text/plain": [
       "Index(['CUST_ID', 'BALANCE', 'BALANCE_FREQUENCY', 'PURCHASES',\n",
       "       'ONEOFF_PURCHASES', 'INSTALLMENTS_PURCHASES', 'CASH_ADVANCE',\n",
       "       'PURCHASES_FREQUENCY', 'ONEOFF_PURCHASES_FREQUENCY',\n",
       "       'PURCHASES_INSTALLMENTS_FREQUENCY', 'CASH_ADVANCE_FREQUENCY',\n",
       "       'CASH_ADVANCE_TRX', 'PURCHASES_TRX', 'CREDIT_LIMIT', 'PAYMENTS',\n",
       "       'MINIMUM_PAYMENTS', 'PRC_FULL_PAYMENT', 'TENURE'],\n",
       "      dtype='object')"
      ]
     },
     "execution_count": 5,
     "metadata": {},
     "output_type": "execute_result"
    }
   ],
   "source": [
    "df.columns"
   ]
  },
  {
   "cell_type": "code",
   "execution_count": 6,
   "id": "5d617b27",
   "metadata": {
    "ExecuteTime": {
     "end_time": "2022-12-16T07:42:49.463804Z",
     "start_time": "2022-12-16T07:42:49.437875Z"
    }
   },
   "outputs": [
    {
     "name": "stdout",
     "output_type": "stream",
     "text": [
      "CUST_ID :  8950\n",
      "BALANCE :  8871\n",
      "BALANCE_FREQUENCY :  43\n",
      "PURCHASES :  6203\n",
      "ONEOFF_PURCHASES :  4014\n",
      "INSTALLMENTS_PURCHASES :  4452\n",
      "CASH_ADVANCE :  4323\n",
      "PURCHASES_FREQUENCY :  47\n",
      "ONEOFF_PURCHASES_FREQUENCY :  47\n",
      "PURCHASES_INSTALLMENTS_FREQUENCY :  47\n",
      "CASH_ADVANCE_FREQUENCY :  54\n",
      "CASH_ADVANCE_TRX :  65\n",
      "PURCHASES_TRX :  173\n",
      "CREDIT_LIMIT :  205\n",
      "PAYMENTS :  8711\n",
      "MINIMUM_PAYMENTS :  8636\n",
      "PRC_FULL_PAYMENT :  47\n",
      "TENURE :  7\n"
     ]
    }
   ],
   "source": [
    "for col in df.columns:\n",
    "    print(col,': ', df[col].nunique())"
   ]
  },
  {
   "cell_type": "code",
   "execution_count": 7,
   "id": "0454635d",
   "metadata": {
    "ExecuteTime": {
     "end_time": "2022-12-16T07:42:51.616248Z",
     "start_time": "2022-12-16T07:42:51.604285Z"
    }
   },
   "outputs": [
    {
     "data": {
      "text/plain": [
       "CUST_ID                               0\n",
       "BALANCE                               0\n",
       "BALANCE_FREQUENCY                     0\n",
       "PURCHASES                             0\n",
       "ONEOFF_PURCHASES                      0\n",
       "INSTALLMENTS_PURCHASES                0\n",
       "CASH_ADVANCE                          0\n",
       "PURCHASES_FREQUENCY                   0\n",
       "ONEOFF_PURCHASES_FREQUENCY            0\n",
       "PURCHASES_INSTALLMENTS_FREQUENCY      0\n",
       "CASH_ADVANCE_FREQUENCY                0\n",
       "CASH_ADVANCE_TRX                      0\n",
       "PURCHASES_TRX                         0\n",
       "CREDIT_LIMIT                          1\n",
       "PAYMENTS                              0\n",
       "MINIMUM_PAYMENTS                    313\n",
       "PRC_FULL_PAYMENT                      0\n",
       "TENURE                                0\n",
       "dtype: int64"
      ]
     },
     "execution_count": 7,
     "metadata": {},
     "output_type": "execute_result"
    }
   ],
   "source": [
    "df.isnull().sum()"
   ]
  },
  {
   "cell_type": "code",
   "execution_count": 8,
   "id": "23aac8ef",
   "metadata": {
    "ExecuteTime": {
     "end_time": "2022-12-16T07:42:57.891657Z",
     "start_time": "2022-12-16T07:42:57.822478Z"
    }
   },
   "outputs": [
    {
     "data": {
      "text/html": [
       "<div>\n",
       "<style scoped>\n",
       "    .dataframe tbody tr th:only-of-type {\n",
       "        vertical-align: middle;\n",
       "    }\n",
       "\n",
       "    .dataframe tbody tr th {\n",
       "        vertical-align: top;\n",
       "    }\n",
       "\n",
       "    .dataframe thead th {\n",
       "        text-align: right;\n",
       "    }\n",
       "</style>\n",
       "<table border=\"1\" class=\"dataframe\">\n",
       "  <thead>\n",
       "    <tr style=\"text-align: right;\">\n",
       "      <th></th>\n",
       "      <th>BALANCE</th>\n",
       "      <th>BALANCE_FREQUENCY</th>\n",
       "      <th>PURCHASES</th>\n",
       "      <th>ONEOFF_PURCHASES</th>\n",
       "      <th>INSTALLMENTS_PURCHASES</th>\n",
       "      <th>CASH_ADVANCE</th>\n",
       "      <th>PURCHASES_FREQUENCY</th>\n",
       "      <th>ONEOFF_PURCHASES_FREQUENCY</th>\n",
       "      <th>PURCHASES_INSTALLMENTS_FREQUENCY</th>\n",
       "      <th>CASH_ADVANCE_FREQUENCY</th>\n",
       "      <th>CASH_ADVANCE_TRX</th>\n",
       "      <th>PURCHASES_TRX</th>\n",
       "      <th>CREDIT_LIMIT</th>\n",
       "      <th>PAYMENTS</th>\n",
       "      <th>MINIMUM_PAYMENTS</th>\n",
       "      <th>PRC_FULL_PAYMENT</th>\n",
       "      <th>TENURE</th>\n",
       "    </tr>\n",
       "  </thead>\n",
       "  <tbody>\n",
       "    <tr>\n",
       "      <th>count</th>\n",
       "      <td>8950.000000</td>\n",
       "      <td>8950.000000</td>\n",
       "      <td>8950.000000</td>\n",
       "      <td>8950.000000</td>\n",
       "      <td>8950.000000</td>\n",
       "      <td>8950.000000</td>\n",
       "      <td>8950.000000</td>\n",
       "      <td>8950.000000</td>\n",
       "      <td>8950.000000</td>\n",
       "      <td>8950.000000</td>\n",
       "      <td>8950.000000</td>\n",
       "      <td>8950.000000</td>\n",
       "      <td>8949.000000</td>\n",
       "      <td>8950.000000</td>\n",
       "      <td>8637.000000</td>\n",
       "      <td>8950.000000</td>\n",
       "      <td>8950.000000</td>\n",
       "    </tr>\n",
       "    <tr>\n",
       "      <th>mean</th>\n",
       "      <td>1564.474828</td>\n",
       "      <td>0.877271</td>\n",
       "      <td>1003.204834</td>\n",
       "      <td>592.437371</td>\n",
       "      <td>411.067645</td>\n",
       "      <td>978.871112</td>\n",
       "      <td>0.490351</td>\n",
       "      <td>0.202458</td>\n",
       "      <td>0.364437</td>\n",
       "      <td>0.135144</td>\n",
       "      <td>3.248827</td>\n",
       "      <td>14.709832</td>\n",
       "      <td>4494.449450</td>\n",
       "      <td>1733.143852</td>\n",
       "      <td>864.206542</td>\n",
       "      <td>0.153715</td>\n",
       "      <td>11.517318</td>\n",
       "    </tr>\n",
       "    <tr>\n",
       "      <th>std</th>\n",
       "      <td>2081.531879</td>\n",
       "      <td>0.236904</td>\n",
       "      <td>2136.634782</td>\n",
       "      <td>1659.887917</td>\n",
       "      <td>904.338115</td>\n",
       "      <td>2097.163877</td>\n",
       "      <td>0.401371</td>\n",
       "      <td>0.298336</td>\n",
       "      <td>0.397448</td>\n",
       "      <td>0.200121</td>\n",
       "      <td>6.824647</td>\n",
       "      <td>24.857649</td>\n",
       "      <td>3638.815725</td>\n",
       "      <td>2895.063757</td>\n",
       "      <td>2372.446607</td>\n",
       "      <td>0.292499</td>\n",
       "      <td>1.338331</td>\n",
       "    </tr>\n",
       "    <tr>\n",
       "      <th>min</th>\n",
       "      <td>0.000000</td>\n",
       "      <td>0.000000</td>\n",
       "      <td>0.000000</td>\n",
       "      <td>0.000000</td>\n",
       "      <td>0.000000</td>\n",
       "      <td>0.000000</td>\n",
       "      <td>0.000000</td>\n",
       "      <td>0.000000</td>\n",
       "      <td>0.000000</td>\n",
       "      <td>0.000000</td>\n",
       "      <td>0.000000</td>\n",
       "      <td>0.000000</td>\n",
       "      <td>50.000000</td>\n",
       "      <td>0.000000</td>\n",
       "      <td>0.019163</td>\n",
       "      <td>0.000000</td>\n",
       "      <td>6.000000</td>\n",
       "    </tr>\n",
       "    <tr>\n",
       "      <th>25%</th>\n",
       "      <td>128.281915</td>\n",
       "      <td>0.888889</td>\n",
       "      <td>39.635000</td>\n",
       "      <td>0.000000</td>\n",
       "      <td>0.000000</td>\n",
       "      <td>0.000000</td>\n",
       "      <td>0.083333</td>\n",
       "      <td>0.000000</td>\n",
       "      <td>0.000000</td>\n",
       "      <td>0.000000</td>\n",
       "      <td>0.000000</td>\n",
       "      <td>1.000000</td>\n",
       "      <td>1600.000000</td>\n",
       "      <td>383.276166</td>\n",
       "      <td>169.123707</td>\n",
       "      <td>0.000000</td>\n",
       "      <td>12.000000</td>\n",
       "    </tr>\n",
       "    <tr>\n",
       "      <th>50%</th>\n",
       "      <td>873.385231</td>\n",
       "      <td>1.000000</td>\n",
       "      <td>361.280000</td>\n",
       "      <td>38.000000</td>\n",
       "      <td>89.000000</td>\n",
       "      <td>0.000000</td>\n",
       "      <td>0.500000</td>\n",
       "      <td>0.083333</td>\n",
       "      <td>0.166667</td>\n",
       "      <td>0.000000</td>\n",
       "      <td>0.000000</td>\n",
       "      <td>7.000000</td>\n",
       "      <td>3000.000000</td>\n",
       "      <td>856.901546</td>\n",
       "      <td>312.343947</td>\n",
       "      <td>0.000000</td>\n",
       "      <td>12.000000</td>\n",
       "    </tr>\n",
       "    <tr>\n",
       "      <th>75%</th>\n",
       "      <td>2054.140036</td>\n",
       "      <td>1.000000</td>\n",
       "      <td>1110.130000</td>\n",
       "      <td>577.405000</td>\n",
       "      <td>468.637500</td>\n",
       "      <td>1113.821139</td>\n",
       "      <td>0.916667</td>\n",
       "      <td>0.300000</td>\n",
       "      <td>0.750000</td>\n",
       "      <td>0.222222</td>\n",
       "      <td>4.000000</td>\n",
       "      <td>17.000000</td>\n",
       "      <td>6500.000000</td>\n",
       "      <td>1901.134317</td>\n",
       "      <td>825.485459</td>\n",
       "      <td>0.142857</td>\n",
       "      <td>12.000000</td>\n",
       "    </tr>\n",
       "    <tr>\n",
       "      <th>max</th>\n",
       "      <td>19043.138560</td>\n",
       "      <td>1.000000</td>\n",
       "      <td>49039.570000</td>\n",
       "      <td>40761.250000</td>\n",
       "      <td>22500.000000</td>\n",
       "      <td>47137.211760</td>\n",
       "      <td>1.000000</td>\n",
       "      <td>1.000000</td>\n",
       "      <td>1.000000</td>\n",
       "      <td>1.500000</td>\n",
       "      <td>123.000000</td>\n",
       "      <td>358.000000</td>\n",
       "      <td>30000.000000</td>\n",
       "      <td>50721.483360</td>\n",
       "      <td>76406.207520</td>\n",
       "      <td>1.000000</td>\n",
       "      <td>12.000000</td>\n",
       "    </tr>\n",
       "  </tbody>\n",
       "</table>\n",
       "</div>"
      ],
      "text/plain": [
       "            BALANCE  BALANCE_FREQUENCY     PURCHASES  ONEOFF_PURCHASES  \\\n",
       "count   8950.000000        8950.000000   8950.000000       8950.000000   \n",
       "mean    1564.474828           0.877271   1003.204834        592.437371   \n",
       "std     2081.531879           0.236904   2136.634782       1659.887917   \n",
       "min        0.000000           0.000000      0.000000          0.000000   \n",
       "25%      128.281915           0.888889     39.635000          0.000000   \n",
       "50%      873.385231           1.000000    361.280000         38.000000   \n",
       "75%     2054.140036           1.000000   1110.130000        577.405000   \n",
       "max    19043.138560           1.000000  49039.570000      40761.250000   \n",
       "\n",
       "       INSTALLMENTS_PURCHASES  CASH_ADVANCE  PURCHASES_FREQUENCY  \\\n",
       "count             8950.000000   8950.000000          8950.000000   \n",
       "mean               411.067645    978.871112             0.490351   \n",
       "std                904.338115   2097.163877             0.401371   \n",
       "min                  0.000000      0.000000             0.000000   \n",
       "25%                  0.000000      0.000000             0.083333   \n",
       "50%                 89.000000      0.000000             0.500000   \n",
       "75%                468.637500   1113.821139             0.916667   \n",
       "max              22500.000000  47137.211760             1.000000   \n",
       "\n",
       "       ONEOFF_PURCHASES_FREQUENCY  PURCHASES_INSTALLMENTS_FREQUENCY  \\\n",
       "count                 8950.000000                       8950.000000   \n",
       "mean                     0.202458                          0.364437   \n",
       "std                      0.298336                          0.397448   \n",
       "min                      0.000000                          0.000000   \n",
       "25%                      0.000000                          0.000000   \n",
       "50%                      0.083333                          0.166667   \n",
       "75%                      0.300000                          0.750000   \n",
       "max                      1.000000                          1.000000   \n",
       "\n",
       "       CASH_ADVANCE_FREQUENCY  CASH_ADVANCE_TRX  PURCHASES_TRX  CREDIT_LIMIT  \\\n",
       "count             8950.000000       8950.000000    8950.000000   8949.000000   \n",
       "mean                 0.135144          3.248827      14.709832   4494.449450   \n",
       "std                  0.200121          6.824647      24.857649   3638.815725   \n",
       "min                  0.000000          0.000000       0.000000     50.000000   \n",
       "25%                  0.000000          0.000000       1.000000   1600.000000   \n",
       "50%                  0.000000          0.000000       7.000000   3000.000000   \n",
       "75%                  0.222222          4.000000      17.000000   6500.000000   \n",
       "max                  1.500000        123.000000     358.000000  30000.000000   \n",
       "\n",
       "           PAYMENTS  MINIMUM_PAYMENTS  PRC_FULL_PAYMENT       TENURE  \n",
       "count   8950.000000       8637.000000       8950.000000  8950.000000  \n",
       "mean    1733.143852        864.206542          0.153715    11.517318  \n",
       "std     2895.063757       2372.446607          0.292499     1.338331  \n",
       "min        0.000000          0.019163          0.000000     6.000000  \n",
       "25%      383.276166        169.123707          0.000000    12.000000  \n",
       "50%      856.901546        312.343947          0.000000    12.000000  \n",
       "75%     1901.134317        825.485459          0.142857    12.000000  \n",
       "max    50721.483360      76406.207520          1.000000    12.000000  "
      ]
     },
     "execution_count": 8,
     "metadata": {},
     "output_type": "execute_result"
    }
   ],
   "source": [
    "df.describe()"
   ]
  },
  {
   "cell_type": "markdown",
   "id": "63a1c700",
   "metadata": {},
   "source": [
    "## Data Cleaning"
   ]
  },
  {
   "cell_type": "code",
   "execution_count": 9,
   "id": "e1b74de8",
   "metadata": {
    "ExecuteTime": {
     "end_time": "2022-12-16T07:43:00.940706Z",
     "start_time": "2022-12-16T07:43:00.908756Z"
    }
   },
   "outputs": [
    {
     "data": {
      "text/plain": [
       "0"
      ]
     },
     "execution_count": 9,
     "metadata": {},
     "output_type": "execute_result"
    }
   ],
   "source": [
    "df.duplicated().sum()"
   ]
  },
  {
   "cell_type": "markdown",
   "id": "56a1fbd0",
   "metadata": {},
   "source": [
    "**Handle Missing Value**\n",
    "\n",
    "Melakukan penanganan terhadap missing value yang telah diketahui sebelumnya menggunakan imputasi median"
   ]
  },
  {
   "cell_type": "code",
   "execution_count": 10,
   "id": "54515c2a",
   "metadata": {
    "ExecuteTime": {
     "end_time": "2022-12-16T07:43:04.604772Z",
     "start_time": "2022-12-16T07:43:04.588816Z"
    }
   },
   "outputs": [],
   "source": [
    "imputer = SimpleImputer(missing_values=np.nan, strategy='median')\n",
    "\n",
    "imp1 = df['MINIMUM_PAYMENTS'].values.reshape(-1, 1)\n",
    "imp2 = df['CREDIT_LIMIT'].values.reshape(-1, 1)\n",
    "\n",
    "imp1 = imputer.fit_transform(imp1) \n",
    "imp2 = imputer.fit_transform(imp2)\n",
    "\n",
    "df['MINIMUM_PAYMENTS'] = imp1\n",
    "df['CREDIT_LIMIT'] = imp2"
   ]
  },
  {
   "cell_type": "code",
   "execution_count": 11,
   "id": "2126a30f",
   "metadata": {
    "ExecuteTime": {
     "end_time": "2022-12-16T07:43:07.420444Z",
     "start_time": "2022-12-16T07:43:07.399504Z"
    }
   },
   "outputs": [
    {
     "data": {
      "text/plain": [
       "CUST_ID                             0\n",
       "BALANCE                             0\n",
       "BALANCE_FREQUENCY                   0\n",
       "PURCHASES                           0\n",
       "ONEOFF_PURCHASES                    0\n",
       "INSTALLMENTS_PURCHASES              0\n",
       "CASH_ADVANCE                        0\n",
       "PURCHASES_FREQUENCY                 0\n",
       "ONEOFF_PURCHASES_FREQUENCY          0\n",
       "PURCHASES_INSTALLMENTS_FREQUENCY    0\n",
       "CASH_ADVANCE_FREQUENCY              0\n",
       "CASH_ADVANCE_TRX                    0\n",
       "PURCHASES_TRX                       0\n",
       "CREDIT_LIMIT                        0\n",
       "PAYMENTS                            0\n",
       "MINIMUM_PAYMENTS                    0\n",
       "PRC_FULL_PAYMENT                    0\n",
       "TENURE                              0\n",
       "dtype: int64"
      ]
     },
     "execution_count": 11,
     "metadata": {},
     "output_type": "execute_result"
    }
   ],
   "source": [
    "df.isnull().sum()"
   ]
  },
  {
   "cell_type": "markdown",
   "id": "fb2e9b82",
   "metadata": {},
   "source": [
    "## Data Exploration"
   ]
  },
  {
   "cell_type": "code",
   "execution_count": 12,
   "id": "e36d4188",
   "metadata": {
    "ExecuteTime": {
     "end_time": "2022-12-16T07:43:11.081582Z",
     "start_time": "2022-12-16T07:43:11.001749Z"
    }
   },
   "outputs": [
    {
     "data": {
      "text/html": [
       "<div>\n",
       "<style scoped>\n",
       "    .dataframe tbody tr th:only-of-type {\n",
       "        vertical-align: middle;\n",
       "    }\n",
       "\n",
       "    .dataframe tbody tr th {\n",
       "        vertical-align: top;\n",
       "    }\n",
       "\n",
       "    .dataframe thead th {\n",
       "        text-align: right;\n",
       "    }\n",
       "</style>\n",
       "<table border=\"1\" class=\"dataframe\">\n",
       "  <thead>\n",
       "    <tr style=\"text-align: right;\">\n",
       "      <th></th>\n",
       "      <th>BALANCE</th>\n",
       "      <th>BALANCE_FREQUENCY</th>\n",
       "      <th>PURCHASES</th>\n",
       "      <th>ONEOFF_PURCHASES</th>\n",
       "      <th>INSTALLMENTS_PURCHASES</th>\n",
       "      <th>CASH_ADVANCE</th>\n",
       "      <th>PURCHASES_FREQUENCY</th>\n",
       "      <th>ONEOFF_PURCHASES_FREQUENCY</th>\n",
       "      <th>PURCHASES_INSTALLMENTS_FREQUENCY</th>\n",
       "      <th>CASH_ADVANCE_FREQUENCY</th>\n",
       "      <th>CASH_ADVANCE_TRX</th>\n",
       "      <th>PURCHASES_TRX</th>\n",
       "      <th>CREDIT_LIMIT</th>\n",
       "      <th>PAYMENTS</th>\n",
       "      <th>MINIMUM_PAYMENTS</th>\n",
       "      <th>PRC_FULL_PAYMENT</th>\n",
       "      <th>TENURE</th>\n",
       "    </tr>\n",
       "  </thead>\n",
       "  <tbody>\n",
       "    <tr>\n",
       "      <th>count</th>\n",
       "      <td>8950.000000</td>\n",
       "      <td>8950.000000</td>\n",
       "      <td>8950.000000</td>\n",
       "      <td>8950.000000</td>\n",
       "      <td>8950.000000</td>\n",
       "      <td>8950.000000</td>\n",
       "      <td>8950.000000</td>\n",
       "      <td>8950.000000</td>\n",
       "      <td>8950.000000</td>\n",
       "      <td>8950.000000</td>\n",
       "      <td>8950.000000</td>\n",
       "      <td>8950.000000</td>\n",
       "      <td>8950.000000</td>\n",
       "      <td>8950.000000</td>\n",
       "      <td>8950.000000</td>\n",
       "      <td>8950.000000</td>\n",
       "      <td>8950.000000</td>\n",
       "    </tr>\n",
       "    <tr>\n",
       "      <th>mean</th>\n",
       "      <td>1564.474828</td>\n",
       "      <td>0.877271</td>\n",
       "      <td>1003.204834</td>\n",
       "      <td>592.437371</td>\n",
       "      <td>411.067645</td>\n",
       "      <td>978.871112</td>\n",
       "      <td>0.490351</td>\n",
       "      <td>0.202458</td>\n",
       "      <td>0.364437</td>\n",
       "      <td>0.135144</td>\n",
       "      <td>3.248827</td>\n",
       "      <td>14.709832</td>\n",
       "      <td>4494.282473</td>\n",
       "      <td>1733.143852</td>\n",
       "      <td>844.906767</td>\n",
       "      <td>0.153715</td>\n",
       "      <td>11.517318</td>\n",
       "    </tr>\n",
       "    <tr>\n",
       "      <th>std</th>\n",
       "      <td>2081.531879</td>\n",
       "      <td>0.236904</td>\n",
       "      <td>2136.634782</td>\n",
       "      <td>1659.887917</td>\n",
       "      <td>904.338115</td>\n",
       "      <td>2097.163877</td>\n",
       "      <td>0.401371</td>\n",
       "      <td>0.298336</td>\n",
       "      <td>0.397448</td>\n",
       "      <td>0.200121</td>\n",
       "      <td>6.824647</td>\n",
       "      <td>24.857649</td>\n",
       "      <td>3638.646702</td>\n",
       "      <td>2895.063757</td>\n",
       "      <td>2332.792322</td>\n",
       "      <td>0.292499</td>\n",
       "      <td>1.338331</td>\n",
       "    </tr>\n",
       "    <tr>\n",
       "      <th>min</th>\n",
       "      <td>0.000000</td>\n",
       "      <td>0.000000</td>\n",
       "      <td>0.000000</td>\n",
       "      <td>0.000000</td>\n",
       "      <td>0.000000</td>\n",
       "      <td>0.000000</td>\n",
       "      <td>0.000000</td>\n",
       "      <td>0.000000</td>\n",
       "      <td>0.000000</td>\n",
       "      <td>0.000000</td>\n",
       "      <td>0.000000</td>\n",
       "      <td>0.000000</td>\n",
       "      <td>50.000000</td>\n",
       "      <td>0.000000</td>\n",
       "      <td>0.019163</td>\n",
       "      <td>0.000000</td>\n",
       "      <td>6.000000</td>\n",
       "    </tr>\n",
       "    <tr>\n",
       "      <th>25%</th>\n",
       "      <td>128.281915</td>\n",
       "      <td>0.888889</td>\n",
       "      <td>39.635000</td>\n",
       "      <td>0.000000</td>\n",
       "      <td>0.000000</td>\n",
       "      <td>0.000000</td>\n",
       "      <td>0.083333</td>\n",
       "      <td>0.000000</td>\n",
       "      <td>0.000000</td>\n",
       "      <td>0.000000</td>\n",
       "      <td>0.000000</td>\n",
       "      <td>1.000000</td>\n",
       "      <td>1600.000000</td>\n",
       "      <td>383.276166</td>\n",
       "      <td>170.857654</td>\n",
       "      <td>0.000000</td>\n",
       "      <td>12.000000</td>\n",
       "    </tr>\n",
       "    <tr>\n",
       "      <th>50%</th>\n",
       "      <td>873.385231</td>\n",
       "      <td>1.000000</td>\n",
       "      <td>361.280000</td>\n",
       "      <td>38.000000</td>\n",
       "      <td>89.000000</td>\n",
       "      <td>0.000000</td>\n",
       "      <td>0.500000</td>\n",
       "      <td>0.083333</td>\n",
       "      <td>0.166667</td>\n",
       "      <td>0.000000</td>\n",
       "      <td>0.000000</td>\n",
       "      <td>7.000000</td>\n",
       "      <td>3000.000000</td>\n",
       "      <td>856.901546</td>\n",
       "      <td>312.343947</td>\n",
       "      <td>0.000000</td>\n",
       "      <td>12.000000</td>\n",
       "    </tr>\n",
       "    <tr>\n",
       "      <th>75%</th>\n",
       "      <td>2054.140036</td>\n",
       "      <td>1.000000</td>\n",
       "      <td>1110.130000</td>\n",
       "      <td>577.405000</td>\n",
       "      <td>468.637500</td>\n",
       "      <td>1113.821139</td>\n",
       "      <td>0.916667</td>\n",
       "      <td>0.300000</td>\n",
       "      <td>0.750000</td>\n",
       "      <td>0.222222</td>\n",
       "      <td>4.000000</td>\n",
       "      <td>17.000000</td>\n",
       "      <td>6500.000000</td>\n",
       "      <td>1901.134317</td>\n",
       "      <td>788.713501</td>\n",
       "      <td>0.142857</td>\n",
       "      <td>12.000000</td>\n",
       "    </tr>\n",
       "    <tr>\n",
       "      <th>max</th>\n",
       "      <td>19043.138560</td>\n",
       "      <td>1.000000</td>\n",
       "      <td>49039.570000</td>\n",
       "      <td>40761.250000</td>\n",
       "      <td>22500.000000</td>\n",
       "      <td>47137.211760</td>\n",
       "      <td>1.000000</td>\n",
       "      <td>1.000000</td>\n",
       "      <td>1.000000</td>\n",
       "      <td>1.500000</td>\n",
       "      <td>123.000000</td>\n",
       "      <td>358.000000</td>\n",
       "      <td>30000.000000</td>\n",
       "      <td>50721.483360</td>\n",
       "      <td>76406.207520</td>\n",
       "      <td>1.000000</td>\n",
       "      <td>12.000000</td>\n",
       "    </tr>\n",
       "  </tbody>\n",
       "</table>\n",
       "</div>"
      ],
      "text/plain": [
       "            BALANCE  BALANCE_FREQUENCY     PURCHASES  ONEOFF_PURCHASES  \\\n",
       "count   8950.000000        8950.000000   8950.000000       8950.000000   \n",
       "mean    1564.474828           0.877271   1003.204834        592.437371   \n",
       "std     2081.531879           0.236904   2136.634782       1659.887917   \n",
       "min        0.000000           0.000000      0.000000          0.000000   \n",
       "25%      128.281915           0.888889     39.635000          0.000000   \n",
       "50%      873.385231           1.000000    361.280000         38.000000   \n",
       "75%     2054.140036           1.000000   1110.130000        577.405000   \n",
       "max    19043.138560           1.000000  49039.570000      40761.250000   \n",
       "\n",
       "       INSTALLMENTS_PURCHASES  CASH_ADVANCE  PURCHASES_FREQUENCY  \\\n",
       "count             8950.000000   8950.000000          8950.000000   \n",
       "mean               411.067645    978.871112             0.490351   \n",
       "std                904.338115   2097.163877             0.401371   \n",
       "min                  0.000000      0.000000             0.000000   \n",
       "25%                  0.000000      0.000000             0.083333   \n",
       "50%                 89.000000      0.000000             0.500000   \n",
       "75%                468.637500   1113.821139             0.916667   \n",
       "max              22500.000000  47137.211760             1.000000   \n",
       "\n",
       "       ONEOFF_PURCHASES_FREQUENCY  PURCHASES_INSTALLMENTS_FREQUENCY  \\\n",
       "count                 8950.000000                       8950.000000   \n",
       "mean                     0.202458                          0.364437   \n",
       "std                      0.298336                          0.397448   \n",
       "min                      0.000000                          0.000000   \n",
       "25%                      0.000000                          0.000000   \n",
       "50%                      0.083333                          0.166667   \n",
       "75%                      0.300000                          0.750000   \n",
       "max                      1.000000                          1.000000   \n",
       "\n",
       "       CASH_ADVANCE_FREQUENCY  CASH_ADVANCE_TRX  PURCHASES_TRX  CREDIT_LIMIT  \\\n",
       "count             8950.000000       8950.000000    8950.000000   8950.000000   \n",
       "mean                 0.135144          3.248827      14.709832   4494.282473   \n",
       "std                  0.200121          6.824647      24.857649   3638.646702   \n",
       "min                  0.000000          0.000000       0.000000     50.000000   \n",
       "25%                  0.000000          0.000000       1.000000   1600.000000   \n",
       "50%                  0.000000          0.000000       7.000000   3000.000000   \n",
       "75%                  0.222222          4.000000      17.000000   6500.000000   \n",
       "max                  1.500000        123.000000     358.000000  30000.000000   \n",
       "\n",
       "           PAYMENTS  MINIMUM_PAYMENTS  PRC_FULL_PAYMENT       TENURE  \n",
       "count   8950.000000       8950.000000       8950.000000  8950.000000  \n",
       "mean    1733.143852        844.906767          0.153715    11.517318  \n",
       "std     2895.063757       2332.792322          0.292499     1.338331  \n",
       "min        0.000000          0.019163          0.000000     6.000000  \n",
       "25%      383.276166        170.857654          0.000000    12.000000  \n",
       "50%      856.901546        312.343947          0.000000    12.000000  \n",
       "75%     1901.134317        788.713501          0.142857    12.000000  \n",
       "max    50721.483360      76406.207520          1.000000    12.000000  "
      ]
     },
     "execution_count": 12,
     "metadata": {},
     "output_type": "execute_result"
    }
   ],
   "source": [
    "df.describe()"
   ]
  },
  {
   "cell_type": "code",
   "execution_count": 13,
   "id": "e7450da2",
   "metadata": {
    "ExecuteTime": {
     "end_time": "2022-12-16T07:43:18.002844Z",
     "start_time": "2022-12-16T07:43:17.933030Z"
    }
   },
   "outputs": [
    {
     "data": {
      "text/html": [
       "<div>\n",
       "<style scoped>\n",
       "    .dataframe tbody tr th:only-of-type {\n",
       "        vertical-align: middle;\n",
       "    }\n",
       "\n",
       "    .dataframe tbody tr th {\n",
       "        vertical-align: top;\n",
       "    }\n",
       "\n",
       "    .dataframe thead th {\n",
       "        text-align: right;\n",
       "    }\n",
       "</style>\n",
       "<table border=\"1\" class=\"dataframe\">\n",
       "  <thead>\n",
       "    <tr style=\"text-align: right;\">\n",
       "      <th></th>\n",
       "      <th>BALANCE</th>\n",
       "      <th>BALANCE_FREQUENCY</th>\n",
       "      <th>PURCHASES</th>\n",
       "      <th>ONEOFF_PURCHASES</th>\n",
       "      <th>INSTALLMENTS_PURCHASES</th>\n",
       "      <th>CASH_ADVANCE</th>\n",
       "      <th>PURCHASES_FREQUENCY</th>\n",
       "      <th>ONEOFF_PURCHASES_FREQUENCY</th>\n",
       "      <th>PURCHASES_INSTALLMENTS_FREQUENCY</th>\n",
       "      <th>CASH_ADVANCE_FREQUENCY</th>\n",
       "      <th>CASH_ADVANCE_TRX</th>\n",
       "      <th>PURCHASES_TRX</th>\n",
       "      <th>CREDIT_LIMIT</th>\n",
       "      <th>PAYMENTS</th>\n",
       "      <th>MINIMUM_PAYMENTS</th>\n",
       "      <th>PRC_FULL_PAYMENT</th>\n",
       "      <th>TENURE</th>\n",
       "    </tr>\n",
       "  </thead>\n",
       "  <tbody>\n",
       "    <tr>\n",
       "      <th>BALANCE</th>\n",
       "      <td>1.000000</td>\n",
       "      <td>0.322412</td>\n",
       "      <td>0.181261</td>\n",
       "      <td>0.164350</td>\n",
       "      <td>0.126469</td>\n",
       "      <td>0.496692</td>\n",
       "      <td>-0.077944</td>\n",
       "      <td>0.073166</td>\n",
       "      <td>-0.063186</td>\n",
       "      <td>0.449218</td>\n",
       "      <td>0.385152</td>\n",
       "      <td>0.154338</td>\n",
       "      <td>0.531296</td>\n",
       "      <td>0.322802</td>\n",
       "      <td>0.397920</td>\n",
       "      <td>-0.318959</td>\n",
       "      <td>0.072692</td>\n",
       "    </tr>\n",
       "    <tr>\n",
       "      <th>BALANCE_FREQUENCY</th>\n",
       "      <td>0.322412</td>\n",
       "      <td>1.000000</td>\n",
       "      <td>0.133674</td>\n",
       "      <td>0.104323</td>\n",
       "      <td>0.124292</td>\n",
       "      <td>0.099388</td>\n",
       "      <td>0.229715</td>\n",
       "      <td>0.202415</td>\n",
       "      <td>0.176079</td>\n",
       "      <td>0.191873</td>\n",
       "      <td>0.141555</td>\n",
       "      <td>0.189626</td>\n",
       "      <td>0.095931</td>\n",
       "      <td>0.065008</td>\n",
       "      <td>0.131181</td>\n",
       "      <td>-0.095082</td>\n",
       "      <td>0.119776</td>\n",
       "    </tr>\n",
       "    <tr>\n",
       "      <th>PURCHASES</th>\n",
       "      <td>0.181261</td>\n",
       "      <td>0.133674</td>\n",
       "      <td>1.000000</td>\n",
       "      <td>0.916845</td>\n",
       "      <td>0.679896</td>\n",
       "      <td>-0.051474</td>\n",
       "      <td>0.393017</td>\n",
       "      <td>0.498430</td>\n",
       "      <td>0.315567</td>\n",
       "      <td>-0.120143</td>\n",
       "      <td>-0.067175</td>\n",
       "      <td>0.689561</td>\n",
       "      <td>0.356977</td>\n",
       "      <td>0.603264</td>\n",
       "      <td>0.095789</td>\n",
       "      <td>0.180379</td>\n",
       "      <td>0.086288</td>\n",
       "    </tr>\n",
       "    <tr>\n",
       "      <th>ONEOFF_PURCHASES</th>\n",
       "      <td>0.164350</td>\n",
       "      <td>0.104323</td>\n",
       "      <td>0.916845</td>\n",
       "      <td>1.000000</td>\n",
       "      <td>0.330622</td>\n",
       "      <td>-0.031326</td>\n",
       "      <td>0.264937</td>\n",
       "      <td>0.524891</td>\n",
       "      <td>0.127729</td>\n",
       "      <td>-0.082628</td>\n",
       "      <td>-0.046212</td>\n",
       "      <td>0.545523</td>\n",
       "      <td>0.319735</td>\n",
       "      <td>0.567292</td>\n",
       "      <td>0.050256</td>\n",
       "      <td>0.132763</td>\n",
       "      <td>0.064150</td>\n",
       "    </tr>\n",
       "    <tr>\n",
       "      <th>INSTALLMENTS_PURCHASES</th>\n",
       "      <td>0.126469</td>\n",
       "      <td>0.124292</td>\n",
       "      <td>0.679896</td>\n",
       "      <td>0.330622</td>\n",
       "      <td>1.000000</td>\n",
       "      <td>-0.064244</td>\n",
       "      <td>0.442418</td>\n",
       "      <td>0.214042</td>\n",
       "      <td>0.511351</td>\n",
       "      <td>-0.132318</td>\n",
       "      <td>-0.073999</td>\n",
       "      <td>0.628108</td>\n",
       "      <td>0.256515</td>\n",
       "      <td>0.384084</td>\n",
       "      <td>0.134019</td>\n",
       "      <td>0.182569</td>\n",
       "      <td>0.086143</td>\n",
       "    </tr>\n",
       "    <tr>\n",
       "      <th>CASH_ADVANCE</th>\n",
       "      <td>0.496692</td>\n",
       "      <td>0.099388</td>\n",
       "      <td>-0.051474</td>\n",
       "      <td>-0.031326</td>\n",
       "      <td>-0.064244</td>\n",
       "      <td>1.000000</td>\n",
       "      <td>-0.215507</td>\n",
       "      <td>-0.086754</td>\n",
       "      <td>-0.177070</td>\n",
       "      <td>0.628522</td>\n",
       "      <td>0.656498</td>\n",
       "      <td>-0.075850</td>\n",
       "      <td>0.303997</td>\n",
       "      <td>0.453238</td>\n",
       "      <td>0.140747</td>\n",
       "      <td>-0.152935</td>\n",
       "      <td>-0.068312</td>\n",
       "    </tr>\n",
       "    <tr>\n",
       "      <th>PURCHASES_FREQUENCY</th>\n",
       "      <td>-0.077944</td>\n",
       "      <td>0.229715</td>\n",
       "      <td>0.393017</td>\n",
       "      <td>0.264937</td>\n",
       "      <td>0.442418</td>\n",
       "      <td>-0.215507</td>\n",
       "      <td>1.000000</td>\n",
       "      <td>0.501343</td>\n",
       "      <td>0.862934</td>\n",
       "      <td>-0.308478</td>\n",
       "      <td>-0.203478</td>\n",
       "      <td>0.568430</td>\n",
       "      <td>0.119833</td>\n",
       "      <td>0.103464</td>\n",
       "      <td>0.006154</td>\n",
       "      <td>0.305802</td>\n",
       "      <td>0.061506</td>\n",
       "    </tr>\n",
       "    <tr>\n",
       "      <th>ONEOFF_PURCHASES_FREQUENCY</th>\n",
       "      <td>0.073166</td>\n",
       "      <td>0.202415</td>\n",
       "      <td>0.498430</td>\n",
       "      <td>0.524891</td>\n",
       "      <td>0.214042</td>\n",
       "      <td>-0.086754</td>\n",
       "      <td>0.501343</td>\n",
       "      <td>1.000000</td>\n",
       "      <td>0.142329</td>\n",
       "      <td>-0.111716</td>\n",
       "      <td>-0.069088</td>\n",
       "      <td>0.544869</td>\n",
       "      <td>0.295059</td>\n",
       "      <td>0.243537</td>\n",
       "      <td>-0.027311</td>\n",
       "      <td>0.157531</td>\n",
       "      <td>0.082466</td>\n",
       "    </tr>\n",
       "    <tr>\n",
       "      <th>PURCHASES_INSTALLMENTS_FREQUENCY</th>\n",
       "      <td>-0.063186</td>\n",
       "      <td>0.176079</td>\n",
       "      <td>0.315567</td>\n",
       "      <td>0.127729</td>\n",
       "      <td>0.511351</td>\n",
       "      <td>-0.177070</td>\n",
       "      <td>0.862934</td>\n",
       "      <td>0.142329</td>\n",
       "      <td>1.000000</td>\n",
       "      <td>-0.262958</td>\n",
       "      <td>-0.169207</td>\n",
       "      <td>0.529975</td>\n",
       "      <td>0.060794</td>\n",
       "      <td>0.085551</td>\n",
       "      <td>0.032055</td>\n",
       "      <td>0.250087</td>\n",
       "      <td>0.073275</td>\n",
       "    </tr>\n",
       "    <tr>\n",
       "      <th>CASH_ADVANCE_FREQUENCY</th>\n",
       "      <td>0.449218</td>\n",
       "      <td>0.191873</td>\n",
       "      <td>-0.120143</td>\n",
       "      <td>-0.082628</td>\n",
       "      <td>-0.132318</td>\n",
       "      <td>0.628522</td>\n",
       "      <td>-0.308478</td>\n",
       "      <td>-0.111716</td>\n",
       "      <td>-0.262958</td>\n",
       "      <td>1.000000</td>\n",
       "      <td>0.799561</td>\n",
       "      <td>-0.131168</td>\n",
       "      <td>0.132608</td>\n",
       "      <td>0.183192</td>\n",
       "      <td>0.100616</td>\n",
       "      <td>-0.249773</td>\n",
       "      <td>-0.133372</td>\n",
       "    </tr>\n",
       "    <tr>\n",
       "      <th>CASH_ADVANCE_TRX</th>\n",
       "      <td>0.385152</td>\n",
       "      <td>0.141555</td>\n",
       "      <td>-0.067175</td>\n",
       "      <td>-0.046212</td>\n",
       "      <td>-0.073999</td>\n",
       "      <td>0.656498</td>\n",
       "      <td>-0.203478</td>\n",
       "      <td>-0.069088</td>\n",
       "      <td>-0.169207</td>\n",
       "      <td>0.799561</td>\n",
       "      <td>1.000000</td>\n",
       "      <td>-0.066157</td>\n",
       "      <td>0.149713</td>\n",
       "      <td>0.255278</td>\n",
       "      <td>0.111251</td>\n",
       "      <td>-0.169784</td>\n",
       "      <td>-0.043421</td>\n",
       "    </tr>\n",
       "    <tr>\n",
       "      <th>PURCHASES_TRX</th>\n",
       "      <td>0.154338</td>\n",
       "      <td>0.189626</td>\n",
       "      <td>0.689561</td>\n",
       "      <td>0.545523</td>\n",
       "      <td>0.628108</td>\n",
       "      <td>-0.075850</td>\n",
       "      <td>0.568430</td>\n",
       "      <td>0.544869</td>\n",
       "      <td>0.529975</td>\n",
       "      <td>-0.131168</td>\n",
       "      <td>-0.066157</td>\n",
       "      <td>1.000000</td>\n",
       "      <td>0.272902</td>\n",
       "      <td>0.370832</td>\n",
       "      <td>0.098722</td>\n",
       "      <td>0.162066</td>\n",
       "      <td>0.121874</td>\n",
       "    </tr>\n",
       "    <tr>\n",
       "      <th>CREDIT_LIMIT</th>\n",
       "      <td>0.531296</td>\n",
       "      <td>0.095931</td>\n",
       "      <td>0.356977</td>\n",
       "      <td>0.319735</td>\n",
       "      <td>0.256515</td>\n",
       "      <td>0.303997</td>\n",
       "      <td>0.119833</td>\n",
       "      <td>0.295059</td>\n",
       "      <td>0.060794</td>\n",
       "      <td>0.132608</td>\n",
       "      <td>0.149713</td>\n",
       "      <td>0.272902</td>\n",
       "      <td>1.000000</td>\n",
       "      <td>0.421876</td>\n",
       "      <td>0.126765</td>\n",
       "      <td>0.055695</td>\n",
       "      <td>0.139222</td>\n",
       "    </tr>\n",
       "    <tr>\n",
       "      <th>PAYMENTS</th>\n",
       "      <td>0.322802</td>\n",
       "      <td>0.065008</td>\n",
       "      <td>0.603264</td>\n",
       "      <td>0.567292</td>\n",
       "      <td>0.384084</td>\n",
       "      <td>0.453238</td>\n",
       "      <td>0.103464</td>\n",
       "      <td>0.243537</td>\n",
       "      <td>0.085551</td>\n",
       "      <td>0.183192</td>\n",
       "      <td>0.255278</td>\n",
       "      <td>0.370832</td>\n",
       "      <td>0.421876</td>\n",
       "      <td>1.000000</td>\n",
       "      <td>0.128960</td>\n",
       "      <td>0.112138</td>\n",
       "      <td>0.106136</td>\n",
       "    </tr>\n",
       "    <tr>\n",
       "      <th>MINIMUM_PAYMENTS</th>\n",
       "      <td>0.397920</td>\n",
       "      <td>0.131181</td>\n",
       "      <td>0.095789</td>\n",
       "      <td>0.050256</td>\n",
       "      <td>0.134019</td>\n",
       "      <td>0.140747</td>\n",
       "      <td>0.006154</td>\n",
       "      <td>-0.027311</td>\n",
       "      <td>0.032055</td>\n",
       "      <td>0.100616</td>\n",
       "      <td>0.111251</td>\n",
       "      <td>0.098722</td>\n",
       "      <td>0.126765</td>\n",
       "      <td>0.128960</td>\n",
       "      <td>1.000000</td>\n",
       "      <td>-0.135194</td>\n",
       "      <td>0.060006</td>\n",
       "    </tr>\n",
       "    <tr>\n",
       "      <th>PRC_FULL_PAYMENT</th>\n",
       "      <td>-0.318959</td>\n",
       "      <td>-0.095082</td>\n",
       "      <td>0.180379</td>\n",
       "      <td>0.132763</td>\n",
       "      <td>0.182569</td>\n",
       "      <td>-0.152935</td>\n",
       "      <td>0.305802</td>\n",
       "      <td>0.157531</td>\n",
       "      <td>0.250087</td>\n",
       "      <td>-0.249773</td>\n",
       "      <td>-0.169784</td>\n",
       "      <td>0.162066</td>\n",
       "      <td>0.055695</td>\n",
       "      <td>0.112138</td>\n",
       "      <td>-0.135194</td>\n",
       "      <td>1.000000</td>\n",
       "      <td>-0.016486</td>\n",
       "    </tr>\n",
       "    <tr>\n",
       "      <th>TENURE</th>\n",
       "      <td>0.072692</td>\n",
       "      <td>0.119776</td>\n",
       "      <td>0.086288</td>\n",
       "      <td>0.064150</td>\n",
       "      <td>0.086143</td>\n",
       "      <td>-0.068312</td>\n",
       "      <td>0.061506</td>\n",
       "      <td>0.082466</td>\n",
       "      <td>0.073275</td>\n",
       "      <td>-0.133372</td>\n",
       "      <td>-0.043421</td>\n",
       "      <td>0.121874</td>\n",
       "      <td>0.139222</td>\n",
       "      <td>0.106136</td>\n",
       "      <td>0.060006</td>\n",
       "      <td>-0.016486</td>\n",
       "      <td>1.000000</td>\n",
       "    </tr>\n",
       "  </tbody>\n",
       "</table>\n",
       "</div>"
      ],
      "text/plain": [
       "                                   BALANCE  BALANCE_FREQUENCY  PURCHASES  \\\n",
       "BALANCE                           1.000000           0.322412   0.181261   \n",
       "BALANCE_FREQUENCY                 0.322412           1.000000   0.133674   \n",
       "PURCHASES                         0.181261           0.133674   1.000000   \n",
       "ONEOFF_PURCHASES                  0.164350           0.104323   0.916845   \n",
       "INSTALLMENTS_PURCHASES            0.126469           0.124292   0.679896   \n",
       "CASH_ADVANCE                      0.496692           0.099388  -0.051474   \n",
       "PURCHASES_FREQUENCY              -0.077944           0.229715   0.393017   \n",
       "ONEOFF_PURCHASES_FREQUENCY        0.073166           0.202415   0.498430   \n",
       "PURCHASES_INSTALLMENTS_FREQUENCY -0.063186           0.176079   0.315567   \n",
       "CASH_ADVANCE_FREQUENCY            0.449218           0.191873  -0.120143   \n",
       "CASH_ADVANCE_TRX                  0.385152           0.141555  -0.067175   \n",
       "PURCHASES_TRX                     0.154338           0.189626   0.689561   \n",
       "CREDIT_LIMIT                      0.531296           0.095931   0.356977   \n",
       "PAYMENTS                          0.322802           0.065008   0.603264   \n",
       "MINIMUM_PAYMENTS                  0.397920           0.131181   0.095789   \n",
       "PRC_FULL_PAYMENT                 -0.318959          -0.095082   0.180379   \n",
       "TENURE                            0.072692           0.119776   0.086288   \n",
       "\n",
       "                                  ONEOFF_PURCHASES  INSTALLMENTS_PURCHASES  \\\n",
       "BALANCE                                   0.164350                0.126469   \n",
       "BALANCE_FREQUENCY                         0.104323                0.124292   \n",
       "PURCHASES                                 0.916845                0.679896   \n",
       "ONEOFF_PURCHASES                          1.000000                0.330622   \n",
       "INSTALLMENTS_PURCHASES                    0.330622                1.000000   \n",
       "CASH_ADVANCE                             -0.031326               -0.064244   \n",
       "PURCHASES_FREQUENCY                       0.264937                0.442418   \n",
       "ONEOFF_PURCHASES_FREQUENCY                0.524891                0.214042   \n",
       "PURCHASES_INSTALLMENTS_FREQUENCY          0.127729                0.511351   \n",
       "CASH_ADVANCE_FREQUENCY                   -0.082628               -0.132318   \n",
       "CASH_ADVANCE_TRX                         -0.046212               -0.073999   \n",
       "PURCHASES_TRX                             0.545523                0.628108   \n",
       "CREDIT_LIMIT                              0.319735                0.256515   \n",
       "PAYMENTS                                  0.567292                0.384084   \n",
       "MINIMUM_PAYMENTS                          0.050256                0.134019   \n",
       "PRC_FULL_PAYMENT                          0.132763                0.182569   \n",
       "TENURE                                    0.064150                0.086143   \n",
       "\n",
       "                                  CASH_ADVANCE  PURCHASES_FREQUENCY  \\\n",
       "BALANCE                               0.496692            -0.077944   \n",
       "BALANCE_FREQUENCY                     0.099388             0.229715   \n",
       "PURCHASES                            -0.051474             0.393017   \n",
       "ONEOFF_PURCHASES                     -0.031326             0.264937   \n",
       "INSTALLMENTS_PURCHASES               -0.064244             0.442418   \n",
       "CASH_ADVANCE                          1.000000            -0.215507   \n",
       "PURCHASES_FREQUENCY                  -0.215507             1.000000   \n",
       "ONEOFF_PURCHASES_FREQUENCY           -0.086754             0.501343   \n",
       "PURCHASES_INSTALLMENTS_FREQUENCY     -0.177070             0.862934   \n",
       "CASH_ADVANCE_FREQUENCY                0.628522            -0.308478   \n",
       "CASH_ADVANCE_TRX                      0.656498            -0.203478   \n",
       "PURCHASES_TRX                        -0.075850             0.568430   \n",
       "CREDIT_LIMIT                          0.303997             0.119833   \n",
       "PAYMENTS                              0.453238             0.103464   \n",
       "MINIMUM_PAYMENTS                      0.140747             0.006154   \n",
       "PRC_FULL_PAYMENT                     -0.152935             0.305802   \n",
       "TENURE                               -0.068312             0.061506   \n",
       "\n",
       "                                  ONEOFF_PURCHASES_FREQUENCY  \\\n",
       "BALANCE                                             0.073166   \n",
       "BALANCE_FREQUENCY                                   0.202415   \n",
       "PURCHASES                                           0.498430   \n",
       "ONEOFF_PURCHASES                                    0.524891   \n",
       "INSTALLMENTS_PURCHASES                              0.214042   \n",
       "CASH_ADVANCE                                       -0.086754   \n",
       "PURCHASES_FREQUENCY                                 0.501343   \n",
       "ONEOFF_PURCHASES_FREQUENCY                          1.000000   \n",
       "PURCHASES_INSTALLMENTS_FREQUENCY                    0.142329   \n",
       "CASH_ADVANCE_FREQUENCY                             -0.111716   \n",
       "CASH_ADVANCE_TRX                                   -0.069088   \n",
       "PURCHASES_TRX                                       0.544869   \n",
       "CREDIT_LIMIT                                        0.295059   \n",
       "PAYMENTS                                            0.243537   \n",
       "MINIMUM_PAYMENTS                                   -0.027311   \n",
       "PRC_FULL_PAYMENT                                    0.157531   \n",
       "TENURE                                              0.082466   \n",
       "\n",
       "                                  PURCHASES_INSTALLMENTS_FREQUENCY  \\\n",
       "BALANCE                                                  -0.063186   \n",
       "BALANCE_FREQUENCY                                         0.176079   \n",
       "PURCHASES                                                 0.315567   \n",
       "ONEOFF_PURCHASES                                          0.127729   \n",
       "INSTALLMENTS_PURCHASES                                    0.511351   \n",
       "CASH_ADVANCE                                             -0.177070   \n",
       "PURCHASES_FREQUENCY                                       0.862934   \n",
       "ONEOFF_PURCHASES_FREQUENCY                                0.142329   \n",
       "PURCHASES_INSTALLMENTS_FREQUENCY                          1.000000   \n",
       "CASH_ADVANCE_FREQUENCY                                   -0.262958   \n",
       "CASH_ADVANCE_TRX                                         -0.169207   \n",
       "PURCHASES_TRX                                             0.529975   \n",
       "CREDIT_LIMIT                                              0.060794   \n",
       "PAYMENTS                                                  0.085551   \n",
       "MINIMUM_PAYMENTS                                          0.032055   \n",
       "PRC_FULL_PAYMENT                                          0.250087   \n",
       "TENURE                                                    0.073275   \n",
       "\n",
       "                                  CASH_ADVANCE_FREQUENCY  CASH_ADVANCE_TRX  \\\n",
       "BALANCE                                         0.449218          0.385152   \n",
       "BALANCE_FREQUENCY                               0.191873          0.141555   \n",
       "PURCHASES                                      -0.120143         -0.067175   \n",
       "ONEOFF_PURCHASES                               -0.082628         -0.046212   \n",
       "INSTALLMENTS_PURCHASES                         -0.132318         -0.073999   \n",
       "CASH_ADVANCE                                    0.628522          0.656498   \n",
       "PURCHASES_FREQUENCY                            -0.308478         -0.203478   \n",
       "ONEOFF_PURCHASES_FREQUENCY                     -0.111716         -0.069088   \n",
       "PURCHASES_INSTALLMENTS_FREQUENCY               -0.262958         -0.169207   \n",
       "CASH_ADVANCE_FREQUENCY                          1.000000          0.799561   \n",
       "CASH_ADVANCE_TRX                                0.799561          1.000000   \n",
       "PURCHASES_TRX                                  -0.131168         -0.066157   \n",
       "CREDIT_LIMIT                                    0.132608          0.149713   \n",
       "PAYMENTS                                        0.183192          0.255278   \n",
       "MINIMUM_PAYMENTS                                0.100616          0.111251   \n",
       "PRC_FULL_PAYMENT                               -0.249773         -0.169784   \n",
       "TENURE                                         -0.133372         -0.043421   \n",
       "\n",
       "                                  PURCHASES_TRX  CREDIT_LIMIT  PAYMENTS  \\\n",
       "BALANCE                                0.154338      0.531296  0.322802   \n",
       "BALANCE_FREQUENCY                      0.189626      0.095931  0.065008   \n",
       "PURCHASES                              0.689561      0.356977  0.603264   \n",
       "ONEOFF_PURCHASES                       0.545523      0.319735  0.567292   \n",
       "INSTALLMENTS_PURCHASES                 0.628108      0.256515  0.384084   \n",
       "CASH_ADVANCE                          -0.075850      0.303997  0.453238   \n",
       "PURCHASES_FREQUENCY                    0.568430      0.119833  0.103464   \n",
       "ONEOFF_PURCHASES_FREQUENCY             0.544869      0.295059  0.243537   \n",
       "PURCHASES_INSTALLMENTS_FREQUENCY       0.529975      0.060794  0.085551   \n",
       "CASH_ADVANCE_FREQUENCY                -0.131168      0.132608  0.183192   \n",
       "CASH_ADVANCE_TRX                      -0.066157      0.149713  0.255278   \n",
       "PURCHASES_TRX                          1.000000      0.272902  0.370832   \n",
       "CREDIT_LIMIT                           0.272902      1.000000  0.421876   \n",
       "PAYMENTS                               0.370832      0.421876  1.000000   \n",
       "MINIMUM_PAYMENTS                       0.098722      0.126765  0.128960   \n",
       "PRC_FULL_PAYMENT                       0.162066      0.055695  0.112138   \n",
       "TENURE                                 0.121874      0.139222  0.106136   \n",
       "\n",
       "                                  MINIMUM_PAYMENTS  PRC_FULL_PAYMENT    TENURE  \n",
       "BALANCE                                   0.397920         -0.318959  0.072692  \n",
       "BALANCE_FREQUENCY                         0.131181         -0.095082  0.119776  \n",
       "PURCHASES                                 0.095789          0.180379  0.086288  \n",
       "ONEOFF_PURCHASES                          0.050256          0.132763  0.064150  \n",
       "INSTALLMENTS_PURCHASES                    0.134019          0.182569  0.086143  \n",
       "CASH_ADVANCE                              0.140747         -0.152935 -0.068312  \n",
       "PURCHASES_FREQUENCY                       0.006154          0.305802  0.061506  \n",
       "ONEOFF_PURCHASES_FREQUENCY               -0.027311          0.157531  0.082466  \n",
       "PURCHASES_INSTALLMENTS_FREQUENCY          0.032055          0.250087  0.073275  \n",
       "CASH_ADVANCE_FREQUENCY                    0.100616         -0.249773 -0.133372  \n",
       "CASH_ADVANCE_TRX                          0.111251         -0.169784 -0.043421  \n",
       "PURCHASES_TRX                             0.098722          0.162066  0.121874  \n",
       "CREDIT_LIMIT                              0.126765          0.055695  0.139222  \n",
       "PAYMENTS                                  0.128960          0.112138  0.106136  \n",
       "MINIMUM_PAYMENTS                          1.000000         -0.135194  0.060006  \n",
       "PRC_FULL_PAYMENT                         -0.135194          1.000000 -0.016486  \n",
       "TENURE                                    0.060006         -0.016486  1.000000  "
      ]
     },
     "execution_count": 13,
     "metadata": {},
     "output_type": "execute_result"
    }
   ],
   "source": [
    "df.corr()"
   ]
  },
  {
   "cell_type": "code",
   "execution_count": 14,
   "id": "0fd15648",
   "metadata": {
    "ExecuteTime": {
     "end_time": "2022-12-16T07:44:06.365611Z",
     "start_time": "2022-12-16T07:44:04.808755Z"
    }
   },
   "outputs": [
    {
     "data": {
      "image/png": "[encoded data removed]",
      "text/plain": [
       "<Figure size 1440x1296 with 2 Axes>"
      ]
     },
     "metadata": {
      "needs_background": "light"
     },
     "output_type": "display_data"
    }
   ],
   "source": [
    "fig, ax = plt.subplots(figsize=(20, 18))\n",
    "cm = sns.heatmap(df.corr(), linewidths = .5, annot=True, fmt='.2f')"
   ]
  },
  {
   "cell_type": "markdown",
   "id": "09ced2a2",
   "metadata": {},
   "source": [
    "## Data Preprocessing"
   ]
  },
  {
   "cell_type": "markdown",
   "id": "cc9e9ced",
   "metadata": {},
   "source": [
    "**Drop Features**"
   ]
  },
  {
   "cell_type": "code",
   "execution_count": 15,
   "id": "07eedf3f",
   "metadata": {
    "ExecuteTime": {
     "end_time": "2022-12-16T07:44:23.092806Z",
     "start_time": "2022-12-16T07:44:23.062885Z"
    }
   },
   "outputs": [
    {
     "data": {
      "text/html": [
       "<div>\n",
       "<style scoped>\n",
       "    .dataframe tbody tr th:only-of-type {\n",
       "        vertical-align: middle;\n",
       "    }\n",
       "\n",
       "    .dataframe tbody tr th {\n",
       "        vertical-align: top;\n",
       "    }\n",
       "\n",
       "    .dataframe thead th {\n",
       "        text-align: right;\n",
       "    }\n",
       "</style>\n",
       "<table border=\"1\" class=\"dataframe\">\n",
       "  <thead>\n",
       "    <tr style=\"text-align: right;\">\n",
       "      <th></th>\n",
       "      <th>BALANCE</th>\n",
       "      <th>PURCHASES</th>\n",
       "      <th>ONEOFF_PURCHASES</th>\n",
       "      <th>INSTALLMENTS_PURCHASES</th>\n",
       "      <th>CASH_ADVANCE</th>\n",
       "      <th>CASH_ADVANCE_TRX</th>\n",
       "      <th>PURCHASES_TRX</th>\n",
       "      <th>CREDIT_LIMIT</th>\n",
       "      <th>PAYMENTS</th>\n",
       "      <th>MINIMUM_PAYMENTS</th>\n",
       "      <th>PRC_FULL_PAYMENT</th>\n",
       "      <th>TENURE</th>\n",
       "    </tr>\n",
       "  </thead>\n",
       "  <tbody>\n",
       "    <tr>\n",
       "      <th>0</th>\n",
       "      <td>40.900749</td>\n",
       "      <td>95.40</td>\n",
       "      <td>0.00</td>\n",
       "      <td>95.4</td>\n",
       "      <td>0.000000</td>\n",
       "      <td>0</td>\n",
       "      <td>2</td>\n",
       "      <td>1000.0</td>\n",
       "      <td>201.802084</td>\n",
       "      <td>139.509787</td>\n",
       "      <td>0.000000</td>\n",
       "      <td>12</td>\n",
       "    </tr>\n",
       "    <tr>\n",
       "      <th>1</th>\n",
       "      <td>3202.467416</td>\n",
       "      <td>0.00</td>\n",
       "      <td>0.00</td>\n",
       "      <td>0.0</td>\n",
       "      <td>6442.945483</td>\n",
       "      <td>4</td>\n",
       "      <td>0</td>\n",
       "      <td>7000.0</td>\n",
       "      <td>4103.032597</td>\n",
       "      <td>1072.340217</td>\n",
       "      <td>0.222222</td>\n",
       "      <td>12</td>\n",
       "    </tr>\n",
       "    <tr>\n",
       "      <th>2</th>\n",
       "      <td>2495.148862</td>\n",
       "      <td>773.17</td>\n",
       "      <td>773.17</td>\n",
       "      <td>0.0</td>\n",
       "      <td>0.000000</td>\n",
       "      <td>0</td>\n",
       "      <td>12</td>\n",
       "      <td>7500.0</td>\n",
       "      <td>622.066742</td>\n",
       "      <td>627.284787</td>\n",
       "      <td>0.000000</td>\n",
       "      <td>12</td>\n",
       "    </tr>\n",
       "    <tr>\n",
       "      <th>3</th>\n",
       "      <td>1666.670542</td>\n",
       "      <td>1499.00</td>\n",
       "      <td>1499.00</td>\n",
       "      <td>0.0</td>\n",
       "      <td>205.788017</td>\n",
       "      <td>1</td>\n",
       "      <td>1</td>\n",
       "      <td>7500.0</td>\n",
       "      <td>0.000000</td>\n",
       "      <td>312.343947</td>\n",
       "      <td>0.000000</td>\n",
       "      <td>12</td>\n",
       "    </tr>\n",
       "    <tr>\n",
       "      <th>4</th>\n",
       "      <td>817.714335</td>\n",
       "      <td>16.00</td>\n",
       "      <td>16.00</td>\n",
       "      <td>0.0</td>\n",
       "      <td>0.000000</td>\n",
       "      <td>0</td>\n",
       "      <td>1</td>\n",
       "      <td>1200.0</td>\n",
       "      <td>678.334763</td>\n",
       "      <td>244.791237</td>\n",
       "      <td>0.000000</td>\n",
       "      <td>12</td>\n",
       "    </tr>\n",
       "  </tbody>\n",
       "</table>\n",
       "</div>"
      ],
      "text/plain": [
       "       BALANCE  PURCHASES  ONEOFF_PURCHASES  INSTALLMENTS_PURCHASES  \\\n",
       "0    40.900749      95.40              0.00                    95.4   \n",
       "1  3202.467416       0.00              0.00                     0.0   \n",
       "2  2495.148862     773.17            773.17                     0.0   \n",
       "3  1666.670542    1499.00           1499.00                     0.0   \n",
       "4   817.714335      16.00             16.00                     0.0   \n",
       "\n",
       "   CASH_ADVANCE  CASH_ADVANCE_TRX  PURCHASES_TRX  CREDIT_LIMIT     PAYMENTS  \\\n",
       "0      0.000000                 0              2        1000.0   201.802084   \n",
       "1   6442.945483                 4              0        7000.0  4103.032597   \n",
       "2      0.000000                 0             12        7500.0   622.066742   \n",
       "3    205.788017                 1              1        7500.0     0.000000   \n",
       "4      0.000000                 0              1        1200.0   678.334763   \n",
       "\n",
       "   MINIMUM_PAYMENTS  PRC_FULL_PAYMENT  TENURE  \n",
       "0        139.509787          0.000000      12  \n",
       "1       1072.340217          0.222222      12  \n",
       "2        627.284787          0.000000      12  \n",
       "3        312.343947          0.000000      12  \n",
       "4        244.791237          0.000000      12  "
      ]
     },
     "execution_count": 15,
     "metadata": {},
     "output_type": "execute_result"
    }
   ],
   "source": [
    "df2 = df.drop(['CUST_ID', 'BALANCE_FREQUENCY', 'ONEOFF_PURCHASES_FREQUENCY',\n",
    "               'PURCHASES_INSTALLMENTS_FREQUENCY', 'PURCHASES_FREQUENCY',\n",
    "               'CASH_ADVANCE_FREQUENCY'], axis=1, inplace=False)\n",
    "df2.head()"
   ]
  },
  {
   "cell_type": "code",
   "execution_count": 16,
   "id": "48fa048d",
   "metadata": {
    "ExecuteTime": {
     "end_time": "2022-12-16T07:44:26.174986Z",
     "start_time": "2022-12-16T07:44:26.168007Z"
    }
   },
   "outputs": [
    {
     "data": {
      "text/plain": [
       "(8950, 12)"
      ]
     },
     "execution_count": 16,
     "metadata": {},
     "output_type": "execute_result"
    }
   ],
   "source": [
    "df2.shape"
   ]
  },
  {
   "cell_type": "markdown",
   "id": "6ee18caa",
   "metadata": {},
   "source": [
    "**Standardize Data**\n",
    "\n",
    "Melakukan penskalaan data, agar diperoleh kesamaan dalam satuan"
   ]
  },
  {
   "cell_type": "code",
   "execution_count": 17,
   "id": "547e8260",
   "metadata": {
    "ExecuteTime": {
     "end_time": "2022-12-16T07:44:31.824826Z",
     "start_time": "2022-12-16T07:44:31.805877Z"
    }
   },
   "outputs": [],
   "source": [
    "sclr = StandardScaler()\n",
    "df_sclr = sclr.fit_transform(df2)"
   ]
  },
  {
   "cell_type": "markdown",
   "id": "1344926a",
   "metadata": {},
   "source": [
    "**Normalize Data**\n",
    "\n",
    "Melakukan normalisasi data (optional)"
   ]
  },
  {
   "cell_type": "code",
   "execution_count": 18,
   "id": "07786936",
   "metadata": {
    "ExecuteTime": {
     "end_time": "2022-12-16T07:44:36.580317Z",
     "start_time": "2022-12-16T07:44:36.568349Z"
    }
   },
   "outputs": [],
   "source": [
    "df_norm = normalize(df_sclr)"
   ]
  },
  {
   "cell_type": "code",
   "execution_count": 19,
   "id": "2f42359a",
   "metadata": {
    "ExecuteTime": {
     "end_time": "2022-12-16T07:44:38.417006Z",
     "start_time": "2022-12-16T07:44:38.392037Z"
    }
   },
   "outputs": [
    {
     "data": {
      "text/html": [
       "<div>\n",
       "<style scoped>\n",
       "    .dataframe tbody tr th:only-of-type {\n",
       "        vertical-align: middle;\n",
       "    }\n",
       "\n",
       "    .dataframe tbody tr th {\n",
       "        vertical-align: top;\n",
       "    }\n",
       "\n",
       "    .dataframe thead th {\n",
       "        text-align: right;\n",
       "    }\n",
       "</style>\n",
       "<table border=\"1\" class=\"dataframe\">\n",
       "  <thead>\n",
       "    <tr style=\"text-align: right;\">\n",
       "      <th></th>\n",
       "      <th>BALANCE</th>\n",
       "      <th>PURCHASES</th>\n",
       "      <th>ONEOFF_PURCHASES</th>\n",
       "      <th>INSTALLMENTS_PURCHASES</th>\n",
       "      <th>CASH_ADVANCE</th>\n",
       "      <th>CASH_ADVANCE_TRX</th>\n",
       "      <th>PURCHASES_TRX</th>\n",
       "      <th>CREDIT_LIMIT</th>\n",
       "      <th>PAYMENTS</th>\n",
       "      <th>MINIMUM_PAYMENTS</th>\n",
       "      <th>PRC_FULL_PAYMENT</th>\n",
       "      <th>TENURE</th>\n",
       "    </tr>\n",
       "  </thead>\n",
       "  <tbody>\n",
       "    <tr>\n",
       "      <th>0</th>\n",
       "      <td>-0.398652</td>\n",
       "      <td>-0.231407</td>\n",
       "      <td>-0.194392</td>\n",
       "      <td>-0.190114</td>\n",
       "      <td>-0.254218</td>\n",
       "      <td>-0.259275</td>\n",
       "      <td>-0.278480</td>\n",
       "      <td>-0.523036</td>\n",
       "      <td>-0.288090</td>\n",
       "      <td>-0.164692</td>\n",
       "      <td>-0.286223</td>\n",
       "      <td>0.196431</td>\n",
       "    </tr>\n",
       "    <tr>\n",
       "      <th>1</th>\n",
       "      <td>0.253145</td>\n",
       "      <td>-0.151043</td>\n",
       "      <td>-0.114816</td>\n",
       "      <td>-0.146225</td>\n",
       "      <td>0.838155</td>\n",
       "      <td>0.035408</td>\n",
       "      <td>-0.190365</td>\n",
       "      <td>0.221530</td>\n",
       "      <td>0.263336</td>\n",
       "      <td>0.031363</td>\n",
       "      <td>0.075345</td>\n",
       "      <td>0.116021</td>\n",
       "    </tr>\n",
       "    <tr>\n",
       "      <th>2</th>\n",
       "      <td>0.306287</td>\n",
       "      <td>-0.073753</td>\n",
       "      <td>0.074589</td>\n",
       "      <td>-0.311384</td>\n",
       "      <td>-0.319748</td>\n",
       "      <td>-0.326107</td>\n",
       "      <td>-0.074679</td>\n",
       "      <td>0.565878</td>\n",
       "      <td>-0.262906</td>\n",
       "      <td>-0.063906</td>\n",
       "      <td>-0.360002</td>\n",
       "      <td>0.247065</td>\n",
       "    </tr>\n",
       "    <tr>\n",
       "      <th>3</th>\n",
       "      <td>0.030396</td>\n",
       "      <td>0.143661</td>\n",
       "      <td>0.338133</td>\n",
       "      <td>-0.281417</td>\n",
       "      <td>-0.228224</td>\n",
       "      <td>-0.204006</td>\n",
       "      <td>-0.341460</td>\n",
       "      <td>0.511418</td>\n",
       "      <td>-0.370633</td>\n",
       "      <td>-0.141339</td>\n",
       "      <td>-0.325356</td>\n",
       "      <td>0.223288</td>\n",
       "    </tr>\n",
       "    <tr>\n",
       "      <th>4</th>\n",
       "      <td>-0.212773</td>\n",
       "      <td>-0.274028</td>\n",
       "      <td>-0.205964</td>\n",
       "      <td>-0.269588</td>\n",
       "      <td>-0.276828</td>\n",
       "      <td>-0.282334</td>\n",
       "      <td>-0.327107</td>\n",
       "      <td>-0.536956</td>\n",
       "      <td>-0.216089</td>\n",
       "      <td>-0.152573</td>\n",
       "      <td>-0.311679</td>\n",
       "      <td>0.213902</td>\n",
       "    </tr>\n",
       "  </tbody>\n",
       "</table>\n",
       "</div>"
      ],
      "text/plain": [
       "    BALANCE  PURCHASES  ONEOFF_PURCHASES  INSTALLMENTS_PURCHASES  \\\n",
       "0 -0.398652  -0.231407         -0.194392               -0.190114   \n",
       "1  0.253145  -0.151043         -0.114816               -0.146225   \n",
       "2  0.306287  -0.073753          0.074589               -0.311384   \n",
       "3  0.030396   0.143661          0.338133               -0.281417   \n",
       "4 -0.212773  -0.274028         -0.205964               -0.269588   \n",
       "\n",
       "   CASH_ADVANCE  CASH_ADVANCE_TRX  PURCHASES_TRX  CREDIT_LIMIT  PAYMENTS  \\\n",
       "0     -0.254218         -0.259275      -0.278480     -0.523036 -0.288090   \n",
       "1      0.838155          0.035408      -0.190365      0.221530  0.263336   \n",
       "2     -0.319748         -0.326107      -0.074679      0.565878 -0.262906   \n",
       "3     -0.228224         -0.204006      -0.341460      0.511418 -0.370633   \n",
       "4     -0.276828         -0.282334      -0.327107     -0.536956 -0.216089   \n",
       "\n",
       "   MINIMUM_PAYMENTS  PRC_FULL_PAYMENT    TENURE  \n",
       "0         -0.164692         -0.286223  0.196431  \n",
       "1          0.031363          0.075345  0.116021  \n",
       "2         -0.063906         -0.360002  0.247065  \n",
       "3         -0.141339         -0.325356  0.223288  \n",
       "4         -0.152573         -0.311679  0.213902  "
      ]
     },
     "execution_count": 19,
     "metadata": {},
     "output_type": "execute_result"
    }
   ],
   "source": [
    "feat_cols = ['BALANCE', 'PURCHASES', 'ONEOFF_PURCHASES', 'INSTALLMENTS_PURCHASES',\n",
    "             'CASH_ADVANCE', 'CASH_ADVANCE_TRX', 'PURCHASES_TRX', 'CREDIT_LIMIT',\n",
    "             'PAYMENTS', 'MINIMUM_PAYMENTS', 'PRC_FULL_PAYMENT', 'TENURE']\n",
    "\n",
    "X = pd.DataFrame(df_norm, columns=feat_cols)\n",
    "X.head()"
   ]
  },
  {
   "cell_type": "markdown",
   "id": "951970a0",
   "metadata": {},
   "source": [
    "**Cluster Defining**"
   ]
  },
  {
   "cell_type": "code",
   "execution_count": 20,
   "id": "e605cf48",
   "metadata": {
    "ExecuteTime": {
     "end_time": "2022-12-16T07:44:49.981314Z",
     "start_time": "2022-12-16T07:44:46.386931Z"
    }
   },
   "outputs": [
    {
     "data": {
      "text/html": [
       "<div>\n",
       "<style scoped>\n",
       "    .dataframe tbody tr th:only-of-type {\n",
       "        vertical-align: middle;\n",
       "    }\n",
       "\n",
       "    .dataframe tbody tr th {\n",
       "        vertical-align: top;\n",
       "    }\n",
       "\n",
       "    .dataframe thead th {\n",
       "        text-align: right;\n",
       "    }\n",
       "</style>\n",
       "<table border=\"1\" class=\"dataframe\">\n",
       "  <thead>\n",
       "    <tr style=\"text-align: right;\">\n",
       "      <th></th>\n",
       "      <th>Inertia</th>\n",
       "    </tr>\n",
       "  </thead>\n",
       "  <tbody>\n",
       "    <tr>\n",
       "      <th>1</th>\n",
       "      <td>8423.616878</td>\n",
       "    </tr>\n",
       "    <tr>\n",
       "      <th>2</th>\n",
       "      <td>6609.543972</td>\n",
       "    </tr>\n",
       "    <tr>\n",
       "      <th>3</th>\n",
       "      <td>5470.211927</td>\n",
       "    </tr>\n",
       "    <tr>\n",
       "      <th>4</th>\n",
       "      <td>4756.211384</td>\n",
       "    </tr>\n",
       "    <tr>\n",
       "      <th>5</th>\n",
       "      <td>4080.680268</td>\n",
       "    </tr>\n",
       "    <tr>\n",
       "      <th>6</th>\n",
       "      <td>3700.091966</td>\n",
       "    </tr>\n",
       "    <tr>\n",
       "      <th>7</th>\n",
       "      <td>3450.881252</td>\n",
       "    </tr>\n",
       "    <tr>\n",
       "      <th>8</th>\n",
       "      <td>3248.202732</td>\n",
       "    </tr>\n",
       "    <tr>\n",
       "      <th>9</th>\n",
       "      <td>3090.097501</td>\n",
       "    </tr>\n",
       "  </tbody>\n",
       "</table>\n",
       "</div>"
      ],
      "text/plain": [
       "       Inertia\n",
       "1  8423.616878\n",
       "2  6609.543972\n",
       "3  5470.211927\n",
       "4  4756.211384\n",
       "5  4080.680268\n",
       "6  3700.091966\n",
       "7  3450.881252\n",
       "8  3248.202732\n",
       "9  3090.097501"
      ]
     },
     "execution_count": 20,
     "metadata": {},
     "output_type": "execute_result"
    }
   ],
   "source": [
    "inertia = []\n",
    "\n",
    "for i in range(1, 10):\n",
    "    model = KMeans(n_clusters=i, random_state=2)\n",
    "    model.fit(X)\n",
    "    inertia.append(model.inertia_)\n",
    "    \n",
    "df_inertia = pd.DataFrame({'Inertia': inertia}, index=[i for i in range(1, 10)])\n",
    "df_inertia"
   ]
  },
  {
   "cell_type": "code",
   "execution_count": 21,
   "id": "cd7c3e88",
   "metadata": {
    "ExecuteTime": {
     "end_time": "2022-12-16T07:44:53.183696Z",
     "start_time": "2022-12-16T07:44:53.030110Z"
    }
   },
   "outputs": [
    {
     "data": {
      "image/png": "[encoded data removed]",
      "text/plain": [
       "<Figure size 432x288 with 1 Axes>"
      ]
     },
     "metadata": {
      "needs_background": "light"
     },
     "output_type": "display_data"
    }
   ],
   "source": [
    "df_inertia.plot(kind='line')\n",
    "plt.ylabel('Inertia (Sum of Squared Error)')\n",
    "plt.xlabel('Number of Clusters')\n",
    "plt.show()"
   ]
  },
  {
   "cell_type": "markdown",
   "id": "c2bc3706",
   "metadata": {},
   "source": [
    "Nilai inertia menunjukkan bahwa k cluster yang dapat dipilih yakni 3-5 cluster. Dalam memilih banyaknya cluster harus mempertimbangkan computation cost, sehingga dipilih banyaknya k cluster yaitu 3 cluster"
   ]
  },
  {
   "cell_type": "markdown",
   "id": "3c2b7ce6",
   "metadata": {},
   "source": [
    "## Model Defining"
   ]
  },
  {
   "cell_type": "markdown",
   "id": "4e6d4a45",
   "metadata": {},
   "source": [
    "**K-Means**"
   ]
  },
  {
   "cell_type": "code",
   "execution_count": 22,
   "id": "fbe524c6",
   "metadata": {
    "ExecuteTime": {
     "end_time": "2022-12-16T07:44:58.654404Z",
     "start_time": "2022-12-16T07:44:58.639440Z"
    }
   },
   "outputs": [],
   "source": [
    "modelKM = KMeans(n_clusters=3, random_state=2)"
   ]
  },
  {
   "cell_type": "markdown",
   "id": "6bef19a2",
   "metadata": {},
   "source": [
    "**Agglomerative Clustering**"
   ]
  },
  {
   "cell_type": "code",
   "execution_count": 23,
   "id": "bb9bf264",
   "metadata": {
    "ExecuteTime": {
     "end_time": "2022-12-16T07:45:00.383261Z",
     "start_time": "2022-12-16T07:45:00.378278Z"
    }
   },
   "outputs": [],
   "source": [
    "modelAgg = AgglomerativeClustering(n_clusters=3, affinity=\"euclidean\", linkage=\"ward\")"
   ]
  },
  {
   "cell_type": "markdown",
   "id": "2788c2c9",
   "metadata": {},
   "source": [
    "## Model Training"
   ]
  },
  {
   "cell_type": "markdown",
   "id": "cdd1f950",
   "metadata": {},
   "source": [
    "**K-Means**"
   ]
  },
  {
   "cell_type": "code",
   "execution_count": 24,
   "id": "38b940d6",
   "metadata": {
    "ExecuteTime": {
     "end_time": "2022-12-16T07:45:04.148702Z",
     "start_time": "2022-12-16T07:45:03.975168Z"
    }
   },
   "outputs": [
    {
     "data": {
      "text/plain": [
       "KMeans(n_clusters=3, random_state=2)"
      ]
     },
     "execution_count": 24,
     "metadata": {},
     "output_type": "execute_result"
    }
   ],
   "source": [
    "modelKM.fit(X.iloc[:, 0:12])"
   ]
  },
  {
   "cell_type": "markdown",
   "id": "c7806f6f",
   "metadata": {},
   "source": [
    "**Agglomerative Clustering**"
   ]
  },
  {
   "cell_type": "code",
   "execution_count": 25,
   "id": "2b8cbe67",
   "metadata": {
    "ExecuteTime": {
     "end_time": "2022-12-16T07:45:08.995286Z",
     "start_time": "2022-12-16T07:45:05.376152Z"
    }
   },
   "outputs": [
    {
     "data": {
      "text/plain": [
       "AgglomerativeClustering(n_clusters=3)"
      ]
     },
     "execution_count": 25,
     "metadata": {},
     "output_type": "execute_result"
    }
   ],
   "source": [
    "modelAgg.fit(X.iloc[:, 0:12])"
   ]
  },
  {
   "cell_type": "markdown",
   "id": "2a162093",
   "metadata": {},
   "source": [
    "**Predict**"
   ]
  },
  {
   "cell_type": "code",
   "execution_count": 26,
   "id": "2544aea7",
   "metadata": {
    "ExecuteTime": {
     "end_time": "2022-12-16T07:45:19.389851Z",
     "start_time": "2022-12-16T07:45:15.841251Z"
    }
   },
   "outputs": [],
   "source": [
    "X['CLUSTER_KM'] = modelKM.predict(X.iloc[:, 0:12])\n",
    "X['CLUSTER_AGG'] = modelAgg.fit_predict(X.iloc[:, 0:12])"
   ]
  },
  {
   "cell_type": "code",
   "execution_count": 27,
   "id": "49fc51a9",
   "metadata": {
    "ExecuteTime": {
     "end_time": "2022-12-16T07:45:22.541599Z",
     "start_time": "2022-12-16T07:45:22.527082Z"
    }
   },
   "outputs": [],
   "source": [
    "df2['CLUSTER_KM'] = X['CLUSTER_KM']\n",
    "df2['CLUSTER_AGG'] = X['CLUSTER_AGG']"
   ]
  },
  {
   "cell_type": "markdown",
   "id": "3caec170",
   "metadata": {
    "ExecuteTime": {
     "end_time": "2022-12-13T14:10:09.866046Z",
     "start_time": "2022-12-13T14:10:09.850086Z"
    }
   },
   "source": [
    "## Model Evaluation"
   ]
  },
  {
   "cell_type": "code",
   "execution_count": 28,
   "id": "61a6c9f3",
   "metadata": {
    "ExecuteTime": {
     "end_time": "2022-12-16T07:45:29.420705Z",
     "start_time": "2022-12-16T07:45:26.571900Z"
    }
   },
   "outputs": [],
   "source": [
    "sil_km = silhouette_score(X.iloc[:, 0:12], X['CLUSTER_KM'])\n",
    "db_km = davies_bouldin_score(X.iloc[:, 0:12], X['CLUSTER_KM'])\n",
    "# ch_km = calinski_harabasz_score(df2, df2['CLUSTER_KM'])\n",
    "\n",
    "sil_agg = silhouette_score(X.iloc[:, 0:12], X['CLUSTER_AGG'])\n",
    "db_agg = davies_bouldin_score(X.iloc[:, 0:12], X['CLUSTER_AGG'])"
   ]
  },
  {
   "cell_type": "code",
   "execution_count": 29,
   "id": "e6657ef6",
   "metadata": {
    "ExecuteTime": {
     "end_time": "2022-12-16T07:45:31.060024Z",
     "start_time": "2022-12-16T07:45:31.040078Z"
    }
   },
   "outputs": [
    {
     "data": {
      "text/html": [
       "<div>\n",
       "<style scoped>\n",
       "    .dataframe tbody tr th:only-of-type {\n",
       "        vertical-align: middle;\n",
       "    }\n",
       "\n",
       "    .dataframe tbody tr th {\n",
       "        vertical-align: top;\n",
       "    }\n",
       "\n",
       "    .dataframe thead th {\n",
       "        text-align: right;\n",
       "    }\n",
       "</style>\n",
       "<table border=\"1\" class=\"dataframe\">\n",
       "  <thead>\n",
       "    <tr style=\"text-align: right;\">\n",
       "      <th></th>\n",
       "      <th>K-Means</th>\n",
       "      <th>Agglomerative</th>\n",
       "    </tr>\n",
       "  </thead>\n",
       "  <tbody>\n",
       "    <tr>\n",
       "      <th>Silhouette Score</th>\n",
       "      <td>0.248260</td>\n",
       "      <td>0.190371</td>\n",
       "    </tr>\n",
       "    <tr>\n",
       "      <th>Davies-Bouldin</th>\n",
       "      <td>1.622981</td>\n",
       "      <td>1.952470</td>\n",
       "    </tr>\n",
       "  </tbody>\n",
       "</table>\n",
       "</div>"
      ],
      "text/plain": [
       "                   K-Means  Agglomerative\n",
       "Silhouette Score  0.248260       0.190371\n",
       "Davies-Bouldin    1.622981       1.952470"
      ]
     },
     "execution_count": 29,
     "metadata": {},
     "output_type": "execute_result"
    }
   ],
   "source": [
    "modelSlc = pd.DataFrame({'K-Means': [sil_km, db_km],\n",
    "                         'Agglomerative': [sil_agg, db_agg]}, \n",
    "                        index=['Silhouette Score', 'Davies-Bouldin'])\n",
    "modelSlc"
   ]
  },
  {
   "cell_type": "markdown",
   "id": "9f0d47c9",
   "metadata": {},
   "source": [
    "Melalui evaluasi model yang telah dilakukan, diperoleh hasil yang relatif tidak jauh antara metode KMeans dengan Agglomerative Clustering. Namun, dalam segi kecepatan komputasi KMeans jauh lebih baik."
   ]
  },
  {
   "cell_type": "code",
   "execution_count": 30,
   "id": "79074e35",
   "metadata": {
    "ExecuteTime": {
     "end_time": "2022-12-16T07:45:53.985566Z",
     "start_time": "2022-12-16T07:45:53.820803Z"
    },
    "scrolled": false
   },
   "outputs": [
    {
     "name": "stderr",
     "output_type": "stream",
     "text": [
      "C:\\Users\\death\\anaconda3\\lib\\site-packages\\seaborn\\_decorators.py:36: FutureWarning: Pass the following variables as keyword args: x, y. From version 0.12, the only valid positional argument will be `data`, and passing other arguments without an explicit keyword will result in an error or misinterpretation.\n",
      "  warnings.warn(\n"
     ]
    },
    {
     "data": {
      "text/plain": [
       "Text(0, 0.5, 'Frekuensi')"
      ]
     },
     "execution_count": 30,
     "metadata": {},
     "output_type": "execute_result"
    },
    {
     "data": {
      "image/png": "[encoded data removed]",
      "text/plain": [
       "<Figure size 432x288 with 1 Axes>"
      ]
     },
     "metadata": {
      "needs_background": "light"
     },
     "output_type": "display_data"
    }
   ],
   "source": [
    "x = X['CLUSTER_KM'].value_counts().index\n",
    "y = X['CLUSTER_KM'].value_counts().values\n",
    "\n",
    "sns.barplot(x, y)\n",
    "plt.title(\"Frekuensi Data Masing-masing Cluster\")\n",
    "plt.xlabel(\"Cluster\")\n",
    "plt.ylabel(\"Frekuensi\")"
   ]
  },
  {
   "cell_type": "code",
   "execution_count": 31,
   "id": "506ff7f4",
   "metadata": {
    "ExecuteTime": {
     "end_time": "2022-12-16T07:46:14.249713Z",
     "start_time": "2022-12-16T07:46:13.395609Z"
    }
   },
   "outputs": [
    {
     "data": {
      "text/plain": [
       "<seaborn.axisgrid.FacetGrid at 0x1ac000358b0>"
      ]
     },
     "execution_count": 31,
     "metadata": {},
     "output_type": "execute_result"
    },
    {
     "data": {
      "image/png": "[encoded data removed]",
      "text/plain": [
       "<Figure size 432.75x360 with 1 Axes>"
      ]
     },
     "metadata": {
      "needs_background": "light"
     },
     "output_type": "display_data"
    }
   ],
   "source": [
    "sns.relplot(x='BALANCE', y='PURCHASES', data=df2, hue='CLUSTER_KM', palette=['blue', 'yellow', 'green'])"
   ]
  },
  {
   "cell_type": "markdown",
   "id": "433b40eb",
   "metadata": {},
   "source": [
    "Diketahui bahwa cluster 0 merupakan customer yang banyak melakukan pembelian, sedangkan cluster 1 merupakan customer yang memiliki saldo rendah dan tidak banyak melakukan pembelian. Cluster 2 merupakan customer yang memiliki saldo tinggi namun tidak banyak melakukan pembelian."
   ]
  },
  {
   "cell_type": "code",
   "execution_count": 32,
   "id": "0c956426",
   "metadata": {
    "ExecuteTime": {
     "end_time": "2022-12-16T07:46:21.611287Z",
     "start_time": "2022-12-16T07:46:20.761644Z"
    }
   },
   "outputs": [
    {
     "data": {
      "text/plain": [
       "<seaborn.axisgrid.FacetGrid at 0x1ac0008f160>"
      ]
     },
     "execution_count": 32,
     "metadata": {},
     "output_type": "execute_result"
    },
    {
     "data": {
      "image/png": "[encoded data removed]",
      "text/plain": [
       "<Figure size 432.75x360 with 1 Axes>"
      ]
     },
     "metadata": {
      "needs_background": "light"
     },
     "output_type": "display_data"
    }
   ],
   "source": [
    "sns.relplot(x='BALANCE', y='PAYMENTS', data=df2, hue='CLUSTER_KM', palette=['blue', 'yellow', 'green'])"
   ]
  },
  {
   "cell_type": "markdown",
   "id": "b6fac097",
   "metadata": {},
   "source": [
    "Diketahui bahwa cluster 0 & 2 merupakan customer yang memiliki saldo tinggi dan banyak melakukan pembayaran. Sedangkan cluster 1 merupakan customer yang memiliki saldo rendah dan tidak banyak melakukan pembayaran."
   ]
  },
  {
   "cell_type": "markdown",
   "id": "c48d19de",
   "metadata": {},
   "source": [
    "## Model Inference"
   ]
  },
  {
   "cell_type": "code",
   "execution_count": 33,
   "id": "77817f69",
   "metadata": {
    "ExecuteTime": {
     "end_time": "2022-12-16T07:46:24.924063Z",
     "start_time": "2022-12-16T07:46:24.895141Z"
    }
   },
   "outputs": [
    {
     "data": {
      "text/html": [
       "<div>\n",
       "<style scoped>\n",
       "    .dataframe tbody tr th:only-of-type {\n",
       "        vertical-align: middle;\n",
       "    }\n",
       "\n",
       "    .dataframe tbody tr th {\n",
       "        vertical-align: top;\n",
       "    }\n",
       "\n",
       "    .dataframe thead th {\n",
       "        text-align: right;\n",
       "    }\n",
       "</style>\n",
       "<table border=\"1\" class=\"dataframe\">\n",
       "  <thead>\n",
       "    <tr style=\"text-align: right;\">\n",
       "      <th></th>\n",
       "      <th>BALANCE</th>\n",
       "      <th>PURCHASES</th>\n",
       "      <th>ONEOFF_PURCHASES</th>\n",
       "      <th>INSTALLMENTS_PURCHASES</th>\n",
       "      <th>CASH_ADVANCE</th>\n",
       "      <th>CASH_ADVANCE_TRX</th>\n",
       "      <th>PURCHASES_TRX</th>\n",
       "      <th>CREDIT_LIMIT</th>\n",
       "      <th>PAYMENTS</th>\n",
       "      <th>MINIMUM_PAYMENTS</th>\n",
       "      <th>PRC_FULL_PAYMENT</th>\n",
       "      <th>TENURE</th>\n",
       "    </tr>\n",
       "  </thead>\n",
       "  <tbody>\n",
       "    <tr>\n",
       "      <th>0</th>\n",
       "      <td>100</td>\n",
       "      <td>12000</td>\n",
       "      <td>3</td>\n",
       "      <td>0</td>\n",
       "      <td>0</td>\n",
       "      <td>0</td>\n",
       "      <td>0</td>\n",
       "      <td>200</td>\n",
       "      <td>20</td>\n",
       "      <td>20</td>\n",
       "      <td>0.2</td>\n",
       "      <td>12</td>\n",
       "    </tr>\n",
       "    <tr>\n",
       "      <th>1</th>\n",
       "      <td>46000</td>\n",
       "      <td>14000</td>\n",
       "      <td>9</td>\n",
       "      <td>0</td>\n",
       "      <td>2</td>\n",
       "      <td>0</td>\n",
       "      <td>15</td>\n",
       "      <td>50000</td>\n",
       "      <td>20000</td>\n",
       "      <td>20000</td>\n",
       "      <td>0.8</td>\n",
       "      <td>12</td>\n",
       "    </tr>\n",
       "  </tbody>\n",
       "</table>\n",
       "</div>"
      ],
      "text/plain": [
       "   BALANCE  PURCHASES  ONEOFF_PURCHASES  INSTALLMENTS_PURCHASES  CASH_ADVANCE  \\\n",
       "0      100      12000                 3                       0             0   \n",
       "1    46000      14000                 9                       0             2   \n",
       "\n",
       "   CASH_ADVANCE_TRX  PURCHASES_TRX  CREDIT_LIMIT  PAYMENTS  MINIMUM_PAYMENTS  \\\n",
       "0                 0              0           200        20                20   \n",
       "1                 0             15         50000     20000             20000   \n",
       "\n",
       "   PRC_FULL_PAYMENT  TENURE  \n",
       "0               0.2      12  \n",
       "1               0.8      12  "
      ]
     },
     "execution_count": 33,
     "metadata": {},
     "output_type": "execute_result"
    }
   ],
   "source": [
    "X_inf = {'BALANCE': [100, 46000], 'PURCHASES':[12000, 14000], 'ONEOFF_PURCHASES': [3, 9], \n",
    "         'INSTALLMENTS_PURCHASES': [0, 0], 'CASH_ADVANCE': [0, 2], 'CASH_ADVANCE_TRX': [0, 0], \n",
    "         'PURCHASES_TRX': [0, 15], 'CREDIT_LIMIT': [200, 50000], 'PAYMENTS': [20, 20000], \n",
    "         'MINIMUM_PAYMENTS': [20, 20000], 'PRC_FULL_PAYMENT': [0.2, 0.8], 'TENURE':[12, 12]}\n",
    "\n",
    "X_inf = pd.DataFrame(X_inf)\n",
    "X_inf.head()"
   ]
  },
  {
   "cell_type": "code",
   "execution_count": 34,
   "id": "30b75423",
   "metadata": {
    "ExecuteTime": {
     "end_time": "2022-12-16T07:46:25.413646Z",
     "start_time": "2022-12-16T07:46:25.400678Z"
    }
   },
   "outputs": [],
   "source": [
    "sclr_inf = sclr.transform(X_inf)\n",
    "norm_inf = normalize(X_inf)"
   ]
  },
  {
   "cell_type": "code",
   "execution_count": 35,
   "id": "2ad288f8",
   "metadata": {
    "ExecuteTime": {
     "end_time": "2022-12-16T07:46:26.035025Z",
     "start_time": "2022-12-16T07:46:25.998086Z"
    }
   },
   "outputs": [
    {
     "data": {
      "text/html": [
       "<div>\n",
       "<style scoped>\n",
       "    .dataframe tbody tr th:only-of-type {\n",
       "        vertical-align: middle;\n",
       "    }\n",
       "\n",
       "    .dataframe tbody tr th {\n",
       "        vertical-align: top;\n",
       "    }\n",
       "\n",
       "    .dataframe thead th {\n",
       "        text-align: right;\n",
       "    }\n",
       "</style>\n",
       "<table border=\"1\" class=\"dataframe\">\n",
       "  <thead>\n",
       "    <tr style=\"text-align: right;\">\n",
       "      <th></th>\n",
       "      <th>BALANCE</th>\n",
       "      <th>PURCHASES</th>\n",
       "      <th>ONEOFF_PURCHASES</th>\n",
       "      <th>INSTALLMENTS_PURCHASES</th>\n",
       "      <th>CASH_ADVANCE</th>\n",
       "      <th>CASH_ADVANCE_TRX</th>\n",
       "      <th>PURCHASES_TRX</th>\n",
       "      <th>CREDIT_LIMIT</th>\n",
       "      <th>PAYMENTS</th>\n",
       "      <th>MINIMUM_PAYMENTS</th>\n",
       "      <th>PRC_FULL_PAYMENT</th>\n",
       "      <th>TENURE</th>\n",
       "    </tr>\n",
       "  </thead>\n",
       "  <tbody>\n",
       "    <tr>\n",
       "      <th>0</th>\n",
       "      <td>0.008332</td>\n",
       "      <td>0.999823</td>\n",
       "      <td>0.00025</td>\n",
       "      <td>0.0</td>\n",
       "      <td>0.000000</td>\n",
       "      <td>0.0</td>\n",
       "      <td>0.0000</td>\n",
       "      <td>0.016664</td>\n",
       "      <td>0.001666</td>\n",
       "      <td>0.001666</td>\n",
       "      <td>0.000017</td>\n",
       "      <td>0.00100</td>\n",
       "    </tr>\n",
       "    <tr>\n",
       "      <th>1</th>\n",
       "      <td>0.614043</td>\n",
       "      <td>0.186883</td>\n",
       "      <td>0.00012</td>\n",
       "      <td>0.0</td>\n",
       "      <td>0.000027</td>\n",
       "      <td>0.0</td>\n",
       "      <td>0.0002</td>\n",
       "      <td>0.667438</td>\n",
       "      <td>0.266975</td>\n",
       "      <td>0.266975</td>\n",
       "      <td>0.000011</td>\n",
       "      <td>0.00016</td>\n",
       "    </tr>\n",
       "  </tbody>\n",
       "</table>\n",
       "</div>"
      ],
      "text/plain": [
       "    BALANCE  PURCHASES  ONEOFF_PURCHASES  INSTALLMENTS_PURCHASES  \\\n",
       "0  0.008332   0.999823           0.00025                     0.0   \n",
       "1  0.614043   0.186883           0.00012                     0.0   \n",
       "\n",
       "   CASH_ADVANCE  CASH_ADVANCE_TRX  PURCHASES_TRX  CREDIT_LIMIT  PAYMENTS  \\\n",
       "0      0.000000               0.0         0.0000      0.016664  0.001666   \n",
       "1      0.000027               0.0         0.0002      0.667438  0.266975   \n",
       "\n",
       "   MINIMUM_PAYMENTS  PRC_FULL_PAYMENT   TENURE  \n",
       "0          0.001666          0.000017  0.00100  \n",
       "1          0.266975          0.000011  0.00016  "
      ]
     },
     "execution_count": 35,
     "metadata": {},
     "output_type": "execute_result"
    }
   ],
   "source": [
    "feat_cols = ['BALANCE', 'PURCHASES', 'ONEOFF_PURCHASES', 'INSTALLMENTS_PURCHASES',\n",
    "             'CASH_ADVANCE', 'CASH_ADVANCE_TRX', 'PURCHASES_TRX', 'CREDIT_LIMIT',\n",
    "             'PAYMENTS', 'MINIMUM_PAYMENTS', 'PRC_FULL_PAYMENT', 'TENURE']\n",
    "\n",
    "X_inf = pd.DataFrame(norm_inf, columns=feat_cols)\n",
    "X_inf.head()"
   ]
  },
  {
   "cell_type": "code",
   "execution_count": 36,
   "id": "2eee3b35",
   "metadata": {
    "ExecuteTime": {
     "end_time": "2022-12-16T07:46:28.438956Z",
     "start_time": "2022-12-16T07:46:28.371137Z"
    },
    "scrolled": false
   },
   "outputs": [
    {
     "data": {
      "text/plain": [
       "array([0, 2])"
      ]
     },
     "execution_count": 36,
     "metadata": {},
     "output_type": "execute_result"
    }
   ],
   "source": [
    "modelKM.predict(X_inf)"
   ]
  },
  {
   "cell_type": "markdown",
   "id": "7907f4fd",
   "metadata": {},
   "source": [
    "## Conclusions"
   ]
  },
  {
   "cell_type": "markdown",
   "id": "0f6b3e1c",
   "metadata": {},
   "source": [
    "Dari analisis yang telah dilakukan, diperoleh kesimpulan sebagai berikut:\n",
    "* Terdapat 18 feature yang menjadi kriteria masing-masing customer, kemudian dipilih 12 feature yang saling independen untuk pembentukan cluster.\n",
    "* Perbandingan antara metode KMeans dengan Agglomerative Clustering menunjukkan bahwa hasil evaluasi model memiliki nilai yang relatif sama, namun dalam segi kecepatan komputasi model KMeans lebih unggul.\n",
    "* Terdapat 3 cluster dengan ciri-ciri yaitu cluster 0 merupakan costumer dengan saldo dan pengeluaran yang banyak, cluster 1 merupakan costumer dengan saldo dan pengeluaran yang sedikit, serta cluster 2 merupakan costumer yang memiliki saldo tinggi dan pengeluaran yang rendah.\n"
   ]
  },
  {
   "cell_type": "markdown",
   "id": "7c36ce88",
   "metadata": {},
   "source": [
    "---"
   ]
  },
  {
   "cell_type": "code",
   "execution_count": null,
   "id": "b14454b6",
   "metadata": {},
   "outputs": [],
   "source": [
    "pickle.dump(modelKM, open('modelClustering.pkl','wb'))"
   ]
  },
  {
   "cell_type": "code",
   "execution_count": null,
   "id": "34776e47",
   "metadata": {},
   "outputs": [],
   "source": [
    "with open('scaler.pkl', 'wb') as file:\n",
    "    pickle.dump(sclr, file)"
   ]
  },
  {
   "cell_type": "code",
   "execution_count": null,
   "id": "093e350d",
   "metadata": {},
   "outputs": [],
   "source": []
  }
 ],
 "metadata": {
  "kernelspec": {
   "display_name": "Python 3 (ipykernel)",
   "language": "python",
   "name": "python3"
  },
  "language_info": {
   "codemirror_mode": {
    "name": "ipython",
    "version": 3
   },
   "file_extension": ".py",
   "mimetype": "text/x-python",
   "name": "python",
   "nbconvert_exporter": "python",
   "pygments_lexer": "ipython3",
   "version": "3.9.12"
  },
  "toc": {
   "base_numbering": 1,
   "nav_menu": {},
   "number_sections": true,
   "sideBar": true,
   "skip_h1_title": false,
   "title_cell": "Table of Contents",
   "title_sidebar": "Contents",
   "toc_cell": false,
   "toc_position": {},
   "toc_section_display": true,
   "toc_window_display": false
  }
 },
 "nbformat": 4,
 "nbformat_minor": 5
}
