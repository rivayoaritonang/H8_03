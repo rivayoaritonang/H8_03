{
 "cells": [
  {
   "cell_type": "code",
   "execution_count": 1,
   "id": "8bd421a9",
   "metadata": {},
   "outputs": [],
   "source": [
    "import pandas as pd\n",
    "import numpy as np"
   ]
  },
  {
   "cell_type": "code",
   "execution_count": 2,
   "id": "61138db9",
   "metadata": {},
   "outputs": [
    {
     "data": {
      "text/html": [
       "<div>\n",
       "<style scoped>\n",
       "    .dataframe tbody tr th:only-of-type {\n",
       "        vertical-align: middle;\n",
       "    }\n",
       "\n",
       "    .dataframe tbody tr th {\n",
       "        vertical-align: top;\n",
       "    }\n",
       "\n",
       "    .dataframe thead th {\n",
       "        text-align: right;\n",
       "    }\n",
       "</style>\n",
       "<table border=\"1\" class=\"dataframe\">\n",
       "  <thead>\n",
       "    <tr style=\"text-align: right;\">\n",
       "      <th></th>\n",
       "      <th>lsoa_code</th>\n",
       "      <th>borough</th>\n",
       "      <th>major_category</th>\n",
       "      <th>minor_category</th>\n",
       "      <th>value</th>\n",
       "      <th>year</th>\n",
       "      <th>month</th>\n",
       "    </tr>\n",
       "  </thead>\n",
       "  <tbody>\n",
       "    <tr>\n",
       "      <th>0</th>\n",
       "      <td>E01001116</td>\n",
       "      <td>Croydon</td>\n",
       "      <td>Burglary</td>\n",
       "      <td>Burglary in Other Buildings</td>\n",
       "      <td>0</td>\n",
       "      <td>2016</td>\n",
       "      <td>11</td>\n",
       "    </tr>\n",
       "    <tr>\n",
       "      <th>1</th>\n",
       "      <td>E01001646</td>\n",
       "      <td>Greenwich</td>\n",
       "      <td>Violence Against the Person</td>\n",
       "      <td>Other violence</td>\n",
       "      <td>0</td>\n",
       "      <td>2016</td>\n",
       "      <td>11</td>\n",
       "    </tr>\n",
       "    <tr>\n",
       "      <th>2</th>\n",
       "      <td>E01000677</td>\n",
       "      <td>Bromley</td>\n",
       "      <td>Violence Against the Person</td>\n",
       "      <td>Other violence</td>\n",
       "      <td>0</td>\n",
       "      <td>2015</td>\n",
       "      <td>5</td>\n",
       "    </tr>\n",
       "    <tr>\n",
       "      <th>3</th>\n",
       "      <td>E01003774</td>\n",
       "      <td>Redbridge</td>\n",
       "      <td>Burglary</td>\n",
       "      <td>Burglary in Other Buildings</td>\n",
       "      <td>0</td>\n",
       "      <td>2016</td>\n",
       "      <td>3</td>\n",
       "    </tr>\n",
       "    <tr>\n",
       "      <th>4</th>\n",
       "      <td>E01004563</td>\n",
       "      <td>Wandsworth</td>\n",
       "      <td>Robbery</td>\n",
       "      <td>Personal Property</td>\n",
       "      <td>0</td>\n",
       "      <td>2008</td>\n",
       "      <td>6</td>\n",
       "    </tr>\n",
       "  </tbody>\n",
       "</table>\n",
       "</div>"
      ],
      "text/plain": [
       "   lsoa_code     borough               major_category  \\\n",
       "0  E01001116     Croydon                     Burglary   \n",
       "1  E01001646   Greenwich  Violence Against the Person   \n",
       "2  E01000677     Bromley  Violence Against the Person   \n",
       "3  E01003774   Redbridge                     Burglary   \n",
       "4  E01004563  Wandsworth                      Robbery   \n",
       "\n",
       "                minor_category  value  year  month  \n",
       "0  Burglary in Other Buildings      0  2016     11  \n",
       "1               Other violence      0  2016     11  \n",
       "2               Other violence      0  2015      5  \n",
       "3  Burglary in Other Buildings      0  2016      3  \n",
       "4            Personal Property      0  2008      6  "
      ]
     },
     "execution_count": 2,
     "metadata": {},
     "output_type": "execute_result"
    }
   ],
   "source": [
    "df_londoncrime = pd.read_csv(\"london_crime_by_lsoa.csv.zip\")\n",
    "df_londoncrime.head()"
   ]
  },
  {
   "cell_type": "code",
   "execution_count": 3,
   "id": "ee2d7e11",
   "metadata": {},
   "outputs": [],
   "source": [
    "%matplotlib inline\n",
    "\n",
    "import matplotlib as mpl\n",
    "import matplotlib.pyplot as plt\n",
    "\n",
    "mpl.style.use('ggplot')"
   ]
  },
  {
   "cell_type": "markdown",
   "id": "04ad3861",
   "metadata": {},
   "source": [
    "## A. Area Plot"
   ]
  },
  {
   "cell_type": "markdown",
   "id": "1b7d552b",
   "metadata": {},
   "source": [
    "Pertanyaan: Wilayah manakah yang memiliki angka kejahatan yang paling besar selama tahun 2008 - 2016"
   ]
  },
  {
   "cell_type": "code",
   "execution_count": 4,
   "id": "d246bd3f",
   "metadata": {},
   "outputs": [
    {
     "data": {
      "text/html": [
       "<div>\n",
       "<style scoped>\n",
       "    .dataframe tbody tr th:only-of-type {\n",
       "        vertical-align: middle;\n",
       "    }\n",
       "\n",
       "    .dataframe tbody tr th {\n",
       "        vertical-align: top;\n",
       "    }\n",
       "\n",
       "    .dataframe thead th {\n",
       "        text-align: right;\n",
       "    }\n",
       "</style>\n",
       "<table border=\"1\" class=\"dataframe\">\n",
       "  <thead>\n",
       "    <tr style=\"text-align: right;\">\n",
       "      <th></th>\n",
       "      <th>borough</th>\n",
       "      <th>major_category</th>\n",
       "      <th>minor_category</th>\n",
       "      <th>value</th>\n",
       "      <th>year</th>\n",
       "    </tr>\n",
       "  </thead>\n",
       "  <tbody>\n",
       "    <tr>\n",
       "      <th>0</th>\n",
       "      <td>Croydon</td>\n",
       "      <td>Burglary</td>\n",
       "      <td>Burglary in Other Buildings</td>\n",
       "      <td>0</td>\n",
       "      <td>2016</td>\n",
       "    </tr>\n",
       "    <tr>\n",
       "      <th>1</th>\n",
       "      <td>Greenwich</td>\n",
       "      <td>Violence Against the Person</td>\n",
       "      <td>Other violence</td>\n",
       "      <td>0</td>\n",
       "      <td>2016</td>\n",
       "    </tr>\n",
       "    <tr>\n",
       "      <th>2</th>\n",
       "      <td>Bromley</td>\n",
       "      <td>Violence Against the Person</td>\n",
       "      <td>Other violence</td>\n",
       "      <td>0</td>\n",
       "      <td>2015</td>\n",
       "    </tr>\n",
       "    <tr>\n",
       "      <th>3</th>\n",
       "      <td>Redbridge</td>\n",
       "      <td>Burglary</td>\n",
       "      <td>Burglary in Other Buildings</td>\n",
       "      <td>0</td>\n",
       "      <td>2016</td>\n",
       "    </tr>\n",
       "    <tr>\n",
       "      <th>4</th>\n",
       "      <td>Wandsworth</td>\n",
       "      <td>Robbery</td>\n",
       "      <td>Personal Property</td>\n",
       "      <td>0</td>\n",
       "      <td>2008</td>\n",
       "    </tr>\n",
       "  </tbody>\n",
       "</table>\n",
       "</div>"
      ],
      "text/plain": [
       "      borough               major_category               minor_category  \\\n",
       "0     Croydon                     Burglary  Burglary in Other Buildings   \n",
       "1   Greenwich  Violence Against the Person               Other violence   \n",
       "2     Bromley  Violence Against the Person               Other violence   \n",
       "3   Redbridge                     Burglary  Burglary in Other Buildings   \n",
       "4  Wandsworth                      Robbery            Personal Property   \n",
       "\n",
       "   value  year  \n",
       "0      0  2016  \n",
       "1      0  2016  \n",
       "2      0  2015  \n",
       "3      0  2016  \n",
       "4      0  2008  "
      ]
     },
     "execution_count": 4,
     "metadata": {},
     "output_type": "execute_result"
    }
   ],
   "source": [
    "df_LC = df_londoncrime.drop(['lsoa_code','month'], axis=1)\n",
    "df_LC.head()"
   ]
  },
  {
   "cell_type": "code",
   "execution_count": 5,
   "id": "38bb6085",
   "metadata": {},
   "outputs": [
    {
     "data": {
      "text/html": [
       "<div>\n",
       "<style scoped>\n",
       "    .dataframe tbody tr th:only-of-type {\n",
       "        vertical-align: middle;\n",
       "    }\n",
       "\n",
       "    .dataframe tbody tr th {\n",
       "        vertical-align: top;\n",
       "    }\n",
       "\n",
       "    .dataframe thead th {\n",
       "        text-align: right;\n",
       "    }\n",
       "</style>\n",
       "<table border=\"1\" class=\"dataframe\">\n",
       "  <thead>\n",
       "    <tr style=\"text-align: right;\">\n",
       "      <th></th>\n",
       "      <th></th>\n",
       "      <th>value</th>\n",
       "    </tr>\n",
       "    <tr>\n",
       "      <th>borough</th>\n",
       "      <th>year</th>\n",
       "      <th></th>\n",
       "    </tr>\n",
       "  </thead>\n",
       "  <tbody>\n",
       "    <tr>\n",
       "      <th rowspan=\"5\" valign=\"top\">Barking and Dagenham</th>\n",
       "      <th>2008</th>\n",
       "      <td>17656</td>\n",
       "    </tr>\n",
       "    <tr>\n",
       "      <th>2009</th>\n",
       "      <td>17713</td>\n",
       "    </tr>\n",
       "    <tr>\n",
       "      <th>2010</th>\n",
       "      <td>17130</td>\n",
       "    </tr>\n",
       "    <tr>\n",
       "      <th>2011</th>\n",
       "      <td>16686</td>\n",
       "    </tr>\n",
       "    <tr>\n",
       "      <th>2012</th>\n",
       "      <td>15990</td>\n",
       "    </tr>\n",
       "  </tbody>\n",
       "</table>\n",
       "</div>"
      ],
      "text/plain": [
       "                           value\n",
       "borough              year       \n",
       "Barking and Dagenham 2008  17656\n",
       "                     2009  17713\n",
       "                     2010  17130\n",
       "                     2011  16686\n",
       "                     2012  15990"
      ]
     },
     "execution_count": 5,
     "metadata": {},
     "output_type": "execute_result"
    }
   ],
   "source": [
    "df_crime = df_LC.groupby(['borough','year'], axis=0).sum()\n",
    "df_crime.head()"
   ]
  },
  {
   "cell_type": "code",
   "execution_count": 6,
   "id": "b5cbd9a0",
   "metadata": {},
   "outputs": [
    {
     "data": {
      "text/html": [
       "<div>\n",
       "<style scoped>\n",
       "    .dataframe tbody tr th:only-of-type {\n",
       "        vertical-align: middle;\n",
       "    }\n",
       "\n",
       "    .dataframe tbody tr th {\n",
       "        vertical-align: top;\n",
       "    }\n",
       "\n",
       "    .dataframe thead tr th {\n",
       "        text-align: left;\n",
       "    }\n",
       "\n",
       "    .dataframe thead tr:last-of-type th {\n",
       "        text-align: right;\n",
       "    }\n",
       "</style>\n",
       "<table border=\"1\" class=\"dataframe\">\n",
       "  <thead>\n",
       "    <tr>\n",
       "      <th></th>\n",
       "      <th colspan=\"9\" halign=\"left\">value</th>\n",
       "    </tr>\n",
       "    <tr>\n",
       "      <th>year</th>\n",
       "      <th>2008</th>\n",
       "      <th>2009</th>\n",
       "      <th>2010</th>\n",
       "      <th>2011</th>\n",
       "      <th>2012</th>\n",
       "      <th>2013</th>\n",
       "      <th>2014</th>\n",
       "      <th>2015</th>\n",
       "      <th>2016</th>\n",
       "    </tr>\n",
       "    <tr>\n",
       "      <th>borough</th>\n",
       "      <th></th>\n",
       "      <th></th>\n",
       "      <th></th>\n",
       "      <th></th>\n",
       "      <th></th>\n",
       "      <th></th>\n",
       "      <th></th>\n",
       "      <th></th>\n",
       "      <th></th>\n",
       "    </tr>\n",
       "  </thead>\n",
       "  <tbody>\n",
       "    <tr>\n",
       "      <th>Barking and Dagenham</th>\n",
       "      <td>17656</td>\n",
       "      <td>17713</td>\n",
       "      <td>17130</td>\n",
       "      <td>16686</td>\n",
       "      <td>15990</td>\n",
       "      <td>15759</td>\n",
       "      <td>15426</td>\n",
       "      <td>16346</td>\n",
       "      <td>16741</td>\n",
       "    </tr>\n",
       "    <tr>\n",
       "      <th>Barnet</th>\n",
       "      <td>23944</td>\n",
       "      <td>23449</td>\n",
       "      <td>23416</td>\n",
       "      <td>24007</td>\n",
       "      <td>23573</td>\n",
       "      <td>22510</td>\n",
       "      <td>22572</td>\n",
       "      <td>24036</td>\n",
       "      <td>24684</td>\n",
       "    </tr>\n",
       "    <tr>\n",
       "      <th>Bexley</th>\n",
       "      <td>15305</td>\n",
       "      <td>14445</td>\n",
       "      <td>13166</td>\n",
       "      <td>11325</td>\n",
       "      <td>11669</td>\n",
       "      <td>11552</td>\n",
       "      <td>11844</td>\n",
       "      <td>11990</td>\n",
       "      <td>12840</td>\n",
       "    </tr>\n",
       "    <tr>\n",
       "      <th>Brent</th>\n",
       "      <td>23504</td>\n",
       "      <td>24748</td>\n",
       "      <td>25512</td>\n",
       "      <td>27669</td>\n",
       "      <td>26357</td>\n",
       "      <td>23759</td>\n",
       "      <td>24426</td>\n",
       "      <td>24883</td>\n",
       "      <td>26693</td>\n",
       "    </tr>\n",
       "    <tr>\n",
       "      <th>Bromley</th>\n",
       "      <td>24015</td>\n",
       "      <td>21858</td>\n",
       "      <td>19572</td>\n",
       "      <td>19868</td>\n",
       "      <td>19622</td>\n",
       "      <td>18945</td>\n",
       "      <td>19668</td>\n",
       "      <td>20637</td>\n",
       "      <td>20164</td>\n",
       "    </tr>\n",
       "  </tbody>\n",
       "</table>\n",
       "</div>"
      ],
      "text/plain": [
       "                      value                                                   \\\n",
       "year                   2008   2009   2010   2011   2012   2013   2014   2015   \n",
       "borough                                                                        \n",
       "Barking and Dagenham  17656  17713  17130  16686  15990  15759  15426  16346   \n",
       "Barnet                23944  23449  23416  24007  23573  22510  22572  24036   \n",
       "Bexley                15305  14445  13166  11325  11669  11552  11844  11990   \n",
       "Brent                 23504  24748  25512  27669  26357  23759  24426  24883   \n",
       "Bromley               24015  21858  19572  19868  19622  18945  19668  20637   \n",
       "\n",
       "                             \n",
       "year                   2016  \n",
       "borough                      \n",
       "Barking and Dagenham  16741  \n",
       "Barnet                24684  \n",
       "Bexley                12840  \n",
       "Brent                 26693  \n",
       "Bromley               20164  "
      ]
     },
     "execution_count": 6,
     "metadata": {},
     "output_type": "execute_result"
    }
   ],
   "source": [
    "df_unstack = df_crime.unstack()\n",
    "df_unstack.head()"
   ]
  },
  {
   "cell_type": "code",
   "execution_count": 7,
   "id": "16562525",
   "metadata": {},
   "outputs": [
    {
     "data": {
      "text/html": [
       "<div>\n",
       "<style scoped>\n",
       "    .dataframe tbody tr th:only-of-type {\n",
       "        vertical-align: middle;\n",
       "    }\n",
       "\n",
       "    .dataframe tbody tr th {\n",
       "        vertical-align: top;\n",
       "    }\n",
       "\n",
       "    .dataframe thead th {\n",
       "        text-align: right;\n",
       "    }\n",
       "</style>\n",
       "<table border=\"1\" class=\"dataframe\">\n",
       "  <thead>\n",
       "    <tr style=\"text-align: right;\">\n",
       "      <th></th>\n",
       "      <th>value</th>\n",
       "    </tr>\n",
       "    <tr>\n",
       "      <th>borough</th>\n",
       "      <th></th>\n",
       "    </tr>\n",
       "  </thead>\n",
       "  <tbody>\n",
       "    <tr>\n",
       "      <th>Westminster</th>\n",
       "      <td>455028</td>\n",
       "    </tr>\n",
       "    <tr>\n",
       "      <th>Lambeth</th>\n",
       "      <td>292178</td>\n",
       "    </tr>\n",
       "    <tr>\n",
       "      <th>Southwark</th>\n",
       "      <td>278809</td>\n",
       "    </tr>\n",
       "    <tr>\n",
       "      <th>Camden</th>\n",
       "      <td>275147</td>\n",
       "    </tr>\n",
       "    <tr>\n",
       "      <th>Newham</th>\n",
       "      <td>262024</td>\n",
       "    </tr>\n",
       "  </tbody>\n",
       "</table>\n",
       "</div>"
      ],
      "text/plain": [
       "              value\n",
       "borough            \n",
       "Westminster  455028\n",
       "Lambeth      292178\n",
       "Southwark    278809\n",
       "Camden       275147\n",
       "Newham       262024"
      ]
     },
     "execution_count": 7,
     "metadata": {},
     "output_type": "execute_result"
    }
   ],
   "source": [
    "top5_crime = df_londoncrime.drop([\"lsoa_code\",\"major_category\",\"minor_category\",\"month\"], axis=1)\n",
    "top5_crime = top5_crime.set_index(\"year\").groupby(\"borough\").sum()\n",
    "top5_crime = top5_crime.sort_values(by=\"value\", ascending=False).head(5)\n",
    "top5_crime"
   ]
  },
  {
   "cell_type": "markdown",
   "id": "623b5d78",
   "metadata": {},
   "source": [
    "Berdasarkan output diatas, diketahui bahwa Westminster adalah wilayah metropolitan di London dengan angka kejahatan tertinggi."
   ]
  },
  {
   "cell_type": "code",
   "execution_count": 8,
   "id": "13d84358",
   "metadata": {},
   "outputs": [
    {
     "data": {
      "text/html": [
       "<div>\n",
       "<style scoped>\n",
       "    .dataframe tbody tr th:only-of-type {\n",
       "        vertical-align: middle;\n",
       "    }\n",
       "\n",
       "    .dataframe tbody tr th {\n",
       "        vertical-align: top;\n",
       "    }\n",
       "\n",
       "    .dataframe thead th {\n",
       "        text-align: right;\n",
       "    }\n",
       "</style>\n",
       "<table border=\"1\" class=\"dataframe\">\n",
       "  <thead>\n",
       "    <tr style=\"text-align: right;\">\n",
       "      <th>borough</th>\n",
       "      <th>Camden</th>\n",
       "      <th>Lambeth</th>\n",
       "      <th>Newham</th>\n",
       "      <th>Southwark</th>\n",
       "      <th>Westminster</th>\n",
       "    </tr>\n",
       "    <tr>\n",
       "      <th>year</th>\n",
       "      <th></th>\n",
       "      <th></th>\n",
       "      <th></th>\n",
       "      <th></th>\n",
       "      <th></th>\n",
       "    </tr>\n",
       "  </thead>\n",
       "  <tbody>\n",
       "    <tr>\n",
       "      <th>2008</th>\n",
       "      <td>32010</td>\n",
       "      <td>31717</td>\n",
       "      <td>29752</td>\n",
       "      <td>33470</td>\n",
       "      <td>47846</td>\n",
       "    </tr>\n",
       "    <tr>\n",
       "      <th>2009</th>\n",
       "      <td>31612</td>\n",
       "      <td>31225</td>\n",
       "      <td>28610</td>\n",
       "      <td>30623</td>\n",
       "      <td>48456</td>\n",
       "    </tr>\n",
       "    <tr>\n",
       "      <th>2010</th>\n",
       "      <td>31804</td>\n",
       "      <td>31671</td>\n",
       "      <td>30728</td>\n",
       "      <td>31320</td>\n",
       "      <td>48116</td>\n",
       "    </tr>\n",
       "    <tr>\n",
       "      <th>2011</th>\n",
       "      <td>33956</td>\n",
       "      <td>33224</td>\n",
       "      <td>27978</td>\n",
       "      <td>30723</td>\n",
       "      <td>54243</td>\n",
       "    </tr>\n",
       "    <tr>\n",
       "      <th>2012</th>\n",
       "      <td>31472</td>\n",
       "      <td>33473</td>\n",
       "      <td>30067</td>\n",
       "      <td>30737</td>\n",
       "      <td>59226</td>\n",
       "    </tr>\n",
       "    <tr>\n",
       "      <th>2013</th>\n",
       "      <td>28435</td>\n",
       "      <td>31868</td>\n",
       "      <td>27577</td>\n",
       "      <td>31128</td>\n",
       "      <td>53852</td>\n",
       "    </tr>\n",
       "    <tr>\n",
       "      <th>2014</th>\n",
       "      <td>27198</td>\n",
       "      <td>31765</td>\n",
       "      <td>28005</td>\n",
       "      <td>28912</td>\n",
       "      <td>47564</td>\n",
       "    </tr>\n",
       "    <tr>\n",
       "      <th>2015</th>\n",
       "      <td>29477</td>\n",
       "      <td>33164</td>\n",
       "      <td>29217</td>\n",
       "      <td>30260</td>\n",
       "      <td>47395</td>\n",
       "    </tr>\n",
       "    <tr>\n",
       "      <th>2016</th>\n",
       "      <td>29183</td>\n",
       "      <td>34071</td>\n",
       "      <td>30090</td>\n",
       "      <td>31636</td>\n",
       "      <td>48330</td>\n",
       "    </tr>\n",
       "  </tbody>\n",
       "</table>\n",
       "</div>"
      ],
      "text/plain": [
       "borough  Camden  Lambeth  Newham  Southwark  Westminster\n",
       "year                                                    \n",
       "2008      32010    31717   29752      33470        47846\n",
       "2009      31612    31225   28610      30623        48456\n",
       "2010      31804    31671   30728      31320        48116\n",
       "2011      33956    33224   27978      30723        54243\n",
       "2012      31472    33473   30067      30737        59226\n",
       "2013      28435    31868   27577      31128        53852\n",
       "2014      27198    31765   28005      28912        47564\n",
       "2015      29477    33164   29217      30260        47395\n",
       "2016      29183    34071   30090      31636        48330"
      ]
     },
     "execution_count": 8,
     "metadata": {},
     "output_type": "execute_result"
    }
   ],
   "source": [
    "df_top5 = df_londoncrime.drop([\"lsoa_code\",\"major_category\",\"minor_category\",\"month\"], axis=1).set_index(\"borough\")\n",
    "df_top5 = df_top5.loc[top5_crime.index]\n",
    "df_top5 = pd.pivot_table(df_top5, values=\"value\", aggfunc=np.sum, index=\"year\", columns=\"borough\")\n",
    "df_top5"
   ]
  },
  {
   "cell_type": "markdown",
   "id": "a9166b54",
   "metadata": {},
   "source": [
    "### Visualization:"
   ]
  },
  {
   "cell_type": "code",
   "execution_count": 9,
   "id": "fe2726a0",
   "metadata": {},
   "outputs": [
    {
     "data": {
      "image/png": "[encoded data removed]",
      "text/plain": [
       "<Figure size 1080x504 with 1 Axes>"
      ]
     },
     "metadata": {},
     "output_type": "display_data"
    }
   ],
   "source": [
    "df_top5.plot(kind=\"area\",\n",
    "             figsize=(15,7),\n",
    "             stacked=True,\n",
    "             alpha = 0.4)\n",
    "plt.title(\"Top 5 Borough with the Highest Crime Number [2008-2016]\\n (STACKED)\", fontsize=20)\n",
    "plt.xlabel(\"\\nYear\", fontsize=15)\n",
    "plt.ylabel(\"Number of Crime\\n\", fontsize=15)\n",
    "plt.grid(color=\"grey\", linewidth=0.5)\n",
    "plt.legend(loc=\"upper left\")\n",
    "plt.show()"
   ]
  },
  {
   "cell_type": "markdown",
   "id": "722dd7ad",
   "metadata": {},
   "source": [
    "### Conclusion:"
   ]
  },
  {
   "cell_type": "markdown",
   "id": "0f75d86b",
   "metadata": {},
   "source": [
    "Berdasarkan plot diatas, dapat diketahui bahwa Westminster memiliki angka kejahatan tertinggi dari tahun 2008 - 2016, diikuti dengan Lambeth, Southwark, Camden dan Newham. Dapat diketahui juga bawha Westminster memiliki angka kejahatan yang sangat tinggi dibandingkan dengan 4 brough lain yaitu pada tahun 2012 diikuti penurunan pada tahun 2013 dan tidak mengalami kenaikan dan penurunan yang signifikan sampai tahun 2016."
   ]
  },
  {
   "cell_type": "markdown",
   "id": "3828b90b",
   "metadata": {},
   "source": [
    "## B. Histogram"
   ]
  },
  {
   "cell_type": "markdown",
   "id": "17c7f558",
   "metadata": {},
   "source": [
    "Pertanyaan: Bagaimana distribusi kasus kriminal di Southwark pada tahun 2008 sampai 2016?"
   ]
  },
  {
   "cell_type": "code",
   "execution_count": 10,
   "id": "4d192eaf",
   "metadata": {},
   "outputs": [
    {
     "data": {
      "text/html": [
       "<div>\n",
       "<style scoped>\n",
       "    .dataframe tbody tr th:only-of-type {\n",
       "        vertical-align: middle;\n",
       "    }\n",
       "\n",
       "    .dataframe tbody tr th {\n",
       "        vertical-align: top;\n",
       "    }\n",
       "\n",
       "    .dataframe thead tr th {\n",
       "        text-align: left;\n",
       "    }\n",
       "\n",
       "    .dataframe thead tr:last-of-type th {\n",
       "        text-align: right;\n",
       "    }\n",
       "</style>\n",
       "<table border=\"1\" class=\"dataframe\">\n",
       "  <thead>\n",
       "    <tr>\n",
       "      <th></th>\n",
       "      <th colspan=\"9\" halign=\"left\">value</th>\n",
       "    </tr>\n",
       "    <tr>\n",
       "      <th>year</th>\n",
       "      <th>2008</th>\n",
       "      <th>2009</th>\n",
       "      <th>2010</th>\n",
       "      <th>2011</th>\n",
       "      <th>2012</th>\n",
       "      <th>2013</th>\n",
       "      <th>2014</th>\n",
       "      <th>2015</th>\n",
       "      <th>2016</th>\n",
       "    </tr>\n",
       "    <tr>\n",
       "      <th>borough</th>\n",
       "      <th></th>\n",
       "      <th></th>\n",
       "      <th></th>\n",
       "      <th></th>\n",
       "      <th></th>\n",
       "      <th></th>\n",
       "      <th></th>\n",
       "      <th></th>\n",
       "      <th></th>\n",
       "    </tr>\n",
       "  </thead>\n",
       "  <tbody>\n",
       "    <tr>\n",
       "      <th>Barking and Dagenham</th>\n",
       "      <td>17656</td>\n",
       "      <td>17713</td>\n",
       "      <td>17130</td>\n",
       "      <td>16686</td>\n",
       "      <td>15990</td>\n",
       "      <td>15759</td>\n",
       "      <td>15426</td>\n",
       "      <td>16346</td>\n",
       "      <td>16741</td>\n",
       "    </tr>\n",
       "    <tr>\n",
       "      <th>Barnet</th>\n",
       "      <td>23944</td>\n",
       "      <td>23449</td>\n",
       "      <td>23416</td>\n",
       "      <td>24007</td>\n",
       "      <td>23573</td>\n",
       "      <td>22510</td>\n",
       "      <td>22572</td>\n",
       "      <td>24036</td>\n",
       "      <td>24684</td>\n",
       "    </tr>\n",
       "    <tr>\n",
       "      <th>Bexley</th>\n",
       "      <td>15305</td>\n",
       "      <td>14445</td>\n",
       "      <td>13166</td>\n",
       "      <td>11325</td>\n",
       "      <td>11669</td>\n",
       "      <td>11552</td>\n",
       "      <td>11844</td>\n",
       "      <td>11990</td>\n",
       "      <td>12840</td>\n",
       "    </tr>\n",
       "    <tr>\n",
       "      <th>Brent</th>\n",
       "      <td>23504</td>\n",
       "      <td>24748</td>\n",
       "      <td>25512</td>\n",
       "      <td>27669</td>\n",
       "      <td>26357</td>\n",
       "      <td>23759</td>\n",
       "      <td>24426</td>\n",
       "      <td>24883</td>\n",
       "      <td>26693</td>\n",
       "    </tr>\n",
       "    <tr>\n",
       "      <th>Bromley</th>\n",
       "      <td>24015</td>\n",
       "      <td>21858</td>\n",
       "      <td>19572</td>\n",
       "      <td>19868</td>\n",
       "      <td>19622</td>\n",
       "      <td>18945</td>\n",
       "      <td>19668</td>\n",
       "      <td>20637</td>\n",
       "      <td>20164</td>\n",
       "    </tr>\n",
       "  </tbody>\n",
       "</table>\n",
       "</div>"
      ],
      "text/plain": [
       "                      value                                                   \\\n",
       "year                   2008   2009   2010   2011   2012   2013   2014   2015   \n",
       "borough                                                                        \n",
       "Barking and Dagenham  17656  17713  17130  16686  15990  15759  15426  16346   \n",
       "Barnet                23944  23449  23416  24007  23573  22510  22572  24036   \n",
       "Bexley                15305  14445  13166  11325  11669  11552  11844  11990   \n",
       "Brent                 23504  24748  25512  27669  26357  23759  24426  24883   \n",
       "Bromley               24015  21858  19572  19868  19622  18945  19668  20637   \n",
       "\n",
       "                             \n",
       "year                   2016  \n",
       "borough                      \n",
       "Barking and Dagenham  16741  \n",
       "Barnet                24684  \n",
       "Bexley                12840  \n",
       "Brent                 26693  \n",
       "Bromley               20164  "
      ]
     },
     "execution_count": 10,
     "metadata": {},
     "output_type": "execute_result"
    }
   ],
   "source": [
    "df_unstack.head()"
   ]
  },
  {
   "cell_type": "code",
   "execution_count": 11,
   "id": "ad5123ac",
   "metadata": {},
   "outputs": [
    {
     "data": {
      "text/html": [
       "<div>\n",
       "<style scoped>\n",
       "    .dataframe tbody tr th:only-of-type {\n",
       "        vertical-align: middle;\n",
       "    }\n",
       "\n",
       "    .dataframe tbody tr th {\n",
       "        vertical-align: top;\n",
       "    }\n",
       "\n",
       "    .dataframe thead th {\n",
       "        text-align: right;\n",
       "    }\n",
       "</style>\n",
       "<table border=\"1\" class=\"dataframe\">\n",
       "  <thead>\n",
       "    <tr style=\"text-align: right;\">\n",
       "      <th></th>\n",
       "      <th>borough</th>\n",
       "      <th>Southwark</th>\n",
       "    </tr>\n",
       "    <tr>\n",
       "      <th></th>\n",
       "      <th>year</th>\n",
       "      <th></th>\n",
       "    </tr>\n",
       "  </thead>\n",
       "  <tbody>\n",
       "    <tr>\n",
       "      <th rowspan=\"9\" valign=\"top\">value</th>\n",
       "      <th>2008</th>\n",
       "      <td>33470</td>\n",
       "    </tr>\n",
       "    <tr>\n",
       "      <th>2009</th>\n",
       "      <td>30623</td>\n",
       "    </tr>\n",
       "    <tr>\n",
       "      <th>2010</th>\n",
       "      <td>31320</td>\n",
       "    </tr>\n",
       "    <tr>\n",
       "      <th>2011</th>\n",
       "      <td>30723</td>\n",
       "    </tr>\n",
       "    <tr>\n",
       "      <th>2012</th>\n",
       "      <td>30737</td>\n",
       "    </tr>\n",
       "    <tr>\n",
       "      <th>2013</th>\n",
       "      <td>31128</td>\n",
       "    </tr>\n",
       "    <tr>\n",
       "      <th>2014</th>\n",
       "      <td>28912</td>\n",
       "    </tr>\n",
       "    <tr>\n",
       "      <th>2015</th>\n",
       "      <td>30260</td>\n",
       "    </tr>\n",
       "    <tr>\n",
       "      <th>2016</th>\n",
       "      <td>31636</td>\n",
       "    </tr>\n",
       "  </tbody>\n",
       "</table>\n",
       "</div>"
      ],
      "text/plain": [
       "borough     Southwark\n",
       "      year           \n",
       "value 2008      33470\n",
       "      2009      30623\n",
       "      2010      31320\n",
       "      2011      30723\n",
       "      2012      30737\n",
       "      2013      31128\n",
       "      2014      28912\n",
       "      2015      30260\n",
       "      2016      31636"
      ]
     },
     "execution_count": 11,
     "metadata": {},
     "output_type": "execute_result"
    }
   ],
   "source": [
    "df_hist = df_unstack.loc[['Southwark']].transpose()\n",
    "df_hist"
   ]
  },
  {
   "cell_type": "markdown",
   "id": "2a671124",
   "metadata": {},
   "source": [
    "### Visualization:"
   ]
  },
  {
   "cell_type": "code",
   "execution_count": 12,
   "id": "95114da7",
   "metadata": {},
   "outputs": [
    {
     "data": {
      "text/plain": [
       "Text(0.5, 0, 'Number of Crime')"
      ]
     },
     "execution_count": 12,
     "metadata": {},
     "output_type": "execute_result"
    },
    {
     "data": {
      "image/png": "[encoded data removed]",
      "text/plain": [
       "<Figure size 576x360 with 1 Axes>"
      ]
     },
     "metadata": {},
     "output_type": "display_data"
    }
   ],
   "source": [
    "df_hist.plot(kind='hist', \n",
    "             figsize=(8,5), \n",
    "             bins=15, \n",
    "             alpha=0.7)\n",
    "\n",
    "plt.title('Histogram of Crime Number per Borough')\n",
    "plt.ylabel('Number of Year')\n",
    "plt.xlabel('Number of Crime')"
   ]
  },
  {
   "cell_type": "markdown",
   "id": "e77c934a",
   "metadata": {},
   "source": [
    "### Conclusion: "
   ]
  },
  {
   "cell_type": "markdown",
   "id": "c7435427",
   "metadata": {},
   "source": [
    "Berdasarkan histogram di atas, dapat diketahui bahwa persebaran pada data tersebut cenderung simetris. Serta dapat diketahui pula bahwa terdapat data pencilan yaitu terdapat di antara 28912 - 29368 dan di antara 33014 - 33470."
   ]
  },
  {
   "cell_type": "markdown",
   "id": "d571c926",
   "metadata": {},
   "source": [
    "## C. Bar Chart"
   ]
  },
  {
   "cell_type": "markdown",
   "id": "8d069161",
   "metadata": {},
   "source": [
    "Pertanyaan:  Berapa jumlah kejahatan di London tahun 2008-2016?"
   ]
  },
  {
   "cell_type": "code",
   "execution_count": 13,
   "id": "0501a7cd",
   "metadata": {},
   "outputs": [
    {
     "data": {
      "text/html": [
       "<div>\n",
       "<style scoped>\n",
       "    .dataframe tbody tr th:only-of-type {\n",
       "        vertical-align: middle;\n",
       "    }\n",
       "\n",
       "    .dataframe tbody tr th {\n",
       "        vertical-align: top;\n",
       "    }\n",
       "\n",
       "    .dataframe thead th {\n",
       "        text-align: right;\n",
       "    }\n",
       "</style>\n",
       "<table border=\"1\" class=\"dataframe\">\n",
       "  <thead>\n",
       "    <tr style=\"text-align: right;\">\n",
       "      <th></th>\n",
       "      <th>value</th>\n",
       "    </tr>\n",
       "    <tr>\n",
       "      <th>year</th>\n",
       "      <th></th>\n",
       "    </tr>\n",
       "  </thead>\n",
       "  <tbody>\n",
       "    <tr>\n",
       "      <th>2008</th>\n",
       "      <td>738641</td>\n",
       "    </tr>\n",
       "    <tr>\n",
       "      <th>2009</th>\n",
       "      <td>717214</td>\n",
       "    </tr>\n",
       "    <tr>\n",
       "      <th>2010</th>\n",
       "      <td>715324</td>\n",
       "    </tr>\n",
       "    <tr>\n",
       "      <th>2011</th>\n",
       "      <td>724915</td>\n",
       "    </tr>\n",
       "    <tr>\n",
       "      <th>2012</th>\n",
       "      <td>737329</td>\n",
       "    </tr>\n",
       "    <tr>\n",
       "      <th>2013</th>\n",
       "      <td>686407</td>\n",
       "    </tr>\n",
       "    <tr>\n",
       "      <th>2014</th>\n",
       "      <td>680183</td>\n",
       "    </tr>\n",
       "    <tr>\n",
       "      <th>2015</th>\n",
       "      <td>711624</td>\n",
       "    </tr>\n",
       "    <tr>\n",
       "      <th>2016</th>\n",
       "      <td>736121</td>\n",
       "    </tr>\n",
       "  </tbody>\n",
       "</table>\n",
       "</div>"
      ],
      "text/plain": [
       "       value\n",
       "year        \n",
       "2008  738641\n",
       "2009  717214\n",
       "2010  715324\n",
       "2011  724915\n",
       "2012  737329\n",
       "2013  686407\n",
       "2014  680183\n",
       "2015  711624\n",
       "2016  736121"
      ]
     },
     "execution_count": 13,
     "metadata": {},
     "output_type": "execute_result"
    }
   ],
   "source": [
    "total_crime = df_londoncrime.drop([\"lsoa_code\",\"borough\",\"major_category\",\"minor_category\",\"month\"], axis=1)\n",
    "total_crime = total_crime.groupby(\"year\").sum()\n",
    "total_crime"
   ]
  },
  {
   "cell_type": "markdown",
   "id": "5c1a51ab",
   "metadata": {},
   "source": [
    "### Visualization:"
   ]
  },
  {
   "cell_type": "code",
   "execution_count": 14,
   "id": "81627f0b",
   "metadata": {},
   "outputs": [
    {
     "data": {
      "image/png": "[encoded data removed]",
      "text/plain": [
       "<Figure size 1080x504 with 1 Axes>"
      ]
     },
     "metadata": {},
     "output_type": "display_data"
    }
   ],
   "source": [
    "total_crime.plot(kind=\"bar\",\n",
    "                figsize=(15,7),\n",
    "                color=\"red\",\n",
    "                legend=False,\n",
    "                alpha=0.8)\n",
    "plt.title(\"London Crime Number from 2008-2016\", fontsize=20)\n",
    "plt.xlabel(\"Year\", fontsize=15)\n",
    "plt.ylabel(\"Crime Number\", fontsize=15)\n",
    "plt.grid(color=\"grey\", linewidth=0.5)\n",
    "plt.xticks(rotation=-45)\n",
    "plt.show()"
   ]
  },
  {
   "cell_type": "markdown",
   "id": "1b8d4f7d",
   "metadata": {},
   "source": [
    "### Conclusion:"
   ]
  },
  {
   "cell_type": "markdown",
   "id": "3524da55",
   "metadata": {},
   "source": [
    "Berdasarkan plot berikut, dapat diketahui bahwa jumlah kejahatan/kriminal di London tahun 2008-2012 adalah lebih dari 700000 dan kemudian turun di tahun 2013 dan 2014, diikuti kenaikan di atas 700000 kasus di tahun 2015"
   ]
  },
  {
   "cell_type": "markdown",
   "id": "11f70539",
   "metadata": {},
   "source": [
    "## D. Pie Chart"
   ]
  },
  {
   "cell_type": "markdown",
   "id": "080357d6",
   "metadata": {},
   "source": [
    "Pertanyaan: Bagaimana proporsi kategori kejahatan di London tahun 2008-2016?"
   ]
  },
  {
   "cell_type": "code",
   "execution_count": 15,
   "id": "b0939739",
   "metadata": {},
   "outputs": [
    {
     "data": {
      "text/plain": [
       "major_category\n",
       "Burglary                       1043604\n",
       "Criminal Damage                2069172\n",
       "Drugs                          1179468\n",
       "Fraud or Forgery                236520\n",
       "Other Notifiable Offences       776304\n",
       "Robbery                         939384\n",
       "Sexual Offences                 108108\n",
       "Theft and Handling             3966300\n",
       "Violence Against the Person    3171744\n",
       "dtype: int64"
      ]
     },
     "execution_count": 15,
     "metadata": {},
     "output_type": "execute_result"
    }
   ],
   "source": [
    "crime_proporsi = df_londoncrime.drop([\"borough\",\"lsoa_code\",\"minor_category\",\"year\",\"month\"], axis=1)\n",
    "crime_proporsi = crime_proporsi.groupby(\"major_category\").size()\n",
    "crime_proporsi"
   ]
  },
  {
   "cell_type": "markdown",
   "id": "b62d428b",
   "metadata": {},
   "source": [
    "### Visualization:"
   ]
  },
  {
   "cell_type": "code",
   "execution_count": 16,
   "id": "01b43952",
   "metadata": {},
   "outputs": [
    {
     "data": {
      "image/png": "[encoded data removed]",
      "text/plain": [
       "<Figure size 1440x720 with 1 Axes>"
      ]
     },
     "metadata": {},
     "output_type": "display_data"
    }
   ],
   "source": [
    "explode_list = [0,0,0,0.1,0.05,0.05,0.1,0,0]\n",
    "color_list = [\"lightcoral\",\"navajowhite\",\"lightcyan\",\"violet\",\"silver\",\n",
    "             \"tan\",\"cornflowerblue\",\"brown\",\"rosybrown\"]\n",
    "crime_proporsi.plot(kind=\"pie\",\n",
    "                     figsize=(20,10),\n",
    "                     autopct=\"%1.1f%%\",\n",
    "                     startangle=90,\n",
    "                     shadow=True,\n",
    "                     labels=None,\n",
    "                     pctdistance=1.12,\n",
    "                     explode = explode_list,\n",
    "                     colors=color_list)\n",
    "plt.title(\"Percentage of Crime in London from Each Category [2008-2016]\\n\", fontsize=20, loc=\"center\",color=\"lightblue\")\n",
    "plt.legend(labels=crime_proporsi.index, loc=\"upper left\", prop={\"size\":7.5})\n",
    "plt.show()"
   ]
  },
  {
   "cell_type": "markdown",
   "id": "89eb4fe4",
   "metadata": {},
   "source": [
    "### Conclusion:"
   ]
  },
  {
   "cell_type": "markdown",
   "id": "52d2fc08",
   "metadata": {},
   "source": [
    "Berdasarkan visualisasi diatas proporsi kategori kejahatan di London selama tahun 2008-2016 dalam satuan persen. Persentase tertinggi adalah kategori Theft and Handling yaitu sebesar 29.4% dan Violance Against the Person sebesar 23.5%. Sedangkan Sexual Offences dan Fraud or Forgery sebagai kategori dengan jumlah kasus terendah memiliki persentase sebesar 0.8% dan 1.8%."
   ]
  },
  {
   "cell_type": "markdown",
   "id": "1d7084e4",
   "metadata": {},
   "source": [
    "## E. Box Plot"
   ]
  },
  {
   "cell_type": "markdown",
   "id": "26883794",
   "metadata": {},
   "source": [
    "Pertanyaan: Bagaimana distribusi statistik dari data jumlah kasus kejahatan di London tahun 2008-2016?"
   ]
  },
  {
   "cell_type": "code",
   "execution_count": 17,
   "id": "3c1ceea6",
   "metadata": {},
   "outputs": [
    {
     "data": {
      "text/html": [
       "<div>\n",
       "<style scoped>\n",
       "    .dataframe tbody tr th:only-of-type {\n",
       "        vertical-align: middle;\n",
       "    }\n",
       "\n",
       "    .dataframe tbody tr th {\n",
       "        vertical-align: top;\n",
       "    }\n",
       "\n",
       "    .dataframe thead th {\n",
       "        text-align: right;\n",
       "    }\n",
       "</style>\n",
       "<table border=\"1\" class=\"dataframe\">\n",
       "  <thead>\n",
       "    <tr style=\"text-align: right;\">\n",
       "      <th></th>\n",
       "      <th>value</th>\n",
       "    </tr>\n",
       "    <tr>\n",
       "      <th>year</th>\n",
       "      <th></th>\n",
       "    </tr>\n",
       "  </thead>\n",
       "  <tbody>\n",
       "    <tr>\n",
       "      <th>2008</th>\n",
       "      <td>738641</td>\n",
       "    </tr>\n",
       "    <tr>\n",
       "      <th>2009</th>\n",
       "      <td>717214</td>\n",
       "    </tr>\n",
       "    <tr>\n",
       "      <th>2010</th>\n",
       "      <td>715324</td>\n",
       "    </tr>\n",
       "    <tr>\n",
       "      <th>2011</th>\n",
       "      <td>724915</td>\n",
       "    </tr>\n",
       "    <tr>\n",
       "      <th>2012</th>\n",
       "      <td>737329</td>\n",
       "    </tr>\n",
       "    <tr>\n",
       "      <th>2013</th>\n",
       "      <td>686407</td>\n",
       "    </tr>\n",
       "    <tr>\n",
       "      <th>2014</th>\n",
       "      <td>680183</td>\n",
       "    </tr>\n",
       "    <tr>\n",
       "      <th>2015</th>\n",
       "      <td>711624</td>\n",
       "    </tr>\n",
       "    <tr>\n",
       "      <th>2016</th>\n",
       "      <td>736121</td>\n",
       "    </tr>\n",
       "  </tbody>\n",
       "</table>\n",
       "</div>"
      ],
      "text/plain": [
       "       value\n",
       "year        \n",
       "2008  738641\n",
       "2009  717214\n",
       "2010  715324\n",
       "2011  724915\n",
       "2012  737329\n",
       "2013  686407\n",
       "2014  680183\n",
       "2015  711624\n",
       "2016  736121"
      ]
     },
     "execution_count": 17,
     "metadata": {},
     "output_type": "execute_result"
    }
   ],
   "source": [
    "total_crime = df_londoncrime.drop([\"lsoa_code\",\"borough\",\"major_category\",\"minor_category\",\"month\"], axis=1)\n",
    "total_crime = total_crime.groupby(\"year\").sum()\n",
    "total_crime"
   ]
  },
  {
   "cell_type": "code",
   "execution_count": 18,
   "id": "eae5106e",
   "metadata": {},
   "outputs": [
    {
     "data": {
      "text/html": [
       "<div>\n",
       "<style scoped>\n",
       "    .dataframe tbody tr th:only-of-type {\n",
       "        vertical-align: middle;\n",
       "    }\n",
       "\n",
       "    .dataframe tbody tr th {\n",
       "        vertical-align: top;\n",
       "    }\n",
       "\n",
       "    .dataframe thead th {\n",
       "        text-align: right;\n",
       "    }\n",
       "</style>\n",
       "<table border=\"1\" class=\"dataframe\">\n",
       "  <thead>\n",
       "    <tr style=\"text-align: right;\">\n",
       "      <th></th>\n",
       "      <th>value</th>\n",
       "    </tr>\n",
       "  </thead>\n",
       "  <tbody>\n",
       "    <tr>\n",
       "      <th>count</th>\n",
       "      <td>9.000000</td>\n",
       "    </tr>\n",
       "    <tr>\n",
       "      <th>mean</th>\n",
       "      <td>716417.555556</td>\n",
       "    </tr>\n",
       "    <tr>\n",
       "      <th>std</th>\n",
       "      <td>21301.370555</td>\n",
       "    </tr>\n",
       "    <tr>\n",
       "      <th>min</th>\n",
       "      <td>680183.000000</td>\n",
       "    </tr>\n",
       "    <tr>\n",
       "      <th>25%</th>\n",
       "      <td>711624.000000</td>\n",
       "    </tr>\n",
       "    <tr>\n",
       "      <th>50%</th>\n",
       "      <td>717214.000000</td>\n",
       "    </tr>\n",
       "    <tr>\n",
       "      <th>75%</th>\n",
       "      <td>736121.000000</td>\n",
       "    </tr>\n",
       "    <tr>\n",
       "      <th>max</th>\n",
       "      <td>738641.000000</td>\n",
       "    </tr>\n",
       "  </tbody>\n",
       "</table>\n",
       "</div>"
      ],
      "text/plain": [
       "               value\n",
       "count       9.000000\n",
       "mean   716417.555556\n",
       "std     21301.370555\n",
       "min    680183.000000\n",
       "25%    711624.000000\n",
       "50%    717214.000000\n",
       "75%    736121.000000\n",
       "max    738641.000000"
      ]
     },
     "execution_count": 18,
     "metadata": {},
     "output_type": "execute_result"
    }
   ],
   "source": [
    "# Melihat nilai statistik dari data jumlah kasus kejahatan di London tahun 2008-2016\n",
    "total_crime.describe()"
   ]
  },
  {
   "cell_type": "markdown",
   "id": "236d79b9",
   "metadata": {},
   "source": [
    "### Visualization:"
   ]
  },
  {
   "cell_type": "code",
   "execution_count": 19,
   "id": "3ceaad32",
   "metadata": {},
   "outputs": [
    {
     "data": {
      "image/png": "[encoded data removed]",
      "text/plain": [
       "<Figure size 720x360 with 1 Axes>"
      ]
     },
     "metadata": {},
     "output_type": "display_data"
    }
   ],
   "source": [
    "total_crime.plot(kind=\"box\",\n",
    "                figsize=(10,5))\n",
    "plt.title(\"Box Plot of Crime Number from 2008-2016\",fontsize=20)\n",
    "plt.show()"
   ]
  },
  {
   "cell_type": "markdown",
   "id": "c97bab7e",
   "metadata": {},
   "source": [
    "### Conclusion: "
   ]
  },
  {
   "cell_type": "markdown",
   "id": "ffce7045",
   "metadata": {},
   "source": [
    "Berdasarkan plot di atas, diketahui bahwa nilai distribusi data jumlah kasus kejahatan/kriminal di London tidak terdapat outlier atau nilai yang lebih jauh lebih besar/kecil dari data yang lain. Jumlah kasus kejahatan di London tertinggi adalah sekitar 740000, terendah sebesar 680000, dan nilai tengah di sekitar 715000."
   ]
  },
  {
   "cell_type": "markdown",
   "id": "cea1e941",
   "metadata": {},
   "source": [
    "## F. Scatter Plot"
   ]
  },
  {
   "cell_type": "markdown",
   "id": "57cd3cb3",
   "metadata": {},
   "source": [
    "Pertanyaan: Pada bulan apa jumlah kejahatan di London mencapai angka tertinggi selama tahun 2008-2016?"
   ]
  },
  {
   "cell_type": "code",
   "execution_count": 20,
   "id": "1ff290db",
   "metadata": {},
   "outputs": [
    {
     "data": {
      "text/html": [
       "<div>\n",
       "<style scoped>\n",
       "    .dataframe tbody tr th:only-of-type {\n",
       "        vertical-align: middle;\n",
       "    }\n",
       "\n",
       "    .dataframe tbody tr th {\n",
       "        vertical-align: top;\n",
       "    }\n",
       "\n",
       "    .dataframe thead th {\n",
       "        text-align: right;\n",
       "    }\n",
       "</style>\n",
       "<table border=\"1\" class=\"dataframe\">\n",
       "  <thead>\n",
       "    <tr style=\"text-align: right;\">\n",
       "      <th></th>\n",
       "      <th>month</th>\n",
       "      <th>value</th>\n",
       "    </tr>\n",
       "  </thead>\n",
       "  <tbody>\n",
       "    <tr>\n",
       "      <th>0</th>\n",
       "      <td>1</td>\n",
       "      <td>530247</td>\n",
       "    </tr>\n",
       "    <tr>\n",
       "      <th>1</th>\n",
       "      <td>2</td>\n",
       "      <td>500537</td>\n",
       "    </tr>\n",
       "    <tr>\n",
       "      <th>2</th>\n",
       "      <td>3</td>\n",
       "      <td>551795</td>\n",
       "    </tr>\n",
       "    <tr>\n",
       "      <th>3</th>\n",
       "      <td>4</td>\n",
       "      <td>520648</td>\n",
       "    </tr>\n",
       "    <tr>\n",
       "      <th>4</th>\n",
       "      <td>5</td>\n",
       "      <td>552704</td>\n",
       "    </tr>\n",
       "    <tr>\n",
       "      <th>5</th>\n",
       "      <td>6</td>\n",
       "      <td>549041</td>\n",
       "    </tr>\n",
       "    <tr>\n",
       "      <th>6</th>\n",
       "      <td>7</td>\n",
       "      <td>563076</td>\n",
       "    </tr>\n",
       "    <tr>\n",
       "      <th>7</th>\n",
       "      <td>8</td>\n",
       "      <td>532784</td>\n",
       "    </tr>\n",
       "    <tr>\n",
       "      <th>8</th>\n",
       "      <td>9</td>\n",
       "      <td>522377</td>\n",
       "    </tr>\n",
       "    <tr>\n",
       "      <th>9</th>\n",
       "      <td>10</td>\n",
       "      <td>558252</td>\n",
       "    </tr>\n",
       "    <tr>\n",
       "      <th>10</th>\n",
       "      <td>11</td>\n",
       "      <td>549671</td>\n",
       "    </tr>\n",
       "    <tr>\n",
       "      <th>11</th>\n",
       "      <td>12</td>\n",
       "      <td>516626</td>\n",
       "    </tr>\n",
       "  </tbody>\n",
       "</table>\n",
       "</div>"
      ],
      "text/plain": [
       "    month   value\n",
       "0       1  530247\n",
       "1       2  500537\n",
       "2       3  551795\n",
       "3       4  520648\n",
       "4       5  552704\n",
       "5       6  549041\n",
       "6       7  563076\n",
       "7       8  532784\n",
       "8       9  522377\n",
       "9      10  558252\n",
       "10     11  549671\n",
       "11     12  516626"
      ]
     },
     "execution_count": 20,
     "metadata": {},
     "output_type": "execute_result"
    }
   ],
   "source": [
    "month_crime = df_londoncrime.drop([\"lsoa_code\",\"borough\",\"major_category\",\"minor_category\",\"year\"], axis=1)\n",
    "month_crime = month_crime.groupby(\"month\").sum()\n",
    "month_crime = month_crime.reset_index()\n",
    "month_crime"
   ]
  },
  {
   "cell_type": "markdown",
   "id": "28e8f20a",
   "metadata": {},
   "source": [
    "### Visualization:"
   ]
  },
  {
   "cell_type": "code",
   "execution_count": 21,
   "id": "16a0162f",
   "metadata": {},
   "outputs": [
    {
     "data": {
      "image/png": "[encoded data removed]",
      "text/plain": [
       "<Figure size 1080x504 with 1 Axes>"
      ]
     },
     "metadata": {},
     "output_type": "display_data"
    }
   ],
   "source": [
    "#Memberi nama label bulan\n",
    "months = np.arange(len(month_crime[\"month\"])+1)\n",
    "name_of_months=['0','Jan','Feb','Mar','Apr','May','Jun','Jul','Aug','Sep','Oct','Nov','Dec']\n",
    "\n",
    "month_crime.plot(kind=\"scatter\", x=\"month\",y=\"value\",figsize=(15,7), color=\"darkblue\")\n",
    "plt.title(\"Number of Crime from Each Month in 2008-2016\", fontsize=20)\n",
    "plt.xlabel(\"Month\", fontsize=15)\n",
    "plt.ylabel(\"Crime Number\", fontsize=15)\n",
    "plt.xticks(months, name_of_months)\n",
    "plt.grid(color=\"grey\", linewidth=0.5)\n",
    "plt.show()"
   ]
  },
  {
   "cell_type": "markdown",
   "id": "2e51680b",
   "metadata": {},
   "source": [
    "### Conclusion: "
   ]
  },
  {
   "cell_type": "markdown",
   "id": "6acb758e",
   "metadata": {},
   "source": [
    "Bulan yang sama selama tahun 2008-2016 dijumlahkan dan dihasilkan angka kasus kejahatan di London yang paling tinggi adalah bulan Juli dan yang paling rendah adalah bulan Februari."
   ]
  },
  {
   "cell_type": "markdown",
   "id": "b1f54f7c",
   "metadata": {},
   "source": [
    "## G. Word Clouds"
   ]
  },
  {
   "cell_type": "code",
   "execution_count": 25,
   "id": "c9abbfba",
   "metadata": {},
   "outputs": [
    {
     "name": "stdout",
     "output_type": "stream",
     "text": [
      "Defaulting to user installation because normal site-packages is not writeable\n",
      "Requirement already satisfied: wordcloud in c:\\users\\hp\\appdata\\roaming\\python\\python39\\site-packages (1.8.2.2)\n",
      "Requirement already satisfied: pillow in c:\\programdata\\anaconda3\\lib\\site-packages (from wordcloud) (9.0.1)\n",
      "Requirement already satisfied: numpy>=1.6.1 in c:\\programdata\\anaconda3\\lib\\site-packages (from wordcloud) (1.21.5)\n",
      "Requirement already satisfied: matplotlib in c:\\programdata\\anaconda3\\lib\\site-packages (from wordcloud) (3.5.1)\n",
      "Requirement already satisfied: packaging>=20.0 in c:\\programdata\\anaconda3\\lib\\site-packages (from matplotlib->wordcloud) (21.3)\n",
      "Requirement already satisfied: python-dateutil>=2.7 in c:\\programdata\\anaconda3\\lib\\site-packages (from matplotlib->wordcloud) (2.8.2)\n",
      "Requirement already satisfied: fonttools>=4.22.0 in c:\\programdata\\anaconda3\\lib\\site-packages (from matplotlib->wordcloud) (4.25.0)\n",
      "Requirement already satisfied: kiwisolver>=1.0.1 in c:\\programdata\\anaconda3\\lib\\site-packages (from matplotlib->wordcloud) (1.3.2)\n",
      "Requirement already satisfied: cycler>=0.10 in c:\\programdata\\anaconda3\\lib\\site-packages (from matplotlib->wordcloud) (0.11.0)\n",
      "Requirement already satisfied: pyparsing>=2.2.1 in c:\\programdata\\anaconda3\\lib\\site-packages (from matplotlib->wordcloud) (3.0.4)\n",
      "Requirement already satisfied: six>=1.5 in c:\\programdata\\anaconda3\\lib\\site-packages (from python-dateutil>=2.7->matplotlib->wordcloud) (1.16.0)\n",
      "WordCloud is installed and imported!\n"
     ]
    }
   ],
   "source": [
    "!pip install wordcloud\n",
    "print ('WordCloud is installed and imported!')\n",
    "\n",
    "# maaf kak belum bisa"
   ]
  },
  {
   "cell_type": "markdown",
   "id": "0c304a28",
   "metadata": {},
   "source": [
    "## H. Folium Maps"
   ]
  },
  {
   "cell_type": "code",
   "execution_count": null,
   "id": "18d827b6",
   "metadata": {},
   "outputs": [],
   "source": []
  }
 ],
 "metadata": {
  "kernelspec": {
   "display_name": "Python 3.9.12 64-bit",
   "language": "python",
   "name": "python3"
  },
  "language_info": {
   "codemirror_mode": {
    "name": "ipython",
    "version": 3
   },
   "file_extension": ".py",
   "mimetype": "text/x-python",
   "name": "python",
   "nbconvert_exporter": "python",
   "pygments_lexer": "ipython3",
   "version": "3.9.12"
  },
  "vscode": {
   "interpreter": {
    "hash": "ebcece2b2ff963d440b3ef7b4275584489f994ac2d8ffb9b1b52630ea29d9e75"
   }
  }
 },
 "nbformat": 4,
 "nbformat_minor": 5
}
